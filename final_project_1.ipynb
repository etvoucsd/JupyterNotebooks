{
 "cells": [
  {
   "cell_type": "markdown",
   "metadata": {},
   "source": [
    "<center><img src=\"images/banner.png\" width=100%></center>"
   ]
  },
  {
   "cell_type": "markdown",
   "metadata": {},
   "source": [
    "Welcome to the Final Project!\n",
    "\n",
    "**Deadlines 📅**: This assignment has two deadlines. \n",
    "- The first deadline is **Thursday, November 17th at 11:59PM**. This is a **checkpoint** by which you must submit Sections 0 and 1 of the project. You may not use slip days to extend this deadline. \n",
    "- The second deadline is **Tuesday, November 29th at 11:59PM**, and this is for your completed project submission. You may use up to two slip days to extend this deadline.  If working with a partner and using slip days, slip days will be deducted from each person’s allocation individually. If one or both partners has run out of slip days and you submit the project late, we will reallocate slip days towards the final project, away from lesser-weighted assignments, [as described in the syllabus](https://dsc10.com/syllabus/#deadlines-and-slip-days). \n",
    "\n",
    "10% of your grade will come from your score on the checkpoint, and 90% of your grade will come from your score on the final submission. See the EdStem post titled \"Final Project Released!\" for more details.\n",
    "\n",
    "**Partners 👯**: You are very much encouraged to find a partner to work through the project with. If you work with a partner, you are both required to actively contribute to **all parts** of the project. Updated [partner guidelines](https://dsc10.com/pair-programming/) are available on the course website. \n",
    "\n",
    "**Rules 📜**: Don't share your code with anybody but your partner. You are welcome to discuss questions with other students, but don't share the answers. The experience of solving the problems in this project will prepare you for the final exam and your future in data science. If someone asks you for the answer, resist! Instead, you can demonstrate how you would solve a similar problem.\n",
    "\n",
    "**Support 🤝**: You are not alone! Come to office hours, post on EdStem, and talk to your classmates. If you want to ask about the details of your solution to a problem, make a private EdStem post and course staff will try to respond. All of the concepts necessary for this project were covered in lecture and can be found in the [textbook](https://inferentialthinking.com/chapters/intro.html) and [`babypandas` notes](https://notes.dsc10.com). If you are stuck on a particular problem, reading through the relevant textbook section or referencing the Jupyter notebook from lecture will often help clarify the concept. \n",
    "\n",
    "**Tests 🧪**: The `otter` tests don't usually tell you that your answer is correct. More often, they help catch basic mistakes. It's up to you to ensure that your answer is correct. Additional tests will be applied to verify the correctness of your submission in order to assign your final score, so be careful and check your work!\n",
    "\n",
    "**Advice 🦉**: First, **start early**. As you may know from the Midterm Project, projects are complex and time-consuming. Second, develop your answers incrementally. To perform a complicated task, break it up into steps, perform each step on a different line, give a new name to each result, and check that each intermediate result is what you expect. You can add any additional names or functions you want to the provided cells, and you can add additional cells as needed. Don't try to do everything in one cell without seeing the intermediate output. In particular, for simulations where you need to do something many times, first just do the process once and make sure the results look reasonable. Then wrap your code inside a `for`-loop to repeat it. Similarly, for defining functions, first write code that will produce the desired output for a single fixed input. Then, once you know it's working, you can put that code inside a function and change the input to be a variable. \n",
    "\n",
    "**Random Seeds 🌱**: This project uses random seeds, as described in [Homework 6](http://datahub.ucsd.edu/user-redirect/git-sync?repo=https://github.com/dsc-courses/dsc10-2022-fa&subPath=homeworks/hw06/hw06.ipynb). When we provide a random seed, we set the internal configurations of Python's random number generator so that it produces the same results every time, making it easier to grade your submission. You don't need to understand how random seeds work, just be aware that when you see a call to `np.random.seed`:\n",
    "- Don't change it.\n",
    "- Don't be alarmed if you see the same results each time you run that cell.\n",
    "\n",
    "**Long Simulations ⏳**: If any of your cells are taking more than five minutes to run, you are probably doing something wrong. You can sometimes speed things up by making sure you have a DataFrame of *only* the rows and columns you need to do your analysis, which should be defined outside the for loop of your simulation. When possible, try to avoid using additional `for`-loops and queries inside a simulation, and see if a faster method, like a `numpy` method or `groupby`, could be used instead. If you haven't yet watched the video we provided on when **not** to use `for`-loops, it should be well worth your time."
   ]
  },
  {
   "cell_type": "code",
   "execution_count": 1,
   "metadata": {},
   "outputs": [
    {
     "data": {
      "image/jpeg": "[encoded data removed]",
      "text/html": [
       "\n",
       "        <iframe\n",
       "            width=\"400\"\n",
       "            height=\"300\"\n",
       "            src=\"https://www.youtube.com/embed/BlczSBT80fU\"\n",
       "            frameborder=\"0\"\n",
       "            allowfullscreen\n",
       "        ></iframe>\n",
       "        "
      ],
      "text/plain": [
       "<IPython.lib.display.YouTubeVideo at 0x7f44400b8f40>"
      ]
     },
     "execution_count": 1,
     "metadata": {},
     "output_type": "execute_result"
    }
   ],
   "source": [
    "# Run this cell to watch a helpful video about when not to use for loops.\n",
    "from IPython.display import YouTubeVideo\n",
    "YouTubeVideo('BlczSBT80fU')"
   ]
  },
  {
   "cell_type": "markdown",
   "metadata": {},
   "source": [
    "Let's get started!\n",
    "\n",
    "Run the cell below to load the packages you'll need to do this project. Please do not import any additional packages – you don't need them, and the Gradescope autograder may not be able to run your code if you do."
   ]
  },
  {
   "cell_type": "code",
   "execution_count": 2,
   "metadata": {},
   "outputs": [],
   "source": [
    "# Please don't change this cell but do run it.\n",
    "import babypandas as bpd\n",
    "import numpy as np\n",
    "import matplotlib.pyplot as plt\n",
    "plt.style.use('ggplot')\n",
    "\n",
    "import otter\n",
    "grader = otter.Notebook()\n",
    "\n",
    "import warnings\n",
    "warnings.simplefilter('ignore')"
   ]
  },
  {
   "cell_type": "markdown",
   "metadata": {},
   "source": [
    "<a name='outline'></a>\n",
    "\n",
    "## Outline\n",
    "\n",
    "Use the outline below to help you quickly navigate to the part of the project you're working on. Most questions are worth 1 point. A few are worth 0 points in that they are not directly graded, but they will be indirectly graded, as the results are used in subsequent questions. Any questions that are worth more than 1 point will be marked with one ⭐ for each point. You can expect questions with ⭐ markings to be longer and more challenging than the other questions. \n",
    "\n",
    "- [Part 0: Understanding the Data 👩‍💻](#part0)  \n",
    "    - [(**Checkpoint**) Section 0: Data Cleaning 🧹](#q0)  \n",
    "- [Part 1: Never Trust the Internet 💻](#part1)  \n",
    "    - [(**Checkpoint**) Section 1: Just a Rumor, or Insider Information? 👀](#q1)  \n",
    "- [Part 2: Comparing Demographics 🙋🙋‍♂️](#part2)\n",
    "    - [Section 2: DC vs. Marvel 🥊](#q2)\n",
    "    - [Section 3: Male vs. Female Marvel Characters 🙋‍♂️🙋‍♀️](#q3)\n",
    "    - [Section 4: Even More Comparisons 🆚](#q4)\n",
    "- [Part 3: Fact or Cap? 🧢](#part3)\n",
    "    - [Section 5: What Could Have Been... 💭](#q5)\n",
    "    - [Section 6: Nonbinary Characters 🏳️‍🌈](#q6)\n",
    "- [Part 4: Fun and Games 🎮](#part4)\n",
    "    - [Section 7: Guess Who? 🤔](#q7)\n",
    "    - [Section 8: BuzzFeed 🐝](#q8)\n",
    "    - [Section 9: Action Figure Bundles 💥](#q9)"
   ]
  },
  {
   "cell_type": "markdown",
   "metadata": {},
   "source": [
    "<a name='part0'></a>\n",
    "\n",
    "## Part 0: Understanding the Data 👩‍💻\n",
    "\n",
    "<small>(<a href=\"#outline\">return to the outline</a>)</small>"
   ]
  },
  {
   "cell_type": "markdown",
   "metadata": {},
   "source": [
    "There are two major comic publishing companies in the US, Marvel Comics and DC Comics. These companies have been rivals for decades, and devoted comic fans will not hesitate to share their opinions about which company is better. As [one article](https://www.gamesradar.com/marvel-dc-rivalry-is-over/) put it, \n",
    "\n",
    ">*For decades Marvel and DC were the Coke and Pepsi … the McDonald's and Burger King … the Yankees and Red Sox of superhero publishers.* \n",
    "\n",
    "<img src=\"./images/marvel_vs_dc.jpg\" width=700/>\n",
    "\n",
    "In this project, we'll work with data gathered from [Marvel Wikia](http://marvel.wikia.com/Main_Page) and [DC Wikia](http://dc.wikia.com/wiki/Main_Page), which are publicly editable databases of all things Marvel and DC. This means our data was inputted by adoring comic fans. Our data was collected from these sites in 2014 by [FiveThirtyEight](https://fivethirtyeight.com/) and is publicly available [here](https://github.com/fivethirtyeight/data/tree/master/comic-characters). We've stored the data sets in two files, `data/dc-wikia-data.csv` and `data/marvel-wikia-data.csv`. We provide FiveThirtyEight's description of the columns in the data sets below.\n",
    "\n",
    "| Variable           | Definition |\n",
    "| :---               |    :----   |\n",
    "| `'page_id'`          | The unique identifier for that characters page within the wikia |\n",
    "| `'name'`             | The name of the character |\n",
    "| `'urlslug'`          | The unique url within the wikia that takes you to the character |\n",
    "| `'ID'`               | The identity status of the character (Secret Identity, Public Identity, [on Marvel only: No Dual Identity])|\n",
    "| `'ALIGN'`            | If the character is Good, Bad or Neutral       |\n",
    "| `'EYE'`              | Eye color of the character        |\n",
    "| `'HAIR'`             | Hair color of the character       |\n",
    "| `'SEX'`              | Sex of the character (e.g. Male, Female, etc.)        |\n",
    "| `'GSM'`              | If the character is a gender or sexual minority (e.g. Homosexual characters, Bisexual characters)       |\n",
    "| `'ALIVE'`            | If the character is alive or deceased       |\n",
    "| `'APPEARANCES'`      | The number of appareances of the character in comic books (as of Sep. 2, 2014. Number will become increasingly out of date as time goes on.)      |\n",
    "| `'FIRST APPEARANCE'`   | The month and year of the character's first appearance in a comic book, if available       |\n",
    "| `'YEAR'`      | The year of the character's first appearance in a comic book, if available       |"
   ]
  },
  {
   "cell_type": "markdown",
   "metadata": {},
   "source": [
    "We've modified the original data to fill in missing values.\n",
    "- For characters with no available data for `'ID'`, `'ALIGN'`, `'EYE'`, `'HAIR'`, `'SEX'`, or `'ALIVE'`, we've replaced missing values with the string `'Data Unavailable'`. \n",
    "- The original data only included an entry in the `'GSM'` column for gender or sexual minorities. We've replaced missing values here with the string `'Not Minority'`.\n",
    "- For characters with no available data for `'APPEARANCES'` or `'YEAR'`, we've replaced missing values with zeros. \n",
    "\n",
    "Keep in mind that since our data came from publicly editable databases, the data can (and in fact, does) have mistakes. We'll ignore these mistakes and just analyze the data as it's given. Don't try to correct any issues with the data or you may cause problems for our Gradescope autograder. (You'll learn more about how to deal with these issues in future courses, like DSC 80.)\n",
    "\n",
    "Let's read in the data and see what we'll be working with."
   ]
  },
  {
   "cell_type": "code",
   "execution_count": 3,
   "metadata": {
    "scrolled": false
   },
   "outputs": [
    {
     "data": {
      "text/html": [
       "<div>\n",
       "<style scoped>\n",
       "    .dataframe tbody tr th:only-of-type {\n",
       "        vertical-align: middle;\n",
       "    }\n",
       "\n",
       "    .dataframe tbody tr th {\n",
       "        vertical-align: top;\n",
       "    }\n",
       "\n",
       "    .dataframe thead th {\n",
       "        text-align: right;\n",
       "    }\n",
       "</style>\n",
       "<table border=\"1\" class=\"dataframe\">\n",
       "  <thead>\n",
       "    <tr style=\"text-align: right;\">\n",
       "      <th></th>\n",
       "      <th>page_id</th>\n",
       "      <th>name</th>\n",
       "      <th>urlslug</th>\n",
       "      <th>ID</th>\n",
       "      <th>ALIGN</th>\n",
       "      <th>EYE</th>\n",
       "      <th>HAIR</th>\n",
       "      <th>SEX</th>\n",
       "      <th>GSM</th>\n",
       "      <th>ALIVE</th>\n",
       "      <th>APPEARANCES</th>\n",
       "      <th>FIRST APPEARANCE</th>\n",
       "      <th>YEAR</th>\n",
       "    </tr>\n",
       "  </thead>\n",
       "  <tbody>\n",
       "    <tr>\n",
       "      <th>0</th>\n",
       "      <td>1422</td>\n",
       "      <td>Batman (Bruce Wayne)</td>\n",
       "      <td>\\/wiki\\/Batman_(Bruce_Wayne)</td>\n",
       "      <td>Secret Identity</td>\n",
       "      <td>Good Characters</td>\n",
       "      <td>Blue Eyes</td>\n",
       "      <td>Black Hair</td>\n",
       "      <td>Male Characters</td>\n",
       "      <td>Not Minority</td>\n",
       "      <td>Living Characters</td>\n",
       "      <td>3093.0</td>\n",
       "      <td>1939, May</td>\n",
       "      <td>1939.0</td>\n",
       "    </tr>\n",
       "    <tr>\n",
       "      <th>1</th>\n",
       "      <td>23387</td>\n",
       "      <td>Superman (Clark Kent)</td>\n",
       "      <td>\\/wiki\\/Superman_(Clark_Kent)</td>\n",
       "      <td>Secret Identity</td>\n",
       "      <td>Good Characters</td>\n",
       "      <td>Blue Eyes</td>\n",
       "      <td>Black Hair</td>\n",
       "      <td>Male Characters</td>\n",
       "      <td>Not Minority</td>\n",
       "      <td>Living Characters</td>\n",
       "      <td>2496.0</td>\n",
       "      <td>1986, October</td>\n",
       "      <td>1986.0</td>\n",
       "    </tr>\n",
       "    <tr>\n",
       "      <th>2</th>\n",
       "      <td>1458</td>\n",
       "      <td>Green Lantern (Hal Jordan)</td>\n",
       "      <td>\\/wiki\\/Green_Lantern_(Hal_Jordan)</td>\n",
       "      <td>Secret Identity</td>\n",
       "      <td>Good Characters</td>\n",
       "      <td>Brown Eyes</td>\n",
       "      <td>Brown Hair</td>\n",
       "      <td>Male Characters</td>\n",
       "      <td>Not Minority</td>\n",
       "      <td>Living Characters</td>\n",
       "      <td>1565.0</td>\n",
       "      <td>1959, October</td>\n",
       "      <td>1959.0</td>\n",
       "    </tr>\n",
       "    <tr>\n",
       "      <th>3</th>\n",
       "      <td>1659</td>\n",
       "      <td>James Gordon (New Earth)</td>\n",
       "      <td>\\/wiki\\/James_Gordon_(New_Earth)</td>\n",
       "      <td>Public Identity</td>\n",
       "      <td>Good Characters</td>\n",
       "      <td>Brown Eyes</td>\n",
       "      <td>White Hair</td>\n",
       "      <td>Male Characters</td>\n",
       "      <td>Not Minority</td>\n",
       "      <td>Living Characters</td>\n",
       "      <td>1316.0</td>\n",
       "      <td>1987, February</td>\n",
       "      <td>1987.0</td>\n",
       "    </tr>\n",
       "    <tr>\n",
       "      <th>4</th>\n",
       "      <td>1576</td>\n",
       "      <td>Richard Grayson (New Earth)</td>\n",
       "      <td>\\/wiki\\/Richard_Grayson_(New_Earth)</td>\n",
       "      <td>Secret Identity</td>\n",
       "      <td>Good Characters</td>\n",
       "      <td>Blue Eyes</td>\n",
       "      <td>Black Hair</td>\n",
       "      <td>Male Characters</td>\n",
       "      <td>Not Minority</td>\n",
       "      <td>Living Characters</td>\n",
       "      <td>1237.0</td>\n",
       "      <td>1940, April</td>\n",
       "      <td>1940.0</td>\n",
       "    </tr>\n",
       "    <tr>\n",
       "      <th>...</th>\n",
       "      <td>...</td>\n",
       "      <td>...</td>\n",
       "      <td>...</td>\n",
       "      <td>...</td>\n",
       "      <td>...</td>\n",
       "      <td>...</td>\n",
       "      <td>...</td>\n",
       "      <td>...</td>\n",
       "      <td>...</td>\n",
       "      <td>...</td>\n",
       "      <td>...</td>\n",
       "      <td>...</td>\n",
       "      <td>...</td>\n",
       "    </tr>\n",
       "    <tr>\n",
       "      <th>6891</th>\n",
       "      <td>66302</td>\n",
       "      <td>Nadine West (New Earth)</td>\n",
       "      <td>\\/wiki\\/Nadine_West_(New_Earth)</td>\n",
       "      <td>Public Identity</td>\n",
       "      <td>Good Characters</td>\n",
       "      <td>Data Unavailable</td>\n",
       "      <td>Data Unavailable</td>\n",
       "      <td>Female Characters</td>\n",
       "      <td>Not Minority</td>\n",
       "      <td>Living Characters</td>\n",
       "      <td>0.0</td>\n",
       "      <td>NaN</td>\n",
       "      <td>0.0</td>\n",
       "    </tr>\n",
       "    <tr>\n",
       "      <th>6892</th>\n",
       "      <td>283475</td>\n",
       "      <td>Warren Harding (New Earth)</td>\n",
       "      <td>\\/wiki\\/Warren_Harding_(New_Earth)</td>\n",
       "      <td>Public Identity</td>\n",
       "      <td>Good Characters</td>\n",
       "      <td>Data Unavailable</td>\n",
       "      <td>Data Unavailable</td>\n",
       "      <td>Male Characters</td>\n",
       "      <td>Not Minority</td>\n",
       "      <td>Living Characters</td>\n",
       "      <td>0.0</td>\n",
       "      <td>NaN</td>\n",
       "      <td>0.0</td>\n",
       "    </tr>\n",
       "    <tr>\n",
       "      <th>6893</th>\n",
       "      <td>283478</td>\n",
       "      <td>William Harrison (New Earth)</td>\n",
       "      <td>\\/wiki\\/William_Harrison_(New_Earth)</td>\n",
       "      <td>Public Identity</td>\n",
       "      <td>Good Characters</td>\n",
       "      <td>Data Unavailable</td>\n",
       "      <td>Data Unavailable</td>\n",
       "      <td>Male Characters</td>\n",
       "      <td>Not Minority</td>\n",
       "      <td>Living Characters</td>\n",
       "      <td>0.0</td>\n",
       "      <td>NaN</td>\n",
       "      <td>0.0</td>\n",
       "    </tr>\n",
       "    <tr>\n",
       "      <th>6894</th>\n",
       "      <td>283471</td>\n",
       "      <td>William McKinley (New Earth)</td>\n",
       "      <td>\\/wiki\\/William_McKinley_(New_Earth)</td>\n",
       "      <td>Public Identity</td>\n",
       "      <td>Good Characters</td>\n",
       "      <td>Data Unavailable</td>\n",
       "      <td>Data Unavailable</td>\n",
       "      <td>Male Characters</td>\n",
       "      <td>Not Minority</td>\n",
       "      <td>Living Characters</td>\n",
       "      <td>0.0</td>\n",
       "      <td>NaN</td>\n",
       "      <td>0.0</td>\n",
       "    </tr>\n",
       "    <tr>\n",
       "      <th>6895</th>\n",
       "      <td>150660</td>\n",
       "      <td>Mookie (New Earth)</td>\n",
       "      <td>\\/wiki\\/Mookie_(New_Earth)</td>\n",
       "      <td>Public Identity</td>\n",
       "      <td>Bad Characters</td>\n",
       "      <td>Blue Eyes</td>\n",
       "      <td>Blond Hair</td>\n",
       "      <td>Male Characters</td>\n",
       "      <td>Not Minority</td>\n",
       "      <td>Living Characters</td>\n",
       "      <td>0.0</td>\n",
       "      <td>NaN</td>\n",
       "      <td>0.0</td>\n",
       "    </tr>\n",
       "  </tbody>\n",
       "</table>\n",
       "<p>6896 rows × 13 columns</p>\n",
       "</div>"
      ],
      "text/plain": [
       "      page_id                          name  \\\n",
       "0        1422          Batman (Bruce Wayne)   \n",
       "1       23387         Superman (Clark Kent)   \n",
       "2        1458    Green Lantern (Hal Jordan)   \n",
       "3        1659      James Gordon (New Earth)   \n",
       "4        1576   Richard Grayson (New Earth)   \n",
       "...       ...                           ...   \n",
       "6891    66302       Nadine West (New Earth)   \n",
       "6892   283475    Warren Harding (New Earth)   \n",
       "6893   283478  William Harrison (New Earth)   \n",
       "6894   283471  William McKinley (New Earth)   \n",
       "6895   150660            Mookie (New Earth)   \n",
       "\n",
       "                                   urlslug               ID            ALIGN  \\\n",
       "0             \\/wiki\\/Batman_(Bruce_Wayne)  Secret Identity  Good Characters   \n",
       "1            \\/wiki\\/Superman_(Clark_Kent)  Secret Identity  Good Characters   \n",
       "2       \\/wiki\\/Green_Lantern_(Hal_Jordan)  Secret Identity  Good Characters   \n",
       "3         \\/wiki\\/James_Gordon_(New_Earth)  Public Identity  Good Characters   \n",
       "4      \\/wiki\\/Richard_Grayson_(New_Earth)  Secret Identity  Good Characters   \n",
       "...                                    ...              ...              ...   \n",
       "6891       \\/wiki\\/Nadine_West_(New_Earth)  Public Identity  Good Characters   \n",
       "6892    \\/wiki\\/Warren_Harding_(New_Earth)  Public Identity  Good Characters   \n",
       "6893  \\/wiki\\/William_Harrison_(New_Earth)  Public Identity  Good Characters   \n",
       "6894  \\/wiki\\/William_McKinley_(New_Earth)  Public Identity  Good Characters   \n",
       "6895            \\/wiki\\/Mookie_(New_Earth)  Public Identity   Bad Characters   \n",
       "\n",
       "                   EYE              HAIR                SEX           GSM  \\\n",
       "0            Blue Eyes        Black Hair    Male Characters  Not Minority   \n",
       "1            Blue Eyes        Black Hair    Male Characters  Not Minority   \n",
       "2           Brown Eyes        Brown Hair    Male Characters  Not Minority   \n",
       "3           Brown Eyes        White Hair    Male Characters  Not Minority   \n",
       "4            Blue Eyes        Black Hair    Male Characters  Not Minority   \n",
       "...                ...               ...                ...           ...   \n",
       "6891  Data Unavailable  Data Unavailable  Female Characters  Not Minority   \n",
       "6892  Data Unavailable  Data Unavailable    Male Characters  Not Minority   \n",
       "6893  Data Unavailable  Data Unavailable    Male Characters  Not Minority   \n",
       "6894  Data Unavailable  Data Unavailable    Male Characters  Not Minority   \n",
       "6895         Blue Eyes        Blond Hair    Male Characters  Not Minority   \n",
       "\n",
       "                  ALIVE  APPEARANCES FIRST APPEARANCE    YEAR  \n",
       "0     Living Characters       3093.0        1939, May  1939.0  \n",
       "1     Living Characters       2496.0    1986, October  1986.0  \n",
       "2     Living Characters       1565.0    1959, October  1959.0  \n",
       "3     Living Characters       1316.0   1987, February  1987.0  \n",
       "4     Living Characters       1237.0      1940, April  1940.0  \n",
       "...                 ...          ...              ...     ...  \n",
       "6891  Living Characters          0.0              NaN     0.0  \n",
       "6892  Living Characters          0.0              NaN     0.0  \n",
       "6893  Living Characters          0.0              NaN     0.0  \n",
       "6894  Living Characters          0.0              NaN     0.0  \n",
       "6895  Living Characters          0.0              NaN     0.0  \n",
       "\n",
       "[6896 rows x 13 columns]"
      ]
     },
     "execution_count": 3,
     "metadata": {},
     "output_type": "execute_result"
    }
   ],
   "source": [
    "dc_raw = bpd.read_csv('data/dc-wikia-data.csv')\n",
    "dc_raw"
   ]
  },
  {
   "cell_type": "code",
   "execution_count": 4,
   "metadata": {},
   "outputs": [
    {
     "data": {
      "text/html": [
       "<div>\n",
       "<style scoped>\n",
       "    .dataframe tbody tr th:only-of-type {\n",
       "        vertical-align: middle;\n",
       "    }\n",
       "\n",
       "    .dataframe tbody tr th {\n",
       "        vertical-align: top;\n",
       "    }\n",
       "\n",
       "    .dataframe thead th {\n",
       "        text-align: right;\n",
       "    }\n",
       "</style>\n",
       "<table border=\"1\" class=\"dataframe\">\n",
       "  <thead>\n",
       "    <tr style=\"text-align: right;\">\n",
       "      <th></th>\n",
       "      <th>page_id</th>\n",
       "      <th>name</th>\n",
       "      <th>urlslug</th>\n",
       "      <th>ID</th>\n",
       "      <th>ALIGN</th>\n",
       "      <th>EYE</th>\n",
       "      <th>HAIR</th>\n",
       "      <th>SEX</th>\n",
       "      <th>GSM</th>\n",
       "      <th>ALIVE</th>\n",
       "      <th>APPEARANCES</th>\n",
       "      <th>FIRST APPEARANCE</th>\n",
       "      <th>YEAR</th>\n",
       "    </tr>\n",
       "  </thead>\n",
       "  <tbody>\n",
       "    <tr>\n",
       "      <th>0</th>\n",
       "      <td>1678</td>\n",
       "      <td>Spider-Man (Peter Parker)</td>\n",
       "      <td>\\/Spider-Man_(Peter_Parker)</td>\n",
       "      <td>Secret Identity</td>\n",
       "      <td>Good Characters</td>\n",
       "      <td>Hazel Eyes</td>\n",
       "      <td>Brown Hair</td>\n",
       "      <td>Male Characters</td>\n",
       "      <td>Not Minority</td>\n",
       "      <td>Living Characters</td>\n",
       "      <td>4043.0</td>\n",
       "      <td>Aug-62</td>\n",
       "      <td>1962.0</td>\n",
       "    </tr>\n",
       "    <tr>\n",
       "      <th>1</th>\n",
       "      <td>7139</td>\n",
       "      <td>Captain America (Steven Rogers)</td>\n",
       "      <td>\\/Captain_America_(Steven_Rogers)</td>\n",
       "      <td>Public Identity</td>\n",
       "      <td>Good Characters</td>\n",
       "      <td>Blue Eyes</td>\n",
       "      <td>White Hair</td>\n",
       "      <td>Male Characters</td>\n",
       "      <td>Not Minority</td>\n",
       "      <td>Living Characters</td>\n",
       "      <td>3360.0</td>\n",
       "      <td>Mar-41</td>\n",
       "      <td>1941.0</td>\n",
       "    </tr>\n",
       "    <tr>\n",
       "      <th>2</th>\n",
       "      <td>64786</td>\n",
       "      <td>Wolverine (James \\\"Logan\\\" Howlett)</td>\n",
       "      <td>\\/Wolverine_(James_%22Logan%22_Howlett)</td>\n",
       "      <td>Public Identity</td>\n",
       "      <td>Neutral Characters</td>\n",
       "      <td>Blue Eyes</td>\n",
       "      <td>Black Hair</td>\n",
       "      <td>Male Characters</td>\n",
       "      <td>Not Minority</td>\n",
       "      <td>Living Characters</td>\n",
       "      <td>3061.0</td>\n",
       "      <td>Oct-74</td>\n",
       "      <td>1974.0</td>\n",
       "    </tr>\n",
       "    <tr>\n",
       "      <th>3</th>\n",
       "      <td>1868</td>\n",
       "      <td>Iron Man (Anthony \\\"Tony\\\" Stark)</td>\n",
       "      <td>\\/Iron_Man_(Anthony_%22Tony%22_Stark)</td>\n",
       "      <td>Public Identity</td>\n",
       "      <td>Good Characters</td>\n",
       "      <td>Blue Eyes</td>\n",
       "      <td>Black Hair</td>\n",
       "      <td>Male Characters</td>\n",
       "      <td>Not Minority</td>\n",
       "      <td>Living Characters</td>\n",
       "      <td>2961.0</td>\n",
       "      <td>Mar-63</td>\n",
       "      <td>1963.0</td>\n",
       "    </tr>\n",
       "    <tr>\n",
       "      <th>4</th>\n",
       "      <td>2460</td>\n",
       "      <td>Thor (Thor Odinson)</td>\n",
       "      <td>\\/Thor_(Thor_Odinson)</td>\n",
       "      <td>No Dual Identity</td>\n",
       "      <td>Good Characters</td>\n",
       "      <td>Blue Eyes</td>\n",
       "      <td>Blond Hair</td>\n",
       "      <td>Male Characters</td>\n",
       "      <td>Not Minority</td>\n",
       "      <td>Living Characters</td>\n",
       "      <td>2258.0</td>\n",
       "      <td>Nov-50</td>\n",
       "      <td>1950.0</td>\n",
       "    </tr>\n",
       "    <tr>\n",
       "      <th>...</th>\n",
       "      <td>...</td>\n",
       "      <td>...</td>\n",
       "      <td>...</td>\n",
       "      <td>...</td>\n",
       "      <td>...</td>\n",
       "      <td>...</td>\n",
       "      <td>...</td>\n",
       "      <td>...</td>\n",
       "      <td>...</td>\n",
       "      <td>...</td>\n",
       "      <td>...</td>\n",
       "      <td>...</td>\n",
       "      <td>...</td>\n",
       "    </tr>\n",
       "    <tr>\n",
       "      <th>16371</th>\n",
       "      <td>657508</td>\n",
       "      <td>Ru'ach (Earth-616)</td>\n",
       "      <td>\\/Ru%27ach_(Earth-616)</td>\n",
       "      <td>No Dual Identity</td>\n",
       "      <td>Bad Characters</td>\n",
       "      <td>Green Eyes</td>\n",
       "      <td>No Hair</td>\n",
       "      <td>Male Characters</td>\n",
       "      <td>Not Minority</td>\n",
       "      <td>Living Characters</td>\n",
       "      <td>0.0</td>\n",
       "      <td>NaN</td>\n",
       "      <td>0.0</td>\n",
       "    </tr>\n",
       "    <tr>\n",
       "      <th>16372</th>\n",
       "      <td>665474</td>\n",
       "      <td>Thane (Thanos' son) (Earth-616)</td>\n",
       "      <td>\\/Thane_(Thanos%27_son)_(Earth-616)</td>\n",
       "      <td>No Dual Identity</td>\n",
       "      <td>Good Characters</td>\n",
       "      <td>Blue Eyes</td>\n",
       "      <td>Bald</td>\n",
       "      <td>Male Characters</td>\n",
       "      <td>Not Minority</td>\n",
       "      <td>Living Characters</td>\n",
       "      <td>0.0</td>\n",
       "      <td>NaN</td>\n",
       "      <td>0.0</td>\n",
       "    </tr>\n",
       "    <tr>\n",
       "      <th>16373</th>\n",
       "      <td>695217</td>\n",
       "      <td>Tinkerer (Skrull) (Earth-616)</td>\n",
       "      <td>\\/Tinkerer_(Skrull)_(Earth-616)</td>\n",
       "      <td>Secret Identity</td>\n",
       "      <td>Bad Characters</td>\n",
       "      <td>Black Eyes</td>\n",
       "      <td>Bald</td>\n",
       "      <td>Male Characters</td>\n",
       "      <td>Not Minority</td>\n",
       "      <td>Living Characters</td>\n",
       "      <td>0.0</td>\n",
       "      <td>NaN</td>\n",
       "      <td>0.0</td>\n",
       "    </tr>\n",
       "    <tr>\n",
       "      <th>16374</th>\n",
       "      <td>708811</td>\n",
       "      <td>TK421 (Spiderling) (Earth-616)</td>\n",
       "      <td>\\/TK421_(Spiderling)_(Earth-616)</td>\n",
       "      <td>Secret Identity</td>\n",
       "      <td>Neutral Characters</td>\n",
       "      <td>Data Unavailable</td>\n",
       "      <td>Data Unavailable</td>\n",
       "      <td>Male Characters</td>\n",
       "      <td>Not Minority</td>\n",
       "      <td>Living Characters</td>\n",
       "      <td>0.0</td>\n",
       "      <td>NaN</td>\n",
       "      <td>0.0</td>\n",
       "    </tr>\n",
       "    <tr>\n",
       "      <th>16375</th>\n",
       "      <td>673702</td>\n",
       "      <td>Yologarch (Earth-616)</td>\n",
       "      <td>\\/Yologarch_(Earth-616)</td>\n",
       "      <td>Data Unavailable</td>\n",
       "      <td>Bad Characters</td>\n",
       "      <td>Data Unavailable</td>\n",
       "      <td>Data Unavailable</td>\n",
       "      <td>Data Unavailable</td>\n",
       "      <td>Not Minority</td>\n",
       "      <td>Living Characters</td>\n",
       "      <td>0.0</td>\n",
       "      <td>NaN</td>\n",
       "      <td>0.0</td>\n",
       "    </tr>\n",
       "  </tbody>\n",
       "</table>\n",
       "<p>16376 rows × 13 columns</p>\n",
       "</div>"
      ],
      "text/plain": [
       "       page_id                                 name  \\\n",
       "0         1678            Spider-Man (Peter Parker)   \n",
       "1         7139      Captain America (Steven Rogers)   \n",
       "2        64786  Wolverine (James \\\"Logan\\\" Howlett)   \n",
       "3         1868    Iron Man (Anthony \\\"Tony\\\" Stark)   \n",
       "4         2460                  Thor (Thor Odinson)   \n",
       "...        ...                                  ...   \n",
       "16371   657508                   Ru'ach (Earth-616)   \n",
       "16372   665474      Thane (Thanos' son) (Earth-616)   \n",
       "16373   695217        Tinkerer (Skrull) (Earth-616)   \n",
       "16374   708811       TK421 (Spiderling) (Earth-616)   \n",
       "16375   673702                Yologarch (Earth-616)   \n",
       "\n",
       "                                       urlslug                ID  \\\n",
       "0                  \\/Spider-Man_(Peter_Parker)   Secret Identity   \n",
       "1            \\/Captain_America_(Steven_Rogers)   Public Identity   \n",
       "2      \\/Wolverine_(James_%22Logan%22_Howlett)   Public Identity   \n",
       "3        \\/Iron_Man_(Anthony_%22Tony%22_Stark)   Public Identity   \n",
       "4                        \\/Thor_(Thor_Odinson)  No Dual Identity   \n",
       "...                                        ...               ...   \n",
       "16371                   \\/Ru%27ach_(Earth-616)  No Dual Identity   \n",
       "16372      \\/Thane_(Thanos%27_son)_(Earth-616)  No Dual Identity   \n",
       "16373          \\/Tinkerer_(Skrull)_(Earth-616)   Secret Identity   \n",
       "16374         \\/TK421_(Spiderling)_(Earth-616)   Secret Identity   \n",
       "16375                  \\/Yologarch_(Earth-616)  Data Unavailable   \n",
       "\n",
       "                    ALIGN               EYE              HAIR  \\\n",
       "0         Good Characters        Hazel Eyes        Brown Hair   \n",
       "1         Good Characters         Blue Eyes        White Hair   \n",
       "2      Neutral Characters         Blue Eyes        Black Hair   \n",
       "3         Good Characters         Blue Eyes        Black Hair   \n",
       "4         Good Characters         Blue Eyes        Blond Hair   \n",
       "...                   ...               ...               ...   \n",
       "16371      Bad Characters        Green Eyes           No Hair   \n",
       "16372     Good Characters         Blue Eyes              Bald   \n",
       "16373      Bad Characters        Black Eyes              Bald   \n",
       "16374  Neutral Characters  Data Unavailable  Data Unavailable   \n",
       "16375      Bad Characters  Data Unavailable  Data Unavailable   \n",
       "\n",
       "                    SEX           GSM              ALIVE  APPEARANCES  \\\n",
       "0       Male Characters  Not Minority  Living Characters       4043.0   \n",
       "1       Male Characters  Not Minority  Living Characters       3360.0   \n",
       "2       Male Characters  Not Minority  Living Characters       3061.0   \n",
       "3       Male Characters  Not Minority  Living Characters       2961.0   \n",
       "4       Male Characters  Not Minority  Living Characters       2258.0   \n",
       "...                 ...           ...                ...          ...   \n",
       "16371   Male Characters  Not Minority  Living Characters          0.0   \n",
       "16372   Male Characters  Not Minority  Living Characters          0.0   \n",
       "16373   Male Characters  Not Minority  Living Characters          0.0   \n",
       "16374   Male Characters  Not Minority  Living Characters          0.0   \n",
       "16375  Data Unavailable  Not Minority  Living Characters          0.0   \n",
       "\n",
       "      FIRST APPEARANCE    YEAR  \n",
       "0               Aug-62  1962.0  \n",
       "1               Mar-41  1941.0  \n",
       "2               Oct-74  1974.0  \n",
       "3               Mar-63  1963.0  \n",
       "4               Nov-50  1950.0  \n",
       "...                ...     ...  \n",
       "16371              NaN     0.0  \n",
       "16372              NaN     0.0  \n",
       "16373              NaN     0.0  \n",
       "16374              NaN     0.0  \n",
       "16375              NaN     0.0  \n",
       "\n",
       "[16376 rows x 13 columns]"
      ]
     },
     "execution_count": 4,
     "metadata": {},
     "output_type": "execute_result"
    }
   ],
   "source": [
    "marvel_raw = bpd.read_csv('data/marvel-wikia-data.csv')\n",
    "marvel_raw"
   ]
  },
  {
   "cell_type": "markdown",
   "metadata": {},
   "source": [
    "<a name='q0'></a>\n",
    "### (Checkpoint) Section 0: Data Cleaning 🧹\n",
    "<small>(<a href=\"#outline\">return to the outline</a>)</small>"
   ]
  },
  {
   "cell_type": "markdown",
   "metadata": {
    "deletable": false,
    "editable": false
   },
   "source": [
    "**Question 0.1.** There are a couple of modifications we should make to `dc_raw` and `marvel_raw` to clean them before we can proceed with our analyses.\n",
    "- We will not be using the `'page_id'`, `'urlslug'`, and `'FIRST APPEARANCE'` columns, so these should be dropped.\n",
    "- `'APPEARANCES'` and `'YEAR'` are both stored as strings, but we need them to be stored as ints.\n",
    "\n",
    "\n",
    "Below, complete the implementation of the function `clean_dataframe`, which takes a single argument, `df`, and returns a cleaned version of `df`, as detailed above. Then, use `clean_dataframe` to clean both `dc_raw` and `marvel_raw`, and store the cleaned DataFrames in the variables `dc_clean` and `marvel_clean`, respectively.\n",
    "\n",
    "<!--\n",
    "BEGIN QUESTION\n",
    "name: q0_1\n",
    "points: 1\n",
    "-->"
   ]
  },
  {
   "cell_type": "code",
   "execution_count": 5,
   "metadata": {
    "scrolled": true
   },
   "outputs": [],
   "source": [
    "def clean_dataframe(df):\n",
    "    '''Returns a cleaned version of the input DataFrame df.'''\n",
    "    df_dropped = df.drop(columns=['page_id', 'urlslug', 'FIRST APPEARANCE'])\n",
    "    df_dropped_changed = df_dropped.assign(APPEARANCES=df_dropped.get('APPEARANCES').apply(int), YEAR=df_dropped.get('YEAR').apply(int))\n",
    "    return df_dropped_changed\n",
    "    \n",
    "dc_clean = clean_dataframe(dc_raw)\n",
    "marvel_clean = clean_dataframe(marvel_raw)"
   ]
  },
  {
   "cell_type": "code",
   "execution_count": 6,
   "metadata": {
    "deletable": false,
    "editable": false
   },
   "outputs": [
    {
     "data": {
      "text/html": [
       "<p><strong><pre style='display: inline;'>q0_1</pre></strong> passed!</p>"
      ],
      "text/plain": [
       "q0_1 results: All test cases passed!"
      ]
     },
     "execution_count": 6,
     "metadata": {},
     "output_type": "execute_result"
    }
   ],
   "source": [
    "grader.check(\"q0_1\")"
   ]
  },
  {
   "cell_type": "markdown",
   "metadata": {
    "deletable": false,
    "editable": false
   },
   "source": [
    "**Question 0.2.** Currently, both `dc_clean` and `marvel_clean` are indexed by the default `babypandas` index of 0, 1, 2, 3, etc. We want to try to find a more informative index. To do that, we need to find a column whose values are all distinct (i.e. unique).\n",
    "\n",
    "Below, complete the implementation of the function `all_distinct`, which takes in a DataFrame (`df`) and the name of a column in that DataFrame (`column_name`), and returns `True` if all values in that column are distinct, and `False` otherwise.\n",
    "\n",
    "_Hint:_ Use [`np.unique`](https://numpy.org/doc/stable/reference/generated/numpy.unique.html) or the Series method `.unique()`.\n",
    "\n",
    "<!--\n",
    "BEGIN QUESTION\n",
    "name: q0_2\n",
    "points: 1\n",
    "-->"
   ]
  },
  {
   "cell_type": "code",
   "execution_count": 7,
   "metadata": {},
   "outputs": [],
   "source": [
    "def all_distinct(df, column_name):\n",
    "    '''Determines whether all values in a given column of a given DataFrame are distinct.'''\n",
    "    unique_len = len(df.get(column_name).unique())\n",
    "    total_len = len(df.get(column_name))\n",
    "    \n",
    "    return unique_len == total_len"
   ]
  },
  {
   "cell_type": "code",
   "execution_count": 8,
   "metadata": {
    "deletable": false,
    "editable": false
   },
   "outputs": [
    {
     "data": {
      "text/html": [
       "<p><strong><pre style='display: inline;'>q0_2</pre></strong> passed!</p>"
      ],
      "text/plain": [
       "q0_2 results: All test cases passed!"
      ]
     },
     "execution_count": 8,
     "metadata": {},
     "output_type": "execute_result"
    }
   ],
   "source": [
    "grader.check(\"q0_2\")"
   ]
  },
  {
   "cell_type": "markdown",
   "metadata": {},
   "source": [
    "To check your work, run the following two cells."
   ]
  },
  {
   "cell_type": "code",
   "execution_count": 9,
   "metadata": {},
   "outputs": [
    {
     "data": {
      "text/plain": [
       "True"
      ]
     },
     "execution_count": 9,
     "metadata": {},
     "output_type": "execute_result"
    }
   ],
   "source": [
    "all_distinct(dc_clean, 'name')"
   ]
  },
  {
   "cell_type": "code",
   "execution_count": 10,
   "metadata": {},
   "outputs": [
    {
     "data": {
      "text/plain": [
       "True"
      ]
     },
     "execution_count": 10,
     "metadata": {},
     "output_type": "execute_result"
    }
   ],
   "source": [
    "all_distinct(marvel_clean, 'name')"
   ]
  },
  {
   "cell_type": "markdown",
   "metadata": {},
   "source": [
    "If your implementation of `all_distinct` is correct, you should see that the `'name'` of each DC character is unique, and the `'name'` of each Marvel character is unique, so `'name'` is a good choice of index. Run the next cell to create new DataFrames `dc` and `marvel` indexed by name."
   ]
  },
  {
   "cell_type": "code",
   "execution_count": 11,
   "metadata": {},
   "outputs": [],
   "source": [
    "dc = dc_clean.set_index('name') \n",
    "marvel = marvel_clean.set_index('name') "
   ]
  },
  {
   "cell_type": "markdown",
   "metadata": {},
   "source": [
    "**For the remainder of the project, we'll work with the `dc` and `marvel` DataFrames.**"
   ]
  },
  {
   "cell_type": "markdown",
   "metadata": {},
   "source": [
    "<a name='part1'></a>\n",
    "\n",
    "## Part 1: Never Trust the Internet 💻\n",
    "\n",
    "<small>(<a href=\"#outline\">return to the outline</a>)</small>"
   ]
  },
  {
   "cell_type": "markdown",
   "metadata": {},
   "source": [
    "<a name='q1'></a>\n",
    "### (Checkpoint) Section 1: Just a Rumor, or Insider Information? 👀\n",
    "\n",
    "<small>(<a href=\"#outline\">return to the outline</a>)</small>\n",
    "\n",
    "You spend a lot of time in online forums for comic lovers. One day, you see a post by a user named \"DC Bigshot\" who claims to be a DC employee. DC Bigshot claims that when DC creates a new male character, they make him a bad character with probability 50%, a good character with probability 40%, and a neutral character with probability 10%. You want to determine whether this claim is supported by the data, so you know whether to trust DC Bigshot's claims in general."
   ]
  },
  {
   "cell_type": "markdown",
   "metadata": {
    "deletable": false,
    "editable": false
   },
   "source": [
    "**Question 1.1.** Assign `dc_align` to a DataFrame that only includes the male characters from `dc` that are considered `'Bad Characters'`, `'Good Characters'`, or `'Neutral Characters'`.\n",
    "\n",
    "<!--\n",
    "BEGIN QUESTION\n",
    "name: q1_1\n",
    "points: 1\n",
    "-->"
   ]
  },
  {
   "cell_type": "code",
   "execution_count": 12,
   "metadata": {},
   "outputs": [
    {
     "data": {
      "text/html": [
       "<div>\n",
       "<style scoped>\n",
       "    .dataframe tbody tr th:only-of-type {\n",
       "        vertical-align: middle;\n",
       "    }\n",
       "\n",
       "    .dataframe tbody tr th {\n",
       "        vertical-align: top;\n",
       "    }\n",
       "\n",
       "    .dataframe thead th {\n",
       "        text-align: right;\n",
       "    }\n",
       "</style>\n",
       "<table border=\"1\" class=\"dataframe\">\n",
       "  <thead>\n",
       "    <tr style=\"text-align: right;\">\n",
       "      <th></th>\n",
       "      <th>ID</th>\n",
       "      <th>ALIGN</th>\n",
       "      <th>EYE</th>\n",
       "      <th>HAIR</th>\n",
       "      <th>SEX</th>\n",
       "      <th>GSM</th>\n",
       "      <th>ALIVE</th>\n",
       "      <th>APPEARANCES</th>\n",
       "      <th>YEAR</th>\n",
       "    </tr>\n",
       "    <tr>\n",
       "      <th>name</th>\n",
       "      <th></th>\n",
       "      <th></th>\n",
       "      <th></th>\n",
       "      <th></th>\n",
       "      <th></th>\n",
       "      <th></th>\n",
       "      <th></th>\n",
       "      <th></th>\n",
       "      <th></th>\n",
       "    </tr>\n",
       "  </thead>\n",
       "  <tbody>\n",
       "    <tr>\n",
       "      <th>Batman (Bruce Wayne)</th>\n",
       "      <td>Secret Identity</td>\n",
       "      <td>Good Characters</td>\n",
       "      <td>Blue Eyes</td>\n",
       "      <td>Black Hair</td>\n",
       "      <td>Male Characters</td>\n",
       "      <td>Not Minority</td>\n",
       "      <td>Living Characters</td>\n",
       "      <td>3093</td>\n",
       "      <td>1939</td>\n",
       "    </tr>\n",
       "    <tr>\n",
       "      <th>Superman (Clark Kent)</th>\n",
       "      <td>Secret Identity</td>\n",
       "      <td>Good Characters</td>\n",
       "      <td>Blue Eyes</td>\n",
       "      <td>Black Hair</td>\n",
       "      <td>Male Characters</td>\n",
       "      <td>Not Minority</td>\n",
       "      <td>Living Characters</td>\n",
       "      <td>2496</td>\n",
       "      <td>1986</td>\n",
       "    </tr>\n",
       "    <tr>\n",
       "      <th>Green Lantern (Hal Jordan)</th>\n",
       "      <td>Secret Identity</td>\n",
       "      <td>Good Characters</td>\n",
       "      <td>Brown Eyes</td>\n",
       "      <td>Brown Hair</td>\n",
       "      <td>Male Characters</td>\n",
       "      <td>Not Minority</td>\n",
       "      <td>Living Characters</td>\n",
       "      <td>1565</td>\n",
       "      <td>1959</td>\n",
       "    </tr>\n",
       "    <tr>\n",
       "      <th>James Gordon (New Earth)</th>\n",
       "      <td>Public Identity</td>\n",
       "      <td>Good Characters</td>\n",
       "      <td>Brown Eyes</td>\n",
       "      <td>White Hair</td>\n",
       "      <td>Male Characters</td>\n",
       "      <td>Not Minority</td>\n",
       "      <td>Living Characters</td>\n",
       "      <td>1316</td>\n",
       "      <td>1987</td>\n",
       "    </tr>\n",
       "    <tr>\n",
       "      <th>Richard Grayson (New Earth)</th>\n",
       "      <td>Secret Identity</td>\n",
       "      <td>Good Characters</td>\n",
       "      <td>Blue Eyes</td>\n",
       "      <td>Black Hair</td>\n",
       "      <td>Male Characters</td>\n",
       "      <td>Not Minority</td>\n",
       "      <td>Living Characters</td>\n",
       "      <td>1237</td>\n",
       "      <td>1940</td>\n",
       "    </tr>\n",
       "    <tr>\n",
       "      <th>...</th>\n",
       "      <td>...</td>\n",
       "      <td>...</td>\n",
       "      <td>...</td>\n",
       "      <td>...</td>\n",
       "      <td>...</td>\n",
       "      <td>...</td>\n",
       "      <td>...</td>\n",
       "      <td>...</td>\n",
       "      <td>...</td>\n",
       "    </tr>\n",
       "    <tr>\n",
       "      <th>James Garfield (New Earth)</th>\n",
       "      <td>Public Identity</td>\n",
       "      <td>Good Characters</td>\n",
       "      <td>Data Unavailable</td>\n",
       "      <td>Data Unavailable</td>\n",
       "      <td>Male Characters</td>\n",
       "      <td>Not Minority</td>\n",
       "      <td>Living Characters</td>\n",
       "      <td>0</td>\n",
       "      <td>0</td>\n",
       "    </tr>\n",
       "    <tr>\n",
       "      <th>Warren Harding (New Earth)</th>\n",
       "      <td>Public Identity</td>\n",
       "      <td>Good Characters</td>\n",
       "      <td>Data Unavailable</td>\n",
       "      <td>Data Unavailable</td>\n",
       "      <td>Male Characters</td>\n",
       "      <td>Not Minority</td>\n",
       "      <td>Living Characters</td>\n",
       "      <td>0</td>\n",
       "      <td>0</td>\n",
       "    </tr>\n",
       "    <tr>\n",
       "      <th>William Harrison (New Earth)</th>\n",
       "      <td>Public Identity</td>\n",
       "      <td>Good Characters</td>\n",
       "      <td>Data Unavailable</td>\n",
       "      <td>Data Unavailable</td>\n",
       "      <td>Male Characters</td>\n",
       "      <td>Not Minority</td>\n",
       "      <td>Living Characters</td>\n",
       "      <td>0</td>\n",
       "      <td>0</td>\n",
       "    </tr>\n",
       "    <tr>\n",
       "      <th>William McKinley (New Earth)</th>\n",
       "      <td>Public Identity</td>\n",
       "      <td>Good Characters</td>\n",
       "      <td>Data Unavailable</td>\n",
       "      <td>Data Unavailable</td>\n",
       "      <td>Male Characters</td>\n",
       "      <td>Not Minority</td>\n",
       "      <td>Living Characters</td>\n",
       "      <td>0</td>\n",
       "      <td>0</td>\n",
       "    </tr>\n",
       "    <tr>\n",
       "      <th>Mookie (New Earth)</th>\n",
       "      <td>Public Identity</td>\n",
       "      <td>Bad Characters</td>\n",
       "      <td>Blue Eyes</td>\n",
       "      <td>Blond Hair</td>\n",
       "      <td>Male Characters</td>\n",
       "      <td>Not Minority</td>\n",
       "      <td>Living Characters</td>\n",
       "      <td>0</td>\n",
       "      <td>0</td>\n",
       "    </tr>\n",
       "  </tbody>\n",
       "</table>\n",
       "<p>4425 rows × 9 columns</p>\n",
       "</div>"
      ],
      "text/plain": [
       "                                           ID            ALIGN  \\\n",
       "name                                                             \n",
       "Batman (Bruce Wayne)          Secret Identity  Good Characters   \n",
       "Superman (Clark Kent)         Secret Identity  Good Characters   \n",
       "Green Lantern (Hal Jordan)    Secret Identity  Good Characters   \n",
       "James Gordon (New Earth)      Public Identity  Good Characters   \n",
       "Richard Grayson (New Earth)   Secret Identity  Good Characters   \n",
       "...                                       ...              ...   \n",
       "James Garfield (New Earth)    Public Identity  Good Characters   \n",
       "Warren Harding (New Earth)    Public Identity  Good Characters   \n",
       "William Harrison (New Earth)  Public Identity  Good Characters   \n",
       "William McKinley (New Earth)  Public Identity  Good Characters   \n",
       "Mookie (New Earth)            Public Identity   Bad Characters   \n",
       "\n",
       "                                           EYE              HAIR  \\\n",
       "name                                                               \n",
       "Batman (Bruce Wayne)                 Blue Eyes        Black Hair   \n",
       "Superman (Clark Kent)                Blue Eyes        Black Hair   \n",
       "Green Lantern (Hal Jordan)          Brown Eyes        Brown Hair   \n",
       "James Gordon (New Earth)            Brown Eyes        White Hair   \n",
       "Richard Grayson (New Earth)          Blue Eyes        Black Hair   \n",
       "...                                        ...               ...   \n",
       "James Garfield (New Earth)    Data Unavailable  Data Unavailable   \n",
       "Warren Harding (New Earth)    Data Unavailable  Data Unavailable   \n",
       "William Harrison (New Earth)  Data Unavailable  Data Unavailable   \n",
       "William McKinley (New Earth)  Data Unavailable  Data Unavailable   \n",
       "Mookie (New Earth)                   Blue Eyes        Blond Hair   \n",
       "\n",
       "                                          SEX           GSM  \\\n",
       "name                                                          \n",
       "Batman (Bruce Wayne)          Male Characters  Not Minority   \n",
       "Superman (Clark Kent)         Male Characters  Not Minority   \n",
       "Green Lantern (Hal Jordan)    Male Characters  Not Minority   \n",
       "James Gordon (New Earth)      Male Characters  Not Minority   \n",
       "Richard Grayson (New Earth)   Male Characters  Not Minority   \n",
       "...                                       ...           ...   \n",
       "James Garfield (New Earth)    Male Characters  Not Minority   \n",
       "Warren Harding (New Earth)    Male Characters  Not Minority   \n",
       "William Harrison (New Earth)  Male Characters  Not Minority   \n",
       "William McKinley (New Earth)  Male Characters  Not Minority   \n",
       "Mookie (New Earth)            Male Characters  Not Minority   \n",
       "\n",
       "                                          ALIVE  APPEARANCES  YEAR  \n",
       "name                                                                \n",
       "Batman (Bruce Wayne)          Living Characters         3093  1939  \n",
       "Superman (Clark Kent)         Living Characters         2496  1986  \n",
       "Green Lantern (Hal Jordan)    Living Characters         1565  1959  \n",
       "James Gordon (New Earth)      Living Characters         1316  1987  \n",
       "Richard Grayson (New Earth)   Living Characters         1237  1940  \n",
       "...                                         ...          ...   ...  \n",
       "James Garfield (New Earth)    Living Characters            0     0  \n",
       "Warren Harding (New Earth)    Living Characters            0     0  \n",
       "William Harrison (New Earth)  Living Characters            0     0  \n",
       "William McKinley (New Earth)  Living Characters            0     0  \n",
       "Mookie (New Earth)            Living Characters            0     0  \n",
       "\n",
       "[4425 rows x 9 columns]"
      ]
     },
     "execution_count": 12,
     "metadata": {},
     "output_type": "execute_result"
    }
   ],
   "source": [
    "dc_align = dc[((dc.get('ALIGN') == 'Good Characters') | \n",
    "               (dc.get('ALIGN') == 'Bad Characters') | \n",
    "               (dc.get('ALIGN') == 'Neutral Characters')) \n",
    "              & (dc.get('SEX') == 'Male Characters')]\n",
    "dc_align"
   ]
  },
  {
   "cell_type": "code",
   "execution_count": 13,
   "metadata": {
    "deletable": false,
    "editable": false
   },
   "outputs": [
    {
     "data": {
      "text/html": [
       "<p><strong><pre style='display: inline;'>q1_1</pre></strong> passed!</p>"
      ],
      "text/plain": [
       "q1_1 results: All test cases passed!"
      ]
     },
     "execution_count": 13,
     "metadata": {},
     "output_type": "execute_result"
    }
   ],
   "source": [
    "grader.check(\"q1_1\")"
   ]
  },
  {
   "cell_type": "markdown",
   "metadata": {
    "deletable": false,
    "editable": false
   },
   "source": [
    "**Question 1.2.** Assign `observed_dist` to an array containing the proportion of male DC characters that are bad, good, and neutral (in that order). Since we'll only consider these three values for `'ALIGN'`, the three proportions in your array should sum to one.\n",
    "\n",
    "<!--\n",
    "BEGIN QUESTION\n",
    "name: q1_2\n",
    "points: 1\n",
    "-->"
   ]
  },
  {
   "cell_type": "code",
   "execution_count": 14,
   "metadata": {
    "scrolled": true
   },
   "outputs": [
    {
     "data": {
      "text/plain": [
       "array([0.50237288, 0.41649718, 0.08112994])"
      ]
     },
     "execution_count": 14,
     "metadata": {},
     "output_type": "execute_result"
    }
   ],
   "source": [
    "total = dc_align.shape[0]\n",
    "good = dc_align[dc_align.get('ALIGN') == 'Good Characters'].shape[0]\n",
    "bad = dc_align[dc_align.get('ALIGN') == 'Bad Characters'].shape[0]\n",
    "neutral = dc_align[dc_align.get('ALIGN') == 'Neutral Characters'].shape[0]\n",
    "\n",
    "\n",
    "observed_dist = np.array([bad/total, good/total, neutral/total])\n",
    "observed_dist "
   ]
  },
  {
   "cell_type": "code",
   "execution_count": 15,
   "metadata": {
    "deletable": false,
    "editable": false
   },
   "outputs": [
    {
     "data": {
      "text/html": [
       "<p><strong><pre style='display: inline;'>q1_2</pre></strong> passed!</p>"
      ],
      "text/plain": [
       "q1_2 results: All test cases passed!"
      ]
     },
     "execution_count": 15,
     "metadata": {},
     "output_type": "execute_result"
    }
   ],
   "source": [
    "grader.check(\"q1_2\")"
   ]
  },
  {
   "cell_type": "markdown",
   "metadata": {},
   "source": [
    "We now have everything we need to perform a hypothesis test for the distribution of \"goodness\" among male DC characters. Our hypotheses are as follows:\n",
    "\n",
    "- **Null Hypothesis**: Among male characters from DC, there is a 50% chance that the character is bad, a 40% chance the character is good, and a 10% chance that the character is neutral. Any observed differences from this distribution are due to chance.\n",
    "\n",
    "- **Alternative Hypothesis**: Among male characters from DC, there is a different distribution of bad, good, and neutral characters.\n",
    "\n",
    "In each iteration of our simulation, we will draw the same number of characters as there are in `dc_align` at random from a population that is 50% bad, 40% good, and 10% neutral. We will then determine the proportion of characters in this sample that are bad, good, and neutral; this will give us an observed categorical distribution. We will compare this distribution to the distribution of goodness according to the null, `[0.5, 0.4, 0.1]`, using the total variation distance (TVD) as our **test statistic**.\n",
    "\n",
    "Below, we've provided an implementation of the total variation distance."
   ]
  },
  {
   "cell_type": "code",
   "execution_count": 16,
   "metadata": {},
   "outputs": [],
   "source": [
    "def total_variation_distance(dist1, dist2):\n",
    "    '''Computes the TVD between two categorical distributions, \n",
    "       assuming the categories appear in the same order.'''\n",
    "    return np.abs((dist1 - dist2)).sum() / 2"
   ]
  },
  {
   "cell_type": "markdown",
   "metadata": {},
   "source": [
    "The next cell calculates the the total variation distance between our observed distribution and the null distribution, which we'll call `align_model`."
   ]
  },
  {
   "cell_type": "code",
   "execution_count": 17,
   "metadata": {},
   "outputs": [
    {
     "data": {
      "text/plain": [
       "0.018870056497175124"
      ]
     },
     "execution_count": 17,
     "metadata": {},
     "output_type": "execute_result"
    }
   ],
   "source": [
    "align_model = [0.5, 0.4, 0.1]\n",
    "observed_tvd = total_variation_distance(observed_dist, align_model)\n",
    "observed_tvd"
   ]
  },
  {
   "cell_type": "markdown",
   "metadata": {
    "deletable": false,
    "editable": false
   },
   "source": [
    "**Question 1.3.** ⭐⭐ Generate 10,000 simulated values of the test statistic using the approach described above and place them in an array called `tvds`.\n",
    "\n",
    "<!--\n",
    "BEGIN QUESTION\n",
    "name: q1_3\n",
    "points: 2\n",
    "-->"
   ]
  },
  {
   "cell_type": "code",
   "execution_count": 18,
   "metadata": {},
   "outputs": [
    {
     "data": {
      "text/plain": [
       "array([0.00700565, 0.0079096 , 0.00881356, 0.0080226 , 0.00169492,\n",
       "       0.00531073, 0.00610169, 0.01084746, 0.00621469, 0.00666667])"
      ]
     },
     "execution_count": 18,
     "metadata": {},
     "output_type": "execute_result"
    }
   ],
   "source": [
    "np.random.seed(510717) # Don't change this!\n",
    "\n",
    "tvds = np.array([])\n",
    "\n",
    "\n",
    "for i in np.arange(10000):\n",
    "    sample_dist = np.random.multinomial(dc_align.shape[0], align_model)\n",
    "    bad_sample = sample_dist[0]\n",
    "    good_sample = sample_dist[1]\n",
    "    neutral_sample = sample_dist[2]\n",
    "    total_sample = dc_align.shape[0]\n",
    "    sample_props = np.array([bad_sample/total_sample, good_sample/total_sample, neutral_sample/total_sample])\n",
    "    tvd_sample = total_variation_distance(sample_props, align_model)\n",
    "    \n",
    "    tvds = np.append(tvds, tvd_sample)\n",
    "\n",
    "# Just display the first ten TVDs.\n",
    "tvds[:10]"
   ]
  },
  {
   "cell_type": "code",
   "execution_count": 19,
   "metadata": {
    "deletable": false,
    "editable": false
   },
   "outputs": [
    {
     "data": {
      "text/html": [
       "<p><strong><pre style='display: inline;'>q1_3</pre></strong> passed!</p>"
      ],
      "text/plain": [
       "q1_3 results: All test cases passed!"
      ]
     },
     "execution_count": 19,
     "metadata": {},
     "output_type": "execute_result"
    }
   ],
   "source": [
    "grader.check(\"q1_3\")"
   ]
  },
  {
   "cell_type": "markdown",
   "metadata": {},
   "source": [
    "Run the cell below to draw a histogram of your simulated TVDs, with a black line drawn at the observed TVD."
   ]
  },
  {
   "cell_type": "code",
   "execution_count": 20,
   "metadata": {},
   "outputs": [
    {
     "data": {
      "image/png": "[encoded data removed]",
      "text/plain": [
       "<Figure size 720x360 with 1 Axes>"
      ]
     },
     "metadata": {},
     "output_type": "display_data"
    }
   ],
   "source": [
    "bpd.DataFrame().assign(TVD=tvds).plot(kind='hist', density=True, bins=20, ec='w', figsize=(10, 5));\n",
    "plt.axvline(observed_tvd, color='black', linewidth=4, label='observed TVD');\n",
    "plt.legend();"
   ]
  },
  {
   "cell_type": "markdown",
   "metadata": {
    "deletable": false,
    "editable": false
   },
   "source": [
    "**Question 1.4.** Compute the p-value of our hypothesis test by computing the proportion of times in our simulation that we saw a TVD equal to the observed TVD or more extreme in the direction of the alternative hypothesis. Assign your result to `align_p`.\n",
    "\n",
    "<!--\n",
    "BEGIN QUESTION\n",
    "name: q1_4\n",
    "points: 1\n",
    "-->"
   ]
  },
  {
   "cell_type": "code",
   "execution_count": 21,
   "metadata": {
    "scrolled": true
   },
   "outputs": [
    {
     "data": {
      "text/plain": [
       "0.0206"
      ]
     },
     "execution_count": 21,
     "metadata": {},
     "output_type": "execute_result"
    }
   ],
   "source": [
    "align_p = np.count_nonzero(tvds >= observed_tvd)/tvds.shape[0]\n",
    "align_p"
   ]
  },
  {
   "cell_type": "code",
   "execution_count": 22,
   "metadata": {
    "deletable": false,
    "editable": false
   },
   "outputs": [
    {
     "data": {
      "text/html": [
       "<p><strong><pre style='display: inline;'>q1_4</pre></strong> passed!</p>"
      ],
      "text/plain": [
       "q1_4 results: All test cases passed!"
      ]
     },
     "execution_count": 22,
     "metadata": {},
     "output_type": "execute_result"
    }
   ],
   "source": [
    "grader.check(\"q1_4\")"
   ]
  },
  {
   "cell_type": "markdown",
   "metadata": {
    "deletable": false,
    "editable": false
   },
   "source": [
    "**Question 1.5.** What can we conclude based on the value of `align_p`? Assign `q1_conclusion` to 1, 2, or 3.\n",
    "\n",
    "1. Using a 5% cutoff, we reject the null hypothesis that among male characters from DC, there is a 50% chance that the character is bad, a 40% chance the character is good, and a 10% chance that the character is neutral.\n",
    "\n",
    "2. Using a 5% cutoff, we accept the null hypothesis.\n",
    "\n",
    "3. Using a 5% cutoff, the null hypothesis is consistent with what we observed.\n",
    "\n",
    "<!--\n",
    "BEGIN QUESTION\n",
    "name: q1_5\n",
    "points: 1\n",
    "-->"
   ]
  },
  {
   "cell_type": "code",
   "execution_count": 23,
   "metadata": {},
   "outputs": [],
   "source": [
    "q1_conclusion = 1"
   ]
  },
  {
   "cell_type": "code",
   "execution_count": 24,
   "metadata": {
    "deletable": false,
    "editable": false
   },
   "outputs": [
    {
     "data": {
      "text/html": [
       "<p><strong><pre style='display: inline;'>q1_5</pre></strong> passed!</p>"
      ],
      "text/plain": [
       "q1_5 results: All test cases passed!"
      ]
     },
     "execution_count": 24,
     "metadata": {},
     "output_type": "execute_result"
    }
   ],
   "source": [
    "grader.check(\"q1_5\")"
   ]
  },
  {
   "cell_type": "markdown",
   "metadata": {
    "deletable": false,
    "editable": false
   },
   "source": [
    "**Question 1.6.** Set the variable `new_model` to an array containing proportions for `[bad, good, neutral]` such that if we did another hypothesis test with the following hypotheses, the conclusion would be different than the hypothesis test performed above. \n",
    "\n",
    "- **Null Hypothesis**: Among male characters from DC, the distribution of bad, good, and neutral characters is given by the proportions in `new_model`.\n",
    "\n",
    "- **Alternative Hypothesis**: Among male characters from DC, there is a different distribution of bad, good, and neutral characters.\n",
    "\n",
    "_Note:_ There are many possible correct answers to this question.\n",
    "\n",
    "<!--\n",
    "BEGIN QUESTION\n",
    "name: q1_6\n",
    "points: 0\n",
    "-->"
   ]
  },
  {
   "cell_type": "code",
   "execution_count": 25,
   "metadata": {},
   "outputs": [
    {
     "data": {
      "text/plain": [
       "array([0.5 , 0.42, 0.08])"
      ]
     },
     "execution_count": 25,
     "metadata": {},
     "output_type": "execute_result"
    }
   ],
   "source": [
    "new_model = np.array([0.50, 0.42, 0.08])\n",
    "new_model"
   ]
  },
  {
   "cell_type": "code",
   "execution_count": 26,
   "metadata": {
    "deletable": false,
    "editable": false
   },
   "outputs": [
    {
     "data": {
      "text/html": [
       "<p><strong><pre style='display: inline;'>q1_6</pre></strong> passed!</p>"
      ],
      "text/plain": [
       "q1_6 results: All test cases passed!"
      ]
     },
     "execution_count": 26,
     "metadata": {},
     "output_type": "execute_result"
    }
   ],
   "source": [
    "grader.check(\"q1_6\")"
   ]
  },
  {
   "cell_type": "markdown",
   "metadata": {
    "deletable": false,
    "editable": false
   },
   "source": [
    "**Question 1.7.** To verify that you chose `new_model` correctly, conduct a hypothesis test using the total variation distance between the observed distribution and `new_model` as your test statistic.\n",
    "\n",
    "Generate 10,000 values of the test statistic and place them in an array called `new_tvds`. You should be able to do this by taking your code from 1.3 and making only small changes.\n",
    "\n",
    "<!--\n",
    "BEGIN QUESTION\n",
    "name: q1_7\n",
    "points: 0\n",
    "-->"
   ]
  },
  {
   "cell_type": "code",
   "execution_count": 27,
   "metadata": {},
   "outputs": [
    {
     "data": {
      "text/plain": [
       "array([0.00316384, 0.01186441, 0.0040678 , 0.01841808, 0.00723164,\n",
       "       0.00960452, 0.00519774, 0.0120904 , 0.0100565 , 0.00983051])"
      ]
     },
     "execution_count": 27,
     "metadata": {},
     "output_type": "execute_result"
    }
   ],
   "source": [
    "np.random.seed(432) # Don't change this!\n",
    "\n",
    "new_tvds = np.array([])\n",
    "\n",
    "for i in np.arange(10000):\n",
    "    new_sample_dist = np.random.multinomial(dc_align.shape[0], new_model)\n",
    "    new_bad_sample = new_sample_dist[0]\n",
    "    new_good_sample = new_sample_dist[1]\n",
    "    new_neutral_sample = new_sample_dist[2]\n",
    "    new_total_sample = dc_align.shape[0]\n",
    "    \n",
    "    new_sample_props = np.array([new_bad_sample/new_total_sample, new_good_sample/new_total_sample, new_neutral_sample/new_total_sample])\n",
    "    new_tvd_sample = total_variation_distance(new_sample_props, new_model)\n",
    "    \n",
    "    new_tvds = np.append(new_tvds, new_tvd_sample)\n",
    "\n",
    "# Just display the first ten TVDs.\n",
    "new_tvds[:10]"
   ]
  },
  {
   "cell_type": "code",
   "execution_count": 28,
   "metadata": {
    "deletable": false,
    "editable": false
   },
   "outputs": [
    {
     "data": {
      "text/html": [
       "<p><strong><pre style='display: inline;'>q1_7</pre></strong> passed!</p>"
      ],
      "text/plain": [
       "q1_7 results: All test cases passed!"
      ]
     },
     "execution_count": 28,
     "metadata": {},
     "output_type": "execute_result"
    }
   ],
   "source": [
    "grader.check(\"q1_7\")"
   ]
  },
  {
   "cell_type": "markdown",
   "metadata": {},
   "source": [
    "Again, we have provided code that plots a histogram with a black vertical line, allowing you to visualize the simulated estimates and observed TVD."
   ]
  },
  {
   "cell_type": "code",
   "execution_count": 29,
   "metadata": {
    "scrolled": true
   },
   "outputs": [
    {
     "data": {
      "image/png": "[encoded data removed]",
      "text/plain": [
       "<Figure size 720x360 with 1 Axes>"
      ]
     },
     "metadata": {},
     "output_type": "display_data"
    }
   ],
   "source": [
    "new_observed_tvd = total_variation_distance(observed_dist, new_model)\n",
    "\n",
    "bpd.DataFrame().assign(TVD=new_tvds).plot(kind='hist', density=True, bins=20, ec='w', figsize=(10, 5));\n",
    "plt.axvline(new_observed_tvd, color='black', linewidth=4, label='observed TVD');\n",
    "plt.legend();"
   ]
  },
  {
   "cell_type": "markdown",
   "metadata": {
    "deletable": false,
    "editable": false
   },
   "source": [
    "**Question 1.8.** Assign to `new_p` the p-value for this hypothesis test. Confirm that your hypothesis test has a different conclusion than before with a p-value cutoff of 5%.\n",
    "\n",
    "<!--\n",
    "BEGIN QUESTION\n",
    "name: q1_8\n",
    "points: 3\n",
    "-->"
   ]
  },
  {
   "cell_type": "code",
   "execution_count": 30,
   "metadata": {
    "scrolled": true
   },
   "outputs": [
    {
     "data": {
      "text/plain": [
       "0.8276"
      ]
     },
     "execution_count": 30,
     "metadata": {},
     "output_type": "execute_result"
    }
   ],
   "source": [
    "new_p = np.count_nonzero(new_tvds >= new_observed_tvd)/new_tvds.shape[0]\n",
    "new_p"
   ]
  },
  {
   "cell_type": "code",
   "execution_count": 31,
   "metadata": {
    "deletable": false,
    "editable": false
   },
   "outputs": [
    {
     "data": {
      "text/html": [
       "<p><strong><pre style='display: inline;'>q1_8</pre></strong> passed!</p>"
      ],
      "text/plain": [
       "q1_8 results: All test cases passed!"
      ]
     },
     "execution_count": 31,
     "metadata": {},
     "output_type": "execute_result"
    }
   ],
   "source": [
    "grader.check(\"q1_8\")"
   ]
  },
  {
   "cell_type": "markdown",
   "metadata": {},
   "source": [
    "**Congratulations!** You've reached the end of the **checkpoint** portion of the project. Follow the <a href=\"#submit\">instructions to submit</a> your work to the **Final Project (Checkpoint)** assignment on Gradescope."
   ]
  },
  {
   "cell_type": "markdown",
   "metadata": {},
   "source": [
    "<a name='part2'></a>\n",
    "\n",
    "## Part 2: Comparing Demographics 🙋🙋‍♂️\n",
    "\n",
    "<small>(<a href=\"#outline\">return to the outline</a>)</small>\n",
    "\n",
    "In this part, we will compare the goodness of characters from different groups, using permutation tests."
   ]
  },
  {
   "cell_type": "markdown",
   "metadata": {
    "deletable": false,
    "editable": false
   },
   "source": [
    "<a name='q2'></a>\n",
    "\n",
    "### Section 2: DC vs. Marvel 🥊\n",
    "\n",
    "<small>(<a href=\"#outline\">return to the outline</a>)</small>\n",
    "\n",
    "Let's start by comparing the goodness of DC characters and the goodness of Marvel characters. Before we conduct our permutation test, we'll need to perform a bit of DataFrame manipulation to get our data in the right format.\n",
    "\n",
    "**Question 2.1.** Below, assign `all_characters` to a DataFrame with all characters from both comic companies. Make sure the rows for DC characters appear before the rows for Marvel characters. `all_characters` should include all of the columns in `dc` and `marvel`, plus an additional column called `'COMPANY'`, containing a string, either `'DC'` or `'Marvel'`. \n",
    "\n",
    "_Hint:_ You may find the function [`np.repeat`](https://numpy.org/doc/stable/reference/generated/numpy.repeat.html) and the DataFrame method [`.append`](https://babypandas.readthedocs.io/en/latest/_autosummary/bpd.DataFrame.append.html) useful.\n",
    "\n",
    "<!--\n",
    "BEGIN QUESTION\n",
    "name: q2_1\n",
    "points: 1\n",
    "-->"
   ]
  },
  {
   "cell_type": "code",
   "execution_count": 32,
   "metadata": {},
   "outputs": [
    {
     "data": {
      "text/html": [
       "<div>\n",
       "<style scoped>\n",
       "    .dataframe tbody tr th:only-of-type {\n",
       "        vertical-align: middle;\n",
       "    }\n",
       "\n",
       "    .dataframe tbody tr th {\n",
       "        vertical-align: top;\n",
       "    }\n",
       "\n",
       "    .dataframe thead th {\n",
       "        text-align: right;\n",
       "    }\n",
       "</style>\n",
       "<table border=\"1\" class=\"dataframe\">\n",
       "  <thead>\n",
       "    <tr style=\"text-align: right;\">\n",
       "      <th></th>\n",
       "      <th>ID</th>\n",
       "      <th>ALIGN</th>\n",
       "      <th>EYE</th>\n",
       "      <th>HAIR</th>\n",
       "      <th>SEX</th>\n",
       "      <th>GSM</th>\n",
       "      <th>ALIVE</th>\n",
       "      <th>APPEARANCES</th>\n",
       "      <th>YEAR</th>\n",
       "      <th>COMPANY</th>\n",
       "    </tr>\n",
       "    <tr>\n",
       "      <th>name</th>\n",
       "      <th></th>\n",
       "      <th></th>\n",
       "      <th></th>\n",
       "      <th></th>\n",
       "      <th></th>\n",
       "      <th></th>\n",
       "      <th></th>\n",
       "      <th></th>\n",
       "      <th></th>\n",
       "      <th></th>\n",
       "    </tr>\n",
       "  </thead>\n",
       "  <tbody>\n",
       "    <tr>\n",
       "      <th>Batman (Bruce Wayne)</th>\n",
       "      <td>Secret Identity</td>\n",
       "      <td>Good Characters</td>\n",
       "      <td>Blue Eyes</td>\n",
       "      <td>Black Hair</td>\n",
       "      <td>Male Characters</td>\n",
       "      <td>Not Minority</td>\n",
       "      <td>Living Characters</td>\n",
       "      <td>3093</td>\n",
       "      <td>1939</td>\n",
       "      <td>DC</td>\n",
       "    </tr>\n",
       "    <tr>\n",
       "      <th>Superman (Clark Kent)</th>\n",
       "      <td>Secret Identity</td>\n",
       "      <td>Good Characters</td>\n",
       "      <td>Blue Eyes</td>\n",
       "      <td>Black Hair</td>\n",
       "      <td>Male Characters</td>\n",
       "      <td>Not Minority</td>\n",
       "      <td>Living Characters</td>\n",
       "      <td>2496</td>\n",
       "      <td>1986</td>\n",
       "      <td>DC</td>\n",
       "    </tr>\n",
       "    <tr>\n",
       "      <th>Green Lantern (Hal Jordan)</th>\n",
       "      <td>Secret Identity</td>\n",
       "      <td>Good Characters</td>\n",
       "      <td>Brown Eyes</td>\n",
       "      <td>Brown Hair</td>\n",
       "      <td>Male Characters</td>\n",
       "      <td>Not Minority</td>\n",
       "      <td>Living Characters</td>\n",
       "      <td>1565</td>\n",
       "      <td>1959</td>\n",
       "      <td>DC</td>\n",
       "    </tr>\n",
       "    <tr>\n",
       "      <th>James Gordon (New Earth)</th>\n",
       "      <td>Public Identity</td>\n",
       "      <td>Good Characters</td>\n",
       "      <td>Brown Eyes</td>\n",
       "      <td>White Hair</td>\n",
       "      <td>Male Characters</td>\n",
       "      <td>Not Minority</td>\n",
       "      <td>Living Characters</td>\n",
       "      <td>1316</td>\n",
       "      <td>1987</td>\n",
       "      <td>DC</td>\n",
       "    </tr>\n",
       "    <tr>\n",
       "      <th>Richard Grayson (New Earth)</th>\n",
       "      <td>Secret Identity</td>\n",
       "      <td>Good Characters</td>\n",
       "      <td>Blue Eyes</td>\n",
       "      <td>Black Hair</td>\n",
       "      <td>Male Characters</td>\n",
       "      <td>Not Minority</td>\n",
       "      <td>Living Characters</td>\n",
       "      <td>1237</td>\n",
       "      <td>1940</td>\n",
       "      <td>DC</td>\n",
       "    </tr>\n",
       "    <tr>\n",
       "      <th>...</th>\n",
       "      <td>...</td>\n",
       "      <td>...</td>\n",
       "      <td>...</td>\n",
       "      <td>...</td>\n",
       "      <td>...</td>\n",
       "      <td>...</td>\n",
       "      <td>...</td>\n",
       "      <td>...</td>\n",
       "      <td>...</td>\n",
       "      <td>...</td>\n",
       "    </tr>\n",
       "    <tr>\n",
       "      <th>Ru'ach (Earth-616)</th>\n",
       "      <td>No Dual Identity</td>\n",
       "      <td>Bad Characters</td>\n",
       "      <td>Green Eyes</td>\n",
       "      <td>No Hair</td>\n",
       "      <td>Male Characters</td>\n",
       "      <td>Not Minority</td>\n",
       "      <td>Living Characters</td>\n",
       "      <td>0</td>\n",
       "      <td>0</td>\n",
       "      <td>Marvel</td>\n",
       "    </tr>\n",
       "    <tr>\n",
       "      <th>Thane (Thanos' son) (Earth-616)</th>\n",
       "      <td>No Dual Identity</td>\n",
       "      <td>Good Characters</td>\n",
       "      <td>Blue Eyes</td>\n",
       "      <td>Bald</td>\n",
       "      <td>Male Characters</td>\n",
       "      <td>Not Minority</td>\n",
       "      <td>Living Characters</td>\n",
       "      <td>0</td>\n",
       "      <td>0</td>\n",
       "      <td>Marvel</td>\n",
       "    </tr>\n",
       "    <tr>\n",
       "      <th>Tinkerer (Skrull) (Earth-616)</th>\n",
       "      <td>Secret Identity</td>\n",
       "      <td>Bad Characters</td>\n",
       "      <td>Black Eyes</td>\n",
       "      <td>Bald</td>\n",
       "      <td>Male Characters</td>\n",
       "      <td>Not Minority</td>\n",
       "      <td>Living Characters</td>\n",
       "      <td>0</td>\n",
       "      <td>0</td>\n",
       "      <td>Marvel</td>\n",
       "    </tr>\n",
       "    <tr>\n",
       "      <th>TK421 (Spiderling) (Earth-616)</th>\n",
       "      <td>Secret Identity</td>\n",
       "      <td>Neutral Characters</td>\n",
       "      <td>Data Unavailable</td>\n",
       "      <td>Data Unavailable</td>\n",
       "      <td>Male Characters</td>\n",
       "      <td>Not Minority</td>\n",
       "      <td>Living Characters</td>\n",
       "      <td>0</td>\n",
       "      <td>0</td>\n",
       "      <td>Marvel</td>\n",
       "    </tr>\n",
       "    <tr>\n",
       "      <th>Yologarch (Earth-616)</th>\n",
       "      <td>Data Unavailable</td>\n",
       "      <td>Bad Characters</td>\n",
       "      <td>Data Unavailable</td>\n",
       "      <td>Data Unavailable</td>\n",
       "      <td>Data Unavailable</td>\n",
       "      <td>Not Minority</td>\n",
       "      <td>Living Characters</td>\n",
       "      <td>0</td>\n",
       "      <td>0</td>\n",
       "      <td>Marvel</td>\n",
       "    </tr>\n",
       "  </tbody>\n",
       "</table>\n",
       "<p>23272 rows × 10 columns</p>\n",
       "</div>"
      ],
      "text/plain": [
       "                                               ID               ALIGN  \\\n",
       "name                                                                    \n",
       "Batman (Bruce Wayne)              Secret Identity     Good Characters   \n",
       "Superman (Clark Kent)             Secret Identity     Good Characters   \n",
       "Green Lantern (Hal Jordan)        Secret Identity     Good Characters   \n",
       "James Gordon (New Earth)          Public Identity     Good Characters   \n",
       "Richard Grayson (New Earth)       Secret Identity     Good Characters   \n",
       "...                                           ...                 ...   \n",
       "Ru'ach (Earth-616)               No Dual Identity      Bad Characters   \n",
       "Thane (Thanos' son) (Earth-616)  No Dual Identity     Good Characters   \n",
       "Tinkerer (Skrull) (Earth-616)     Secret Identity      Bad Characters   \n",
       "TK421 (Spiderling) (Earth-616)    Secret Identity  Neutral Characters   \n",
       "Yologarch (Earth-616)            Data Unavailable      Bad Characters   \n",
       "\n",
       "                                              EYE              HAIR  \\\n",
       "name                                                                  \n",
       "Batman (Bruce Wayne)                    Blue Eyes        Black Hair   \n",
       "Superman (Clark Kent)                   Blue Eyes        Black Hair   \n",
       "Green Lantern (Hal Jordan)             Brown Eyes        Brown Hair   \n",
       "James Gordon (New Earth)               Brown Eyes        White Hair   \n",
       "Richard Grayson (New Earth)             Blue Eyes        Black Hair   \n",
       "...                                           ...               ...   \n",
       "Ru'ach (Earth-616)                     Green Eyes           No Hair   \n",
       "Thane (Thanos' son) (Earth-616)         Blue Eyes              Bald   \n",
       "Tinkerer (Skrull) (Earth-616)          Black Eyes              Bald   \n",
       "TK421 (Spiderling) (Earth-616)   Data Unavailable  Data Unavailable   \n",
       "Yologarch (Earth-616)            Data Unavailable  Data Unavailable   \n",
       "\n",
       "                                              SEX           GSM  \\\n",
       "name                                                              \n",
       "Batman (Bruce Wayne)              Male Characters  Not Minority   \n",
       "Superman (Clark Kent)             Male Characters  Not Minority   \n",
       "Green Lantern (Hal Jordan)        Male Characters  Not Minority   \n",
       "James Gordon (New Earth)          Male Characters  Not Minority   \n",
       "Richard Grayson (New Earth)       Male Characters  Not Minority   \n",
       "...                                           ...           ...   \n",
       "Ru'ach (Earth-616)                Male Characters  Not Minority   \n",
       "Thane (Thanos' son) (Earth-616)   Male Characters  Not Minority   \n",
       "Tinkerer (Skrull) (Earth-616)     Male Characters  Not Minority   \n",
       "TK421 (Spiderling) (Earth-616)    Male Characters  Not Minority   \n",
       "Yologarch (Earth-616)            Data Unavailable  Not Minority   \n",
       "\n",
       "                                             ALIVE  APPEARANCES  YEAR COMPANY  \n",
       "name                                                                           \n",
       "Batman (Bruce Wayne)             Living Characters         3093  1939      DC  \n",
       "Superman (Clark Kent)            Living Characters         2496  1986      DC  \n",
       "Green Lantern (Hal Jordan)       Living Characters         1565  1959      DC  \n",
       "James Gordon (New Earth)         Living Characters         1316  1987      DC  \n",
       "Richard Grayson (New Earth)      Living Characters         1237  1940      DC  \n",
       "...                                            ...          ...   ...     ...  \n",
       "Ru'ach (Earth-616)               Living Characters            0     0  Marvel  \n",
       "Thane (Thanos' son) (Earth-616)  Living Characters            0     0  Marvel  \n",
       "Tinkerer (Skrull) (Earth-616)    Living Characters            0     0  Marvel  \n",
       "TK421 (Spiderling) (Earth-616)   Living Characters            0     0  Marvel  \n",
       "Yologarch (Earth-616)            Living Characters            0     0  Marvel  \n",
       "\n",
       "[23272 rows x 10 columns]"
      ]
     },
     "execution_count": 32,
     "metadata": {},
     "output_type": "execute_result"
    }
   ],
   "source": [
    "# add 'Dc' or 'Marvel'\n",
    "dc_labeled = dc.assign(\n",
    "    COMPANY = np.repeat('DC', dc.shape[0])\n",
    ")\n",
    "marvel_labeled = marvel.assign(\n",
    "    COMPANY = np.repeat('Marvel', marvel.shape[0])\n",
    ")\n",
    "all_characters = dc_labeled.append(marvel_labeled)\n",
    "all_characters"
   ]
  },
  {
   "cell_type": "code",
   "execution_count": 33,
   "metadata": {
    "deletable": false,
    "editable": false
   },
   "outputs": [
    {
     "data": {
      "text/html": [
       "<p><strong><pre style='display: inline;'>q2_1</pre></strong> passed!</p>"
      ],
      "text/plain": [
       "q2_1 results: All test cases passed!"
      ]
     },
     "execution_count": 33,
     "metadata": {},
     "output_type": "execute_result"
    }
   ],
   "source": [
    "grader.check(\"q2_1\")"
   ]
  },
  {
   "cell_type": "markdown",
   "metadata": {
    "deletable": false,
    "editable": false
   },
   "source": [
    "**Question 2.2.** Create a new DataFrame, `all_characters_goodness`, which contains only the rows in `all_characters` where there is data in the `'ALIGN'` column (i.e., all of the rows where the value in `'ALIGN'` isn't `'Data Unavailable'`). \n",
    "\n",
    "`all_characters_goodness` should contain all of the columns in `all_characters` plus one additional column, called `'GOOD'`, that has:\n",
    "- The value `1` for `'Good Characters'`\n",
    "- The value `0` for `'Neutral Characters'` and `'Reformed Criminals'`\n",
    "- The value `-1` for `'Bad Characters'`\n",
    "\n",
    "_Hint:_ You may want to create your own function and use `.apply`.\n",
    "\n",
    "<!--\n",
    "BEGIN QUESTION\n",
    "name: q2_2\n",
    "points: 1\n",
    "-->"
   ]
  },
  {
   "cell_type": "code",
   "execution_count": 34,
   "metadata": {
    "scrolled": true
   },
   "outputs": [
    {
     "data": {
      "text/html": [
       "<div>\n",
       "<style scoped>\n",
       "    .dataframe tbody tr th:only-of-type {\n",
       "        vertical-align: middle;\n",
       "    }\n",
       "\n",
       "    .dataframe tbody tr th {\n",
       "        vertical-align: top;\n",
       "    }\n",
       "\n",
       "    .dataframe thead th {\n",
       "        text-align: right;\n",
       "    }\n",
       "</style>\n",
       "<table border=\"1\" class=\"dataframe\">\n",
       "  <thead>\n",
       "    <tr style=\"text-align: right;\">\n",
       "      <th></th>\n",
       "      <th>ID</th>\n",
       "      <th>ALIGN</th>\n",
       "      <th>EYE</th>\n",
       "      <th>HAIR</th>\n",
       "      <th>SEX</th>\n",
       "      <th>GSM</th>\n",
       "      <th>ALIVE</th>\n",
       "      <th>APPEARANCES</th>\n",
       "      <th>YEAR</th>\n",
       "      <th>COMPANY</th>\n",
       "      <th>GOOD</th>\n",
       "    </tr>\n",
       "    <tr>\n",
       "      <th>name</th>\n",
       "      <th></th>\n",
       "      <th></th>\n",
       "      <th></th>\n",
       "      <th></th>\n",
       "      <th></th>\n",
       "      <th></th>\n",
       "      <th></th>\n",
       "      <th></th>\n",
       "      <th></th>\n",
       "      <th></th>\n",
       "      <th></th>\n",
       "    </tr>\n",
       "  </thead>\n",
       "  <tbody>\n",
       "    <tr>\n",
       "      <th>Batman (Bruce Wayne)</th>\n",
       "      <td>Secret Identity</td>\n",
       "      <td>Good Characters</td>\n",
       "      <td>Blue Eyes</td>\n",
       "      <td>Black Hair</td>\n",
       "      <td>Male Characters</td>\n",
       "      <td>Not Minority</td>\n",
       "      <td>Living Characters</td>\n",
       "      <td>3093</td>\n",
       "      <td>1939</td>\n",
       "      <td>DC</td>\n",
       "      <td>1</td>\n",
       "    </tr>\n",
       "    <tr>\n",
       "      <th>Superman (Clark Kent)</th>\n",
       "      <td>Secret Identity</td>\n",
       "      <td>Good Characters</td>\n",
       "      <td>Blue Eyes</td>\n",
       "      <td>Black Hair</td>\n",
       "      <td>Male Characters</td>\n",
       "      <td>Not Minority</td>\n",
       "      <td>Living Characters</td>\n",
       "      <td>2496</td>\n",
       "      <td>1986</td>\n",
       "      <td>DC</td>\n",
       "      <td>1</td>\n",
       "    </tr>\n",
       "    <tr>\n",
       "      <th>Green Lantern (Hal Jordan)</th>\n",
       "      <td>Secret Identity</td>\n",
       "      <td>Good Characters</td>\n",
       "      <td>Brown Eyes</td>\n",
       "      <td>Brown Hair</td>\n",
       "      <td>Male Characters</td>\n",
       "      <td>Not Minority</td>\n",
       "      <td>Living Characters</td>\n",
       "      <td>1565</td>\n",
       "      <td>1959</td>\n",
       "      <td>DC</td>\n",
       "      <td>1</td>\n",
       "    </tr>\n",
       "    <tr>\n",
       "      <th>James Gordon (New Earth)</th>\n",
       "      <td>Public Identity</td>\n",
       "      <td>Good Characters</td>\n",
       "      <td>Brown Eyes</td>\n",
       "      <td>White Hair</td>\n",
       "      <td>Male Characters</td>\n",
       "      <td>Not Minority</td>\n",
       "      <td>Living Characters</td>\n",
       "      <td>1316</td>\n",
       "      <td>1987</td>\n",
       "      <td>DC</td>\n",
       "      <td>1</td>\n",
       "    </tr>\n",
       "    <tr>\n",
       "      <th>Richard Grayson (New Earth)</th>\n",
       "      <td>Secret Identity</td>\n",
       "      <td>Good Characters</td>\n",
       "      <td>Blue Eyes</td>\n",
       "      <td>Black Hair</td>\n",
       "      <td>Male Characters</td>\n",
       "      <td>Not Minority</td>\n",
       "      <td>Living Characters</td>\n",
       "      <td>1237</td>\n",
       "      <td>1940</td>\n",
       "      <td>DC</td>\n",
       "      <td>1</td>\n",
       "    </tr>\n",
       "    <tr>\n",
       "      <th>...</th>\n",
       "      <td>...</td>\n",
       "      <td>...</td>\n",
       "      <td>...</td>\n",
       "      <td>...</td>\n",
       "      <td>...</td>\n",
       "      <td>...</td>\n",
       "      <td>...</td>\n",
       "      <td>...</td>\n",
       "      <td>...</td>\n",
       "      <td>...</td>\n",
       "      <td>...</td>\n",
       "    </tr>\n",
       "    <tr>\n",
       "      <th>Ru'ach (Earth-616)</th>\n",
       "      <td>No Dual Identity</td>\n",
       "      <td>Bad Characters</td>\n",
       "      <td>Green Eyes</td>\n",
       "      <td>No Hair</td>\n",
       "      <td>Male Characters</td>\n",
       "      <td>Not Minority</td>\n",
       "      <td>Living Characters</td>\n",
       "      <td>0</td>\n",
       "      <td>0</td>\n",
       "      <td>Marvel</td>\n",
       "      <td>-1</td>\n",
       "    </tr>\n",
       "    <tr>\n",
       "      <th>Thane (Thanos' son) (Earth-616)</th>\n",
       "      <td>No Dual Identity</td>\n",
       "      <td>Good Characters</td>\n",
       "      <td>Blue Eyes</td>\n",
       "      <td>Bald</td>\n",
       "      <td>Male Characters</td>\n",
       "      <td>Not Minority</td>\n",
       "      <td>Living Characters</td>\n",
       "      <td>0</td>\n",
       "      <td>0</td>\n",
       "      <td>Marvel</td>\n",
       "      <td>1</td>\n",
       "    </tr>\n",
       "    <tr>\n",
       "      <th>Tinkerer (Skrull) (Earth-616)</th>\n",
       "      <td>Secret Identity</td>\n",
       "      <td>Bad Characters</td>\n",
       "      <td>Black Eyes</td>\n",
       "      <td>Bald</td>\n",
       "      <td>Male Characters</td>\n",
       "      <td>Not Minority</td>\n",
       "      <td>Living Characters</td>\n",
       "      <td>0</td>\n",
       "      <td>0</td>\n",
       "      <td>Marvel</td>\n",
       "      <td>-1</td>\n",
       "    </tr>\n",
       "    <tr>\n",
       "      <th>TK421 (Spiderling) (Earth-616)</th>\n",
       "      <td>Secret Identity</td>\n",
       "      <td>Neutral Characters</td>\n",
       "      <td>Data Unavailable</td>\n",
       "      <td>Data Unavailable</td>\n",
       "      <td>Male Characters</td>\n",
       "      <td>Not Minority</td>\n",
       "      <td>Living Characters</td>\n",
       "      <td>0</td>\n",
       "      <td>0</td>\n",
       "      <td>Marvel</td>\n",
       "      <td>0</td>\n",
       "    </tr>\n",
       "    <tr>\n",
       "      <th>Yologarch (Earth-616)</th>\n",
       "      <td>Data Unavailable</td>\n",
       "      <td>Bad Characters</td>\n",
       "      <td>Data Unavailable</td>\n",
       "      <td>Data Unavailable</td>\n",
       "      <td>Data Unavailable</td>\n",
       "      <td>Not Minority</td>\n",
       "      <td>Living Characters</td>\n",
       "      <td>0</td>\n",
       "      <td>0</td>\n",
       "      <td>Marvel</td>\n",
       "      <td>-1</td>\n",
       "    </tr>\n",
       "  </tbody>\n",
       "</table>\n",
       "<p>19859 rows × 11 columns</p>\n",
       "</div>"
      ],
      "text/plain": [
       "                                               ID               ALIGN  \\\n",
       "name                                                                    \n",
       "Batman (Bruce Wayne)              Secret Identity     Good Characters   \n",
       "Superman (Clark Kent)             Secret Identity     Good Characters   \n",
       "Green Lantern (Hal Jordan)        Secret Identity     Good Characters   \n",
       "James Gordon (New Earth)          Public Identity     Good Characters   \n",
       "Richard Grayson (New Earth)       Secret Identity     Good Characters   \n",
       "...                                           ...                 ...   \n",
       "Ru'ach (Earth-616)               No Dual Identity      Bad Characters   \n",
       "Thane (Thanos' son) (Earth-616)  No Dual Identity     Good Characters   \n",
       "Tinkerer (Skrull) (Earth-616)     Secret Identity      Bad Characters   \n",
       "TK421 (Spiderling) (Earth-616)    Secret Identity  Neutral Characters   \n",
       "Yologarch (Earth-616)            Data Unavailable      Bad Characters   \n",
       "\n",
       "                                              EYE              HAIR  \\\n",
       "name                                                                  \n",
       "Batman (Bruce Wayne)                    Blue Eyes        Black Hair   \n",
       "Superman (Clark Kent)                   Blue Eyes        Black Hair   \n",
       "Green Lantern (Hal Jordan)             Brown Eyes        Brown Hair   \n",
       "James Gordon (New Earth)               Brown Eyes        White Hair   \n",
       "Richard Grayson (New Earth)             Blue Eyes        Black Hair   \n",
       "...                                           ...               ...   \n",
       "Ru'ach (Earth-616)                     Green Eyes           No Hair   \n",
       "Thane (Thanos' son) (Earth-616)         Blue Eyes              Bald   \n",
       "Tinkerer (Skrull) (Earth-616)          Black Eyes              Bald   \n",
       "TK421 (Spiderling) (Earth-616)   Data Unavailable  Data Unavailable   \n",
       "Yologarch (Earth-616)            Data Unavailable  Data Unavailable   \n",
       "\n",
       "                                              SEX           GSM  \\\n",
       "name                                                              \n",
       "Batman (Bruce Wayne)              Male Characters  Not Minority   \n",
       "Superman (Clark Kent)             Male Characters  Not Minority   \n",
       "Green Lantern (Hal Jordan)        Male Characters  Not Minority   \n",
       "James Gordon (New Earth)          Male Characters  Not Minority   \n",
       "Richard Grayson (New Earth)       Male Characters  Not Minority   \n",
       "...                                           ...           ...   \n",
       "Ru'ach (Earth-616)                Male Characters  Not Minority   \n",
       "Thane (Thanos' son) (Earth-616)   Male Characters  Not Minority   \n",
       "Tinkerer (Skrull) (Earth-616)     Male Characters  Not Minority   \n",
       "TK421 (Spiderling) (Earth-616)    Male Characters  Not Minority   \n",
       "Yologarch (Earth-616)            Data Unavailable  Not Minority   \n",
       "\n",
       "                                             ALIVE  APPEARANCES  YEAR COMPANY  \\\n",
       "name                                                                            \n",
       "Batman (Bruce Wayne)             Living Characters         3093  1939      DC   \n",
       "Superman (Clark Kent)            Living Characters         2496  1986      DC   \n",
       "Green Lantern (Hal Jordan)       Living Characters         1565  1959      DC   \n",
       "James Gordon (New Earth)         Living Characters         1316  1987      DC   \n",
       "Richard Grayson (New Earth)      Living Characters         1237  1940      DC   \n",
       "...                                            ...          ...   ...     ...   \n",
       "Ru'ach (Earth-616)               Living Characters            0     0  Marvel   \n",
       "Thane (Thanos' son) (Earth-616)  Living Characters            0     0  Marvel   \n",
       "Tinkerer (Skrull) (Earth-616)    Living Characters            0     0  Marvel   \n",
       "TK421 (Spiderling) (Earth-616)   Living Characters            0     0  Marvel   \n",
       "Yologarch (Earth-616)            Living Characters            0     0  Marvel   \n",
       "\n",
       "                                 GOOD  \n",
       "name                                   \n",
       "Batman (Bruce Wayne)                1  \n",
       "Superman (Clark Kent)               1  \n",
       "Green Lantern (Hal Jordan)          1  \n",
       "James Gordon (New Earth)            1  \n",
       "Richard Grayson (New Earth)         1  \n",
       "...                               ...  \n",
       "Ru'ach (Earth-616)                 -1  \n",
       "Thane (Thanos' son) (Earth-616)     1  \n",
       "Tinkerer (Skrull) (Earth-616)      -1  \n",
       "TK421 (Spiderling) (Earth-616)      0  \n",
       "Yologarch (Earth-616)              -1  \n",
       "\n",
       "[19859 rows x 11 columns]"
      ]
     },
     "execution_count": 34,
     "metadata": {},
     "output_type": "execute_result"
    }
   ],
   "source": [
    "def goodify(data):\n",
    "    if data == 'Good Characters':\n",
    "        return 1\n",
    "    if (data == 'Neutral Characters') | (data == 'Reformed Criminals'):\n",
    "        return 0\n",
    "    if data == 'Bad Characters':\n",
    "        return -1\n",
    "\n",
    "characters_available = all_characters[all_characters.get('ALIGN') != 'Data Unavailable']\n",
    "all_characters_goodness = characters_available.assign(\n",
    "    GOOD = characters_available.get('ALIGN').apply(goodify)\n",
    ")\n",
    "all_characters_goodness"
   ]
  },
  {
   "cell_type": "code",
   "execution_count": 35,
   "metadata": {
    "deletable": false,
    "editable": false
   },
   "outputs": [
    {
     "data": {
      "text/html": [
       "<p><strong><pre style='display: inline;'>q2_2</pre></strong> passed!</p>"
      ],
      "text/plain": [
       "q2_2 results: All test cases passed!"
      ]
     },
     "execution_count": 35,
     "metadata": {},
     "output_type": "execute_result"
    }
   ],
   "source": [
    "grader.check(\"q2_2\")"
   ]
  },
  {
   "cell_type": "markdown",
   "metadata": {},
   "source": [
    "**Important:** The rest of the assignment will rely on both `all_characters` and `all_characters_goodness` being correct. Make sure you've passed all the grader checks for these questions before proceeding, and check your work carefully!"
   ]
  },
  {
   "cell_type": "markdown",
   "metadata": {},
   "source": [
    "As stated above, we're interested in comparing characters from DC to characters from Marvel. We can start to do this by grouping `all_characters_goodness` by `'COMPANY'`:"
   ]
  },
  {
   "cell_type": "code",
   "execution_count": 36,
   "metadata": {
    "scrolled": true
   },
   "outputs": [
    {
     "data": {
      "text/html": [
       "<div>\n",
       "<style scoped>\n",
       "    .dataframe tbody tr th:only-of-type {\n",
       "        vertical-align: middle;\n",
       "    }\n",
       "\n",
       "    .dataframe tbody tr th {\n",
       "        vertical-align: top;\n",
       "    }\n",
       "\n",
       "    .dataframe thead th {\n",
       "        text-align: right;\n",
       "    }\n",
       "</style>\n",
       "<table border=\"1\" class=\"dataframe\">\n",
       "  <thead>\n",
       "    <tr style=\"text-align: right;\">\n",
       "      <th></th>\n",
       "      <th>APPEARANCES</th>\n",
       "      <th>YEAR</th>\n",
       "      <th>GOOD</th>\n",
       "    </tr>\n",
       "    <tr>\n",
       "      <th>COMPANY</th>\n",
       "      <th></th>\n",
       "      <th></th>\n",
       "      <th></th>\n",
       "    </tr>\n",
       "  </thead>\n",
       "  <tbody>\n",
       "    <tr>\n",
       "      <th>DC</th>\n",
       "      <td>22.406990</td>\n",
       "      <td>1970.522160</td>\n",
       "      <td>-0.010008</td>\n",
       "    </tr>\n",
       "    <tr>\n",
       "      <th>Marvel</th>\n",
       "      <td>18.033324</td>\n",
       "      <td>1885.468888</td>\n",
       "      <td>-0.153642</td>\n",
       "    </tr>\n",
       "  </tbody>\n",
       "</table>\n",
       "</div>"
      ],
      "text/plain": [
       "         APPEARANCES         YEAR      GOOD\n",
       "COMPANY                                    \n",
       "DC         22.406990  1970.522160 -0.010008\n",
       "Marvel     18.033324  1885.468888 -0.153642"
      ]
     },
     "execution_count": 36,
     "metadata": {},
     "output_type": "execute_result"
    }
   ],
   "source": [
    "all_characters_goodness.groupby('COMPANY').mean()"
   ]
  },
  {
   "cell_type": "markdown",
   "metadata": {},
   "source": [
    "It appears that the DC characters we have in our data set are more \"good\" than the Marvel characters in our data set on average. However, we have to ask ourselves the question, \"is this difference reflective of a difference in the population of all comic characters, or did it happen by chance in our sample?\"\n",
    "\n",
    "We'll conduct a permutation test to answer that very question, but before we do that, we need to create one more function to calculate the test statistic, the difference in means."
   ]
  },
  {
   "cell_type": "markdown",
   "metadata": {
    "deletable": false,
    "editable": false
   },
   "source": [
    "**Question 2.3.** Complete the implementation of the function `diff_of_means`, which takes in five arguments:\n",
    "- `df`, a DataFrame\n",
    "- `group_column`, the name of a column in `df` that contains two distinct values\n",
    "- `group_1` and `group_2`, the two distinct values in `group_column`\n",
    "- `data_column`, a column containing numerical data\n",
    "\n",
    "and returns the difference in the mean value of `data_column` for the two groups (do `group_1` mean minus `group_2` mean).\n",
    "\n",
    "After that, use your function to assign `observed_diff` to the difference in mean goodness for DC and Marvel (do DC minus Marvel).\n",
    "\n",
    "_Hint:_ For guidance, look at the code cell immediately above this question. You will need to generalize that code as part of your solution.\n",
    "\n",
    "<!--\n",
    "BEGIN QUESTION\n",
    "name: q2_3\n",
    "points: 1\n",
    "-->"
   ]
  },
  {
   "cell_type": "code",
   "execution_count": 37,
   "metadata": {},
   "outputs": [
    {
     "data": {
      "text/plain": [
       "0.14363405070048293"
      ]
     },
     "execution_count": 37,
     "metadata": {},
     "output_type": "execute_result"
    }
   ],
   "source": [
    "def diff_of_means(df, group_column, group_1, group_2, data_column):\n",
    "    '''Returns the difference in the mean value of data_column for the groups in group_column. \n",
    "     The order is group_1 minus group_2.'''\n",
    "    means = df.groupby(group_column).mean()\n",
    "    means_1 = means.loc[group_1].get(data_column)\n",
    "    means_2 = means.loc[group_2].get(data_column)\n",
    "    return means_1 - means_2\n",
    "    \n",
    "observed_diff = diff_of_means(all_characters_goodness, 'COMPANY', 'DC', 'Marvel', 'GOOD')\n",
    "observed_diff"
   ]
  },
  {
   "cell_type": "code",
   "execution_count": 38,
   "metadata": {
    "deletable": false,
    "editable": false
   },
   "outputs": [
    {
     "data": {
      "text/html": [
       "<p><strong><pre style='display: inline;'>q2_3</pre></strong> passed!</p>"
      ],
      "text/plain": [
       "q2_3 results: All test cases passed!"
      ]
     },
     "execution_count": 38,
     "metadata": {},
     "output_type": "execute_result"
    }
   ],
   "source": [
    "grader.check(\"q2_3\")"
   ]
  },
  {
   "cell_type": "markdown",
   "metadata": {},
   "source": [
    "We're now ready to run a permutation test to compare the goodness of DC characters to the goodness of Marvel characters. Our hypotheses are as follows:\n",
    "\n",
    "- **Null Hypothesis**: The goodness of DC characters and Marvel characters come from the same distribution.\n",
    "- **Alternative Hypothesis**: DC characters are more good than Marvel characters, on average."
   ]
  },
  {
   "cell_type": "markdown",
   "metadata": {
    "deletable": false,
    "editable": false
   },
   "source": [
    "**Question 2.4.** ⭐⭐ 100 times, shuffle either the `'COMPANY'` or `'GOOD'` column in `all_characters_goodness`, and calculate the difference in mean goodness between the resulting DC characters and resulting Marvel characters (again, using DC minus Marvel). Store your differences in the array `differences`.\n",
    "\n",
    "`all_characters_goodness` has lots of rows and takes a long time to shuffle, so we're only doing 100 shuffles. Ideally, we'd do more, but even 100 shuffles might take up to a couple of minutes to run.\n",
    "\n",
    "_Note:_ We've defined a new DataFrame, `to_shuffle`, with only the columns relevant to this question. Feel free to use it if you'd like; you don't have to.\n",
    "\n",
    "<!--\n",
    "BEGIN QUESTION\n",
    "name: q2_4\n",
    "points: 2\n",
    "-->"
   ]
  },
  {
   "cell_type": "code",
   "execution_count": null,
   "metadata": {
    "scrolled": true
   },
   "outputs": [],
   "source": [
    "np.random.seed(4242) # Don't change this!\n",
    "\n",
    "to_shuffle = all_characters_goodness.get(['COMPANY', 'GOOD'])\n",
    "\n",
    "n_repetitions = 100 # This data set is so large that doing any more repetitions would take too long to run.\n",
    "\n",
    "differences = ...\n",
    "\n",
    "for i in np.arange(n_repetitions):\n",
    "    ...\n",
    "\n",
    "# Just display the first ten differences.\n",
    "differences[:10]"
   ]
  },
  {
   "cell_type": "code",
   "execution_count": null,
   "metadata": {
    "deletable": false,
    "editable": false
   },
   "outputs": [],
   "source": [
    "grader.check(\"q2_4\")"
   ]
  },
  {
   "cell_type": "markdown",
   "metadata": {},
   "source": [
    "Run the cell below to draw a histogram of your simulated differences in means, with a black line drawn at the observed difference in means."
   ]
  },
  {
   "cell_type": "code",
   "execution_count": null,
   "metadata": {
    "scrolled": true
   },
   "outputs": [],
   "source": [
    "bpd.DataFrame().assign(DifferenceInMeans=differences).plot(kind='hist', bins=20, density=True, ec='w', figsize=(10, 5));\n",
    "plt.axvline(observed_diff, color='black', linewidth=4, label='observed difference in means');\n",
    "plt.legend();"
   ]
  },
  {
   "cell_type": "markdown",
   "metadata": {
    "deletable": false,
    "editable": false
   },
   "source": [
    "**Question 2.5.** Assign `goodness_p` to the proportion of times in our simulation that we saw a difference in means equal to the observed difference or more extreme in the direction of the alternative hypothesis.\n",
    "\n",
    "<!--\n",
    "BEGIN QUESTION\n",
    "name: q2_5\n",
    "points: 1\n",
    "-->"
   ]
  },
  {
   "cell_type": "code",
   "execution_count": null,
   "metadata": {},
   "outputs": [],
   "source": [
    "goodness_p = ...\n",
    "goodness_p"
   ]
  },
  {
   "cell_type": "code",
   "execution_count": null,
   "metadata": {
    "deletable": false,
    "editable": false
   },
   "outputs": [],
   "source": [
    "grader.check(\"q2_5\")"
   ]
  },
  {
   "cell_type": "markdown",
   "metadata": {
    "slideshow": {
     "slide_type": "fragment"
    }
   },
   "source": [
    "Our histogram and p-value show it's unlikely that a difference in means as extreme as the one we observed could have happened by chance, according to our null hypothesis. Per any reasonable p-value cutoff, we'd reject the null hypothesis in this case, and conclude that DC characters are more \"good\" than Marvel characters, on average. \n",
    "\n",
    "The evidence seems to support what DC fans have been saying for decades: \"DC characters are *better* than Marvel characters!\" 👊"
   ]
  },
  {
   "cell_type": "markdown",
   "metadata": {},
   "source": [
    "<a name='q3'></a>\n",
    "\n",
    "### Section 3: Male vs. Female Marvel Characters 🙋‍♂️🙋‍♀️\n",
    "\n",
    "<small>(<a href=\"#outline\">return to the outline</a>)</small>\n",
    "\n",
    "Next, we'll conduct a permutation test to compare the goodness of male and female Marvel characters.\n",
    "\n",
    "However, instead of writing code specifically for this one example, in this section you will write code that will ultimately allow you to repeat a permutation test for **any** two groups of characters with just a single function call. Throughout this section, it will help to use your code from Section 2 as a starting point and generalize it."
   ]
  },
  {
   "cell_type": "markdown",
   "metadata": {
    "deletable": false,
    "editable": false
   },
   "source": [
    "**Question 3.1.** Complete the implementation of the function `add_good`, which takes in a DataFrame `df` and returns only the rows in `df` where there is data in the `'ALIGN'` column (i.e., all of the rows where the value in `'ALIGN'` isn't `'Data Unavailable'`). The returned DataFrame should also have one additional column, called `'GOOD'`, which contains the numerical goodness of each character as defined in Question 2.2.\n",
    "\n",
    "_Hint:_ If you defined your own function in Question 2.2, you may want to use it again here.\n",
    "\n",
    "<!--\n",
    "BEGIN QUESTION\n",
    "name: q3_1\n",
    "points: 1\n",
    "-->"
   ]
  },
  {
   "cell_type": "code",
   "execution_count": null,
   "metadata": {},
   "outputs": [],
   "source": [
    "def add_good(df):\n",
    "    '''Returns a new DataFrame with a GOOD column and keeps \n",
    "    only the rows of the input DataFrame with available alignment data.'''\n",
    "    ..."
   ]
  },
  {
   "cell_type": "code",
   "execution_count": null,
   "metadata": {
    "deletable": false,
    "editable": false
   },
   "outputs": [],
   "source": [
    "grader.check(\"q3_1\")"
   ]
  },
  {
   "cell_type": "markdown",
   "metadata": {
    "deletable": false,
    "editable": false
   },
   "source": [
    "**Question 3.2.**  Let's create a DataFrame with only the rows and columns we'll use in our permutation test. Assign `male_female` to a DataFrame containing rows for only the Marvel characters that are male or female. `male_female` should only have two columns, `'SEX'` and `'GOOD'`, as defined above.\n",
    "\n",
    "<!--\n",
    "BEGIN QUESTION\n",
    "name: q3_2\n",
    "points: 1\n",
    "-->"
   ]
  },
  {
   "cell_type": "code",
   "execution_count": null,
   "metadata": {
    "scrolled": true
   },
   "outputs": [],
   "source": [
    "male_female = ...\n",
    "male_female"
   ]
  },
  {
   "cell_type": "code",
   "execution_count": null,
   "metadata": {
    "deletable": false,
    "editable": false
   },
   "outputs": [],
   "source": [
    "grader.check(\"q3_2\")"
   ]
  },
  {
   "cell_type": "markdown",
   "metadata": {
    "deletable": false,
    "editable": false
   },
   "source": [
    "**Question 3.3.** ⭐⭐⭐⭐ In Questions 2.4 and 2.5, you...\n",
    "\n",
    "1. Computed 100 simulated differences in the mean goodness of two groups in particular (DC and Marvel), \n",
    "2. Drew a histogram of the simulated differences, with a vertical black line placed at the observed difference in means, and\n",
    "3. Computed a p-value, which was the proportion of simulations in which the simulated difference in means was equal to the observed difference in means or more extreme in the direction of the alternative hypothesis.\n",
    "\n",
    "Below, complete the implementation of the function `permutation_test`. It should do all three steps above, but for any two groups. `permutation_test` takes in the same 5 arguments as `diff_of_means`, which you defined in Question 2.3. (It contains an additional optional argument, `for_autograder`; you should ignore this.)\n",
    "\n",
    "Remember that we've defined the difference in group means to be `group_1`'s mean minus `group_2`'s mean. So, if the observed difference in means is positive, this suggests that the mean of `group_1` may be *larger* than the mean of `group_2`. In that case, we'll formulate our null and alternative hypotheses like this:\n",
    "\n",
    "- **Null Hypothesis**: `group_1`'s data and `group_2`'s data come from the same distribution.\n",
    "- **Alternative Hypothesis**: `group_1` has larger data values than `group_2`, on average.\n",
    "\n",
    "This is the setup we used in Section 2 when comparing DC characters (`group_1`) to Marvel characters (`group_2`), because the observed difference in means was positive.\n",
    "\n",
    "Conversely, if the observed difference in means is negative, this suggests that the mean of `group_1` may be *smaller* than the mean of `group_2`. In that case, we'll formulate our null and alternative hypotheses like this:\n",
    "\n",
    "- **Null Hypothesis**: `group_1`'s data and `group_2`'s data come from the same distribution.\n",
    "- **Alternative Hypothesis**: `group_1` has smaller data values than `group_2`, on average.\n",
    "\n",
    "How you set up the null and alternative hypotheses has implications for how you calculate the p-value since the p-value represents the proportion of simulations in which the simulated difference in means was equal to the observed difference in means or more extreme *in the direction of the alternative hypothesis*. \n",
    "\n",
    "<!--\n",
    "BEGIN QUESTION\n",
    "name: q3_3\n",
    "points: 4\n",
    "-->"
   ]
  },
  {
   "cell_type": "code",
   "execution_count": 46,
   "metadata": {},
   "outputs": [],
   "source": [
    "def permutation_test(df, group_column, group_1, group_2, data_column, for_autograder=False):\n",
    "    '''Performs a permutation test to compare group means for group_1 and group_2, \n",
    "    draws a histogram, and returns a p-value. '''\n",
    "    np.random.seed(4242) # Don't change this!\n",
    "\n",
    "    n_repetitions = 100\n",
    "    to_shuffle = df.get([group_column, data_column])\n",
    "    differences = np.array([])\n",
    "\n",
    "    # Do the simulation to build an array of simulated differences in group means.\n",
    "    for i in np.arange(n_repetitions):\n",
    "        shuffled = np.random.permutation(to_shuffle.get(data_column))\n",
    "        all_column_shuffled = to_shuffle.assign(\n",
    "        shuffled_column = shuffled  ## How can we do this with the variable and not 'Company'\n",
    "        )\n",
    "        differences = np.append(differences, diff_of_means(all_column_shuffled, group_column, group_1, group_2, 'shuffled_column'))\n",
    "\n",
    "    # Calculate observed difference of group means.\n",
    "    observed_diff = diff_of_means(df, group_column, group_1, group_2, data_column)\n",
    "\n",
    "    # Plot histogram.\n",
    "    if not for_autograder:\n",
    "        bpd.DataFrame().assign(DifferenceInMeans=differences).plot(kind='hist', bins=20, density=True, ec='w', figsize=(10, 5));\n",
    "        plt.axvline(observed_diff, color='black', linewidth=4, label='observed difference in means');\n",
    "        plt.legend();\n",
    "\n",
    "    # Calculate p-value.\n",
    "    if observed_diff > 0:\n",
    "        p_value = np.count_nonzero(differences >= observed_diff)/differences.shape[0]\n",
    "    else:\n",
    "        p_value = np.count_nonzero(differences <= observed_diff)/differences.shape[0]\n",
    "    return p_value"
   ]
  },
  {
   "cell_type": "code",
   "execution_count": 47,
   "metadata": {
    "deletable": false,
    "editable": false
   },
   "outputs": [
    {
     "data": {
      "text/html": [
       "<p><strong><pre style='display: inline;'>q3_3</pre></strong> passed!</p>"
      ],
      "text/plain": [
       "q3_3 results: All test cases passed!"
      ]
     },
     "execution_count": 47,
     "metadata": {},
     "output_type": "execute_result"
    }
   ],
   "source": [
    "grader.check(\"q3_3\")"
   ]
  },
  {
   "cell_type": "markdown",
   "metadata": {
    "deletable": false,
    "editable": false
   },
   "source": [
    "**Question 3.4.** Use the `male_female` DataFrame and your newly-defined `permutation_test` function to determine a p-value for a permutation test comparing the goodness of male (`group_1`) and female (`group_2`) Marvel characters. Save your result as `male_female_p`.\n",
    "\n",
    "As with Question 2.4, it might take up to a couple of minutes for this permutation test to run.\n",
    "\n",
    "<!--\n",
    "BEGIN QUESTION\n",
    "name: q3_4\n",
    "points: 1\n",
    "-->"
   ]
  },
  {
   "cell_type": "code",
   "execution_count": null,
   "metadata": {},
   "outputs": [],
   "source": [
    "male_female_p = ...\n",
    "male_female_p"
   ]
  },
  {
   "cell_type": "code",
   "execution_count": null,
   "metadata": {
    "deletable": false,
    "editable": false
   },
   "outputs": [],
   "source": [
    "grader.check(\"q3_4\")"
   ]
  },
  {
   "cell_type": "markdown",
   "metadata": {
    "deletable": false,
    "editable": false
   },
   "source": [
    "**Question 3.5.** What can we conclude based on the value of `male_female_p`? Assign `male_female_conclusion` to either 1, 2, or 3.\n",
    "\n",
    "1. Our data is consistent with the null hypothesis that male and female Marvel characters are equally good, on average.\n",
    "2. Our results suggest that female Marvel characters are significantly more good than male Marvel characters, on average.\n",
    "2. Our results suggest that male Marvel characters are significantly more good than female Marvel characters, on average.\n",
    "\n",
    "<!--\n",
    "BEGIN QUESTION\n",
    "name: q3_5\n",
    "points: 1\n",
    "-->"
   ]
  },
  {
   "cell_type": "code",
   "execution_count": null,
   "metadata": {},
   "outputs": [],
   "source": [
    "male_female_conclusion = ..."
   ]
  },
  {
   "cell_type": "code",
   "execution_count": null,
   "metadata": {
    "deletable": false,
    "editable": false
   },
   "outputs": [],
   "source": [
    "grader.check(\"q3_5\")"
   ]
  },
  {
   "attachments": {
    "image.png": {
     "image/png": "[encoded data removed]"
    }
   },
   "cell_type": "markdown",
   "metadata": {},
   "source": [
    "<a name='q4'></a>\n",
    "\n",
    "### Section 4: Even More Comparisons 🆚\n",
    "\n",
    "<small>(<a href=\"#outline\">return to the outline</a>)</small>\n",
    "\n",
    "Now that we have a framework to perform a permutation test, we can easily compare different demographics to see if one group is statistically significantly more good than another group. \n",
    "\n",
    "For each pair of groups in the table below, assign 1, 2, or 3 to the given variable name, according to this scheme:\n",
    "1. Group 1 is more good than Group 2 (at a 5% p-value cutoff).\n",
    "2. Group 2 is more good than Group 1 (at a 5% p-value cutoff).\n",
    "3. Neither group is statistically significantly more good than the other (at a 5% p-value cutoff).\n",
    "\n",
    "|Question| Group 1  | Group 2  | Variable Name |\n",
    "|---|---|---|---|\n",
    "|4.1| DC Living | DC Deceased  | `living_test` |\n",
    "|4.2| DC Blond Hair | DC Black Hair  | `hair_test` |\n",
    "|4.3| DC Secret Identity | DC Public Identity  | `identity_test` |\n",
    "|4.4| DC GSM Minority  | DC Not Minority  | `minority_test` |\n",
    "\n",
    "**Be careful**: Even though you'll be comparing two groups, not all characters will necessarily fall into one of those two groups, as some variables have more than two distinct values. When calling `permutation_test`, make sure that the DataFrame you give it only has rows for the two groups that you're trying to compare, otherwise the results of your permutation test will be invalid.\n",
    "\n",
    "**Important**: All you need to do for Section 4 is set each of the variables in the table above to 1, 2, or 3. You'll do this in the cells provided. Of course, you'll need to do some work to figure out the correct answer choice. Please follow these instructions:\n",
    "- Add new cells as needed to do the work required to determine the correct answer choice. You can add new cells by clicking the plus sign icon in the top menu.\n",
    "- Assign the variable to the correct answer choice in the cell provided.\n",
    "- Before you submit, convert any cells you added to 'Raw NBConvert' format. To change the format of a cell, click the down arrow next to the word \"Code\" in the top menu and select \"Raw NBConvert\" from the dropdown menu. If you need to modify your work later, you can convert these cells back to code. Make sure that any cells you added are in \"Raw NBConvert\" format before submitting, but that the cells that we originally provided you with are still in the original \"Code\" format.\n",
    "\n",
    "![image.png](attachment:image.png)\n",
    "\n",
    "As we mentioned earlier, the `permutation_test` function is very slow to run on our data sets, since they are so large. You'll have to run `permutation_test` to determine the correct answer to each of the four questions in this section, but by following the steps above, you'll ensure that your submission will run quickly on the Gradescope autograder."
   ]
  },
  {
   "cell_type": "markdown",
   "metadata": {},
   "source": [
    "**Question 4.1.** ⭐⭐ First, compare DC characters who are living (group 1) with those that are deceased (group 2). The `'ALIVE'` column contains whether each character is living or deceased.\n",
    "\n",
    "In the cell provided, assign the variable `living_test` to 1, 2, or 3, according to the instructions at the top of Section 4. \n",
    "\n",
    "Do all of your work in separate cells, and remember to change the format of any cells you added to \"Raw NBConvert\" before submitting."
   ]
  },
  {
   "cell_type": "code",
   "execution_count": 62,
   "metadata": {},
   "outputs": [
    {
     "data": {
      "text/plain": [
       "0.0"
      ]
     },
     "execution_count": 62,
     "metadata": {},
     "output_type": "execute_result"
    },
    {
     "data": {
      "image/png": "[encoded data removed]",
      "text/plain": [
       "<Figure size 720x360 with 1 Axes>"
      ]
     },
     "metadata": {},
     "output_type": "display_data"
    }
   ],
   "source": [
    "dc_characters_goodness = all_characters_goodness[all_characters_goodness.get('COMPANY') == 'DC']\n",
    "dc_characters_alive_goodness = dc_characters_goodness[dc_characters_goodness.get('ALIVE') != 'Data Unavailable']\n",
    "permutation_test(dc_characters_alive_goodness, 'ALIVE', 'Living Characters', 'Deceased Characters', 'GOOD')"
   ]
  },
  {
   "cell_type": "code",
   "execution_count": 72,
   "metadata": {},
   "outputs": [
    {
     "data": {
      "text/plain": [
       "0.0"
      ]
     },
     "execution_count": 72,
     "metadata": {},
     "output_type": "execute_result"
    },
    {
     "data": {
      "image/png": "[encoded data removed]",
      "text/plain": [
       "<Figure size 720x360 with 1 Axes>"
      ]
     },
     "metadata": {},
     "output_type": "display_data"
    }
   ],
   "source": [
    "permutation_test(dc_characters_alive_goodness, 'ALIVE', 'Deceased Characters', 'Living Characters', 'GOOD')"
   ]
  },
  {
   "cell_type": "code",
   "execution_count": 58,
   "metadata": {},
   "outputs": [],
   "source": [
    "# Just assign this variable to 1, 2, or 3. Don't do anything else in this cell.\n",
    "living_test = 1\n"
   ]
  },
  {
   "cell_type": "code",
   "execution_count": 59,
   "metadata": {
    "deletable": false,
    "editable": false
   },
   "outputs": [
    {
     "data": {
      "text/html": [
       "<p><strong><pre style='display: inline;'>q4_1</pre></strong> passed!</p>"
      ],
      "text/plain": [
       "q4_1 results: All test cases passed!"
      ]
     },
     "execution_count": 59,
     "metadata": {},
     "output_type": "execute_result"
    }
   ],
   "source": [
    "grader.check(\"q4_1\")"
   ]
  },
  {
   "cell_type": "markdown",
   "metadata": {
    "deletable": false,
    "editable": false
   },
   "source": [
    "**Question 4.2.** ⭐⭐ Next, compare DC characters with blond hair (group 1) to DC characters with black hair (group 2). The `'HAIR'` column contains the hair color of each character.\n",
    "\n",
    "In the cell provided, assign the variable `hair_test` to 1, 2, or 3, according to the instructions at the top of Section 4. \n",
    "\n",
    "Do all of your work in separate cells, and remember to change the format of any cells you added to \"Raw NBConvert\" before submitting.\n",
    "\n",
    "<!--\n",
    "BEGIN QUESTION\n",
    "name: q4_2\n",
    "points: 2\n",
    "-->"
   ]
  },
  {
   "cell_type": "code",
   "execution_count": 68,
   "metadata": {},
   "outputs": [
    {
     "data": {
      "text/plain": [
       "0.19"
      ]
     },
     "execution_count": 68,
     "metadata": {},
     "output_type": "execute_result"
    },
    {
     "data": {
      "image/png": "[encoded data removed]",
      "text/plain": [
       "<Figure size 720x360 with 1 Axes>"
      ]
     },
     "metadata": {},
     "output_type": "display_data"
    }
   ],
   "source": [
    "#permutation_test(dc_characters_goodness, 'ALIVE', 'Living Characters', 'Deceased Characters', 'GOOD')\n",
    "dc_characters_hair_goodness = dc_characters_goodness[(dc_characters_goodness.get('HAIR') == 'Black Hair') | (dc_characters_goodness.get('HAIR') == 'Blond Hair')]\n",
    "permutation_test(dc_characters_hair_goodness, 'HAIR', 'Blond Hair', 'Black Hair', 'GOOD')"
   ]
  },
  {
   "cell_type": "code",
   "execution_count": 69,
   "metadata": {},
   "outputs": [
    {
     "data": {
      "text/plain": [
       "0.19"
      ]
     },
     "execution_count": 69,
     "metadata": {},
     "output_type": "execute_result"
    },
    {
     "data": {
      "image/png": "[encoded data removed]",
      "text/plain": [
       "<Figure size 720x360 with 1 Axes>"
      ]
     },
     "metadata": {},
     "output_type": "display_data"
    }
   ],
   "source": [
    "permutation_test(dc_characters_hair_goodness, 'HAIR', 'Black Hair', 'Blond Hair', 'GOOD')"
   ]
  },
  {
   "cell_type": "code",
   "execution_count": 70,
   "metadata": {},
   "outputs": [],
   "source": [
    "# Just assign this variable to 1, 2, or 3. Don't do anything else in this cell.\n",
    "hair_test = 3\n"
   ]
  },
  {
   "cell_type": "code",
   "execution_count": 71,
   "metadata": {
    "deletable": false,
    "editable": false
   },
   "outputs": [
    {
     "data": {
      "text/html": [
       "<p><strong><pre style='display: inline;'>q4_2</pre></strong> passed!</p>"
      ],
      "text/plain": [
       "q4_2 results: All test cases passed!"
      ]
     },
     "execution_count": 71,
     "metadata": {},
     "output_type": "execute_result"
    }
   ],
   "source": [
    "grader.check(\"q4_2\")"
   ]
  },
  {
   "cell_type": "markdown",
   "metadata": {
    "deletable": false,
    "editable": false
   },
   "source": [
    "**Question 4.3.** ⭐⭐ Next, compare DC characters with secret identities (group 1) to DC characters with public identities (group 2). The `'ID'` column contains the identity status of each character.\n",
    "\n",
    "In the cell provided, assign the variable `identity_test` to 1, 2, or 3, according to the instructions at the top of Section 4. \n",
    "\n",
    "Do all of your work in separate cells, and remember to change the format of any cells you added to \"Raw NBConvert\" before submitting.\n",
    "<!--\n",
    "BEGIN QUESTION\n",
    "name: q4_3\n",
    "points: 2\n",
    "-->"
   ]
  },
  {
   "cell_type": "code",
   "execution_count": 77,
   "metadata": {},
   "outputs": [
    {
     "data": {
      "text/plain": [
       "0.0"
      ]
     },
     "execution_count": 77,
     "metadata": {},
     "output_type": "execute_result"
    },
    {
     "data": {
      "image/png": "[encoded data removed]",
      "text/plain": [
       "<Figure size 720x360 with 1 Axes>"
      ]
     },
     "metadata": {},
     "output_type": "display_data"
    }
   ],
   "source": [
    "dc_identity_goodness = dc_characters_goodness[(dc_characters_goodness.get('ID') == 'Secret Identity') | (dc_characters_goodness.get('ID') == 'Public Identity')]\n",
    "permutation_test(dc_identity_goodness, 'ID', 'Secret Identity', 'Public Identity', 'GOOD')"
   ]
  },
  {
   "cell_type": "code",
   "execution_count": 79,
   "metadata": {},
   "outputs": [
    {
     "data": {
      "text/plain": [
       "0.0"
      ]
     },
     "execution_count": 79,
     "metadata": {},
     "output_type": "execute_result"
    },
    {
     "data": {
      "image/png": "[encoded data removed]",
      "text/plain": [
       "<Figure size 720x360 with 1 Axes>"
      ]
     },
     "metadata": {},
     "output_type": "display_data"
    }
   ],
   "source": [
    "permutation_test(dc_identity_goodness, 'ID', 'Public Identity', 'Secret Identity', 'GOOD')"
   ]
  },
  {
   "cell_type": "code",
   "execution_count": 80,
   "metadata": {
    "scrolled": true
   },
   "outputs": [],
   "source": [
    "# Just assign this variable to 1, 2, or 3. Don't do anything else in this cell.\n",
    "identity_test = 2\n"
   ]
  },
  {
   "cell_type": "code",
   "execution_count": 81,
   "metadata": {
    "deletable": false,
    "editable": false
   },
   "outputs": [
    {
     "data": {
      "text/html": [
       "<p><strong><pre style='display: inline;'>q4_3</pre></strong> passed!</p>"
      ],
      "text/plain": [
       "q4_3 results: All test cases passed!"
      ]
     },
     "execution_count": 81,
     "metadata": {},
     "output_type": "execute_result"
    }
   ],
   "source": [
    "grader.check(\"q4_3\")"
   ]
  },
  {
   "cell_type": "markdown",
   "metadata": {
    "deletable": false,
    "editable": false
   },
   "source": [
    "**Question 4.4.** ⭐⭐ Finally, compare DC characters who are a gender or sexual minority (group 1) to DC characters who are not a gender or sexual minority (group 2). The `'GSM'` column contains information about whether or not each character is a gender or sexual minority.\n",
    "\n",
    "Before you proceed, note that there are three unique values in the `'GSM'` column of `dc`. One of them is `'Not Minority'`; both of the other two should be counted as `'Minority'` for the purposes of this test. This means that before calling `permutation_test`, you'll need to create a function and use it with `.apply` to create a DataFrame with a new column containing only the values `'Not Minority'` and `'Minority'`.\n",
    "\n",
    "In the cell provided, assign the variable `living_test` to 1, 2, or 3, according to the instructions at the top of Section 4. \n",
    "\n",
    "Do all of your work in separate cells, and remember to change the format of any cells you added to \"Raw NBConvert\" before submitting.\n",
    "\n",
    "<!--\n",
    "BEGIN QUESTION\n",
    "name: q4_4\n",
    "points: 2\n",
    "-->"
   ]
  },
  {
   "cell_type": "code",
   "execution_count": 91,
   "metadata": {},
   "outputs": [
    {
     "data": {
      "text/plain": [
       "0.0"
      ]
     },
     "execution_count": 91,
     "metadata": {},
     "output_type": "execute_result"
    },
    {
     "data": {
      "image/png": "[encoded data removed]",
      "text/plain": [
       "<Figure size 720x360 with 1 Axes>"
      ]
     },
     "metadata": {},
     "output_type": "display_data"
    }
   ],
   "source": [
    "#dc_minority_goodness = \n",
    "def minority(string):\n",
    "    if (string != 'Not Minority') & (string != 'Minority'):\n",
    "        return 'Minority'\n",
    "    else:\n",
    "        return string\n",
    "\n",
    "#dc_minorities = dc_characters_goodness[(dc_characters_goodness.get('GSM') != 'Not Minority') & (dc_characters_goodness.get('GSM') != 'Minority')]\n",
    "dc_minorities = dc_characters_goodness.assign(GSM_FILT = dc_characters_goodness.get('GSM').apply(minority))\n",
    "permutation_test(dc_minorities, 'GSM_FILT', 'Not Minority', \"Minority\", 'GOOD')\n",
    "# test = dc_minorities[(dc_minorities.get('GSM') != 'Not Minority')]\n",
    "# test"
   ]
  },
  {
   "cell_type": "code",
   "execution_count": 92,
   "metadata": {},
   "outputs": [
    {
     "data": {
      "text/plain": [
       "0.0"
      ]
     },
     "execution_count": 92,
     "metadata": {},
     "output_type": "execute_result"
    },
    {
     "data": {
      "image/png": "[encoded data removed]",
      "text/plain": [
       "<Figure size 720x360 with 1 Axes>"
      ]
     },
     "metadata": {},
     "output_type": "display_data"
    }
   ],
   "source": [
    "permutation_test(dc_minorities, 'GSM_FILT', 'Minority', \"Not Minority\", 'GOOD')\n"
   ]
  },
  {
   "cell_type": "code",
   "execution_count": 109,
   "metadata": {
    "scrolled": true
   },
   "outputs": [],
   "source": [
    "# Just assign this variable to 1, 2, or 3. Don't do anything else in this cell.\n",
    "minority_test = 1\n"
   ]
  },
  {
   "cell_type": "code",
   "execution_count": 110,
   "metadata": {
    "deletable": false,
    "editable": false
   },
   "outputs": [
    {
     "data": {
      "text/html": [
       "<p><strong><pre style='display: inline;'>q4_4</pre></strong> passed!</p>"
      ],
      "text/plain": [
       "q4_4 results: All test cases passed!"
      ]
     },
     "execution_count": 110,
     "metadata": {},
     "output_type": "execute_result"
    }
   ],
   "source": [
    "grader.check(\"q4_4\")"
   ]
  },
  {
   "cell_type": "markdown",
   "metadata": {},
   "source": [
    "Nice work! You've now compared many different groups of characters. See how having a function to do the permutation testing in general was really helpful? If there's any other groups of characters you're curious about, you can use the same framework to explore some more.\n",
    "\n",
    "Before moving on, make sure that any cells you added are in \"Raw NBConvert\" format, and that you didn't accidentally change any provided cells to \"Raw NBConvert\". "
   ]
  },
  {
   "cell_type": "markdown",
   "metadata": {},
   "source": [
    "<a name='part3'></a>\n",
    "\n",
    "## Part 3: Fact or Cap?  🧢\n",
    "\n",
    "<small>(<a href=\"#outline\">return to the outline</a>)</small>\n",
    "\n",
    "In this part, we'll use the power of the bootstrap to evaluate the validity of two claims involving character demographics."
   ]
  },
  {
   "cell_type": "markdown",
   "metadata": {},
   "source": [
    "<a name='q5'></a>\n",
    "### Section 5: What Could Have Been... 💭\n",
    "\n",
    "<small>(<a href=\"#outline\">return to the outline</a>)</small>\n",
    "\n",
    "DC Bigshot, the comics forum user from Part 1, is still bitter about something that happened in the 1980s. DC Bigshot rants online that they had a brilliant idea for a new comic character but the character never made it past management.  The character would have had red hair and blue eyes. DC Bigshot claims that the character probably would have been a big hit and had several hundred appearances by now. \n",
    "\n",
    "<img src=\"images/girl.jpg\" width=\"150\">\n",
    "\n",
    "We want to get a sense of how many appearances typical red-haired, blue-eyed DC characters from the 1980s have, by bootstrapping to estimate the median number of appearances of such characters. We'll treat the data in our `dc` DataFrame as a random sample from a larger population that includes more DC characters. Our goal is to use this sample to estimate a population parameter – the median number of appearances of red-haired, blue-eyed DC characters from the 1980s."
   ]
  },
  {
   "cell_type": "markdown",
   "metadata": {
    "deletable": false,
    "editable": false
   },
   "source": [
    "**Question 5.1.** Assign `with_decade` to a DataFrame with all of the columns in `dc`, plus a new `'DECADE'` column of type `int` containing the decade in which each character was introduced.\n",
    "\n",
    "For example, all characters with a `'YEAR'` value between 1940 and 1949 should have a `'DECADE'` value of 1940. If the `'YEAR'` is recorded as 0, the `'DECADE'` should also be 0.\n",
    "\n",
    "<!--\n",
    "BEGIN QUESTION\n",
    "name: q5_1\n",
    "points: 1\n",
    "-->"
   ]
  },
  {
   "cell_type": "code",
   "execution_count": null,
   "metadata": {},
   "outputs": [],
   "source": [
    "with_decade = ...\n",
    "with_decade"
   ]
  },
  {
   "cell_type": "code",
   "execution_count": null,
   "metadata": {
    "deletable": false,
    "editable": false
   },
   "outputs": [],
   "source": [
    "grader.check(\"q5_1\")"
   ]
  },
  {
   "cell_type": "markdown",
   "metadata": {
    "deletable": false,
    "editable": false
   },
   "source": [
    "**Question 5.2.** Now, assign `dc_red_blue_80s` to a DataFrame containing only DC characters with red hair and blue eyes from the 1980s for whom we know the number of appearances.\n",
    "\n",
    "<!--\n",
    "BEGIN QUESTION\n",
    "name: q5_2\n",
    "points: 1\n",
    "-->"
   ]
  },
  {
   "cell_type": "code",
   "execution_count": null,
   "metadata": {},
   "outputs": [],
   "source": [
    "dc_red_blue_80s = ...\n",
    "dc_red_blue_80s"
   ]
  },
  {
   "cell_type": "code",
   "execution_count": null,
   "metadata": {
    "deletable": false,
    "editable": false
   },
   "outputs": [],
   "source": [
    "grader.check(\"q5_2\")"
   ]
  },
  {
   "cell_type": "markdown",
   "metadata": {
    "deletable": false,
    "editable": false
   },
   "source": [
    "**Question 5.3.** ⭐⭐ The rows in `dc_red_blue_80s` constitute our sample of DC characters with red hair and blue eyes from the 1980s. Below, use the bootstrap procedure to generate 5000 bootstrapped resamples of this sample. Compute the median `'APPEARANCES'` of each resample, and store these medians in the array `boot_medians`.\n",
    "\n",
    "<!--\n",
    "BEGIN QUESTION\n",
    "name: q5_3\n",
    "points: 2\n",
    "-->"
   ]
  },
  {
   "cell_type": "code",
   "execution_count": null,
   "metadata": {},
   "outputs": [],
   "source": [
    "np.random.seed(401) # Don't change this!\n",
    "\n",
    "n_resamples = 5000\n",
    "boot_medians = ...\n",
    "\n",
    "for i in range(n_resamples):\n",
    "    ...\n",
    "\n",
    "# Just display the first ten boostrapped medians.\n",
    "boot_medians[:10]"
   ]
  },
  {
   "cell_type": "code",
   "execution_count": null,
   "metadata": {
    "deletable": false,
    "editable": false
   },
   "outputs": [],
   "source": [
    "grader.check(\"q5_3\")"
   ]
  },
  {
   "cell_type": "markdown",
   "metadata": {},
   "source": [
    "Run the cell below to visualize the distribution of your bootstrapped medians."
   ]
  },
  {
   "cell_type": "code",
   "execution_count": null,
   "metadata": {
    "scrolled": true
   },
   "outputs": [],
   "source": [
    "bpd.DataFrame().assign(BootstrapMedians=boot_medians).plot(kind='hist', density=True, ec='w', bins=np.arange(0, 70, 5), figsize=(10, 5));"
   ]
  },
  {
   "cell_type": "markdown",
   "metadata": {},
   "source": [
    "**Question 5.4.** What can we conclude about the histogram above? Assign `q5_hist` to 1, 2, or 3.\n",
    "\n",
    "1. This histogram is not especially bell-shaped, but it would look more bell-shaped if we did more repetitions of the bootstrap.\n",
    "2. This histogram is not especially bell-shaped, but it would look more bell-shaped if we had started with a larger sample.\n",
    "3. Even if we increased the sample size and number of repetitions, this histogram probably wouldn't look bell-shaped."
   ]
  },
  {
   "cell_type": "code",
   "execution_count": null,
   "metadata": {},
   "outputs": [],
   "source": [
    "q5_hist = ..."
   ]
  },
  {
   "cell_type": "code",
   "execution_count": null,
   "metadata": {
    "deletable": false,
    "editable": false
   },
   "outputs": [],
   "source": [
    "grader.check(\"q5_4\")"
   ]
  },
  {
   "cell_type": "markdown",
   "metadata": {
    "deletable": false,
    "editable": false
   },
   "source": [
    "**Question 5.5.** Assign `left_endpoint` and `right_endpoint` to the left and right endpoints of a 95% confidence interval for the true median number of appearances of all DC characters with red hair and blue eyes from the 1980s.\n",
    "\n",
    "<!--\n",
    "BEGIN QUESTION\n",
    "name: q5_5\n",
    "points: 1\n",
    "-->"
   ]
  },
  {
   "cell_type": "code",
   "execution_count": null,
   "metadata": {},
   "outputs": [],
   "source": [
    "left_endpoint = ...\n",
    "right_endpoint = ...\n",
    "\n",
    "# Your interval is\n",
    "[left_endpoint, right_endpoint]"
   ]
  },
  {
   "cell_type": "code",
   "execution_count": null,
   "metadata": {
    "deletable": false,
    "editable": false
   },
   "outputs": [],
   "source": [
    "grader.check(\"q5_5\")"
   ]
  },
  {
   "cell_type": "markdown",
   "metadata": {
    "deletable": false,
    "editable": false
   },
   "source": [
    "**Question 5.6.** Which of the following is a correct interpretation of our results? Assign `q5_interpretation` to 1, 2, 3, or 4.\n",
    "\n",
    "1. There is a 95% chance that DC Bigshot's character would have had between `left_endpoint` and `right_endpoint` appearances.\n",
    "\n",
    "2. 95% of red-haired blue-eyed DC characters from the 1980s had between `left_endpoint` and `right_endpoint` appearances.\n",
    "\n",
    "3. There is a 95% chance that the median number of appearances of red-haired blue-eyed DC characters from the 1980s falls between `left_endpoint` and `right_endpoint`.\n",
    "\n",
    "4. None of the above.\n",
    "\n",
    "<!--\n",
    "BEGIN QUESTION\n",
    "name: q5_6\n",
    "points: 1\n",
    "-->"
   ]
  },
  {
   "cell_type": "code",
   "execution_count": null,
   "metadata": {},
   "outputs": [],
   "source": [
    "q5_interpretation = ..."
   ]
  },
  {
   "cell_type": "code",
   "execution_count": null,
   "metadata": {
    "deletable": false,
    "editable": false
   },
   "outputs": [],
   "source": [
    "grader.check(\"q5_6\")"
   ]
  },
  {
   "cell_type": "markdown",
   "metadata": {},
   "source": [
    "<a name='q6'></a>\n",
    "### Section 6: Nonbinary Characters 🏳️‍🌈\n",
    "\n",
    "<small>(<a href=\"#outline\">return to the outline</a>)</small>\n",
    "\n",
    "Lately, Marvel has come under scrutiny for having very few nonbinary characters. A nonbinary individual is someone who does not identify as male or female. Marvel's CEO responds to the criticism with a statement emphasizing their commitment to enhancing character diversity. As part of this statement, the CEO states that while the proportion of their characters that are neither male nor female is admittedly small, that's just a reflection of reality, since the proportion of nonbinary people in the United States is small. \n",
    "\n",
    "Let's investigate this claim by looking at some data. To start, let's determine the proportion of Americans that are nonbinary. A recent pioneering study by the [Williams Institute at UCLA](https://williamsinstitute.law.ucla.edu/publications/nonbinary-lgbtq-adults-us/) estimated the number of nonbinary American adults to be 1.2 million. According to the [2020 US Census](https://www.census.gov/library/stories/2021/08/united-states-adult-population-grew-faster-than-nations-total-population-from-2010-to-2020.html#:~:text=In%202020%2C%20the%20U.S.%20Census,from%20234.6%20million%20in%202010.), there are 258.3 million American adults. Thus, the proportion of American adults that are nonbinary is:"
   ]
  },
  {
   "cell_type": "code",
   "execution_count": 32,
   "metadata": {},
   "outputs": [
    {
     "data": {
      "text/plain": [
       "0.004645760743321719"
      ]
     },
     "execution_count": 32,
     "metadata": {},
     "output_type": "execute_result"
    }
   ],
   "source": [
    "nonbinary_prop_reality  = 1.2 / 258.3\n",
    "nonbinary_prop_reality"
   ]
  },
  {
   "cell_type": "markdown",
   "metadata": {
    "deletable": false,
    "editable": false
   },
   "source": [
    "**Question 6.1.** In the `marvel` DataFrame, what proportion of characters with available data in the `'SEX'` column are nonbinary? Save your result as `nonbinary_prop_marvel`.\n",
    "\n",
    "<!--\n",
    "BEGIN QUESTION\n",
    "name: q6_1\n",
    "points: 1\n",
    "-->"
   ]
  },
  {
   "cell_type": "code",
   "execution_count": 44,
   "metadata": {},
   "outputs": [
    {
     "data": {
      "text/html": [
       "<div>\n",
       "<style scoped>\n",
       "    .dataframe tbody tr th:only-of-type {\n",
       "        vertical-align: middle;\n",
       "    }\n",
       "\n",
       "    .dataframe tbody tr th {\n",
       "        vertical-align: top;\n",
       "    }\n",
       "\n",
       "    .dataframe thead th {\n",
       "        text-align: right;\n",
       "    }\n",
       "</style>\n",
       "<table border=\"1\" class=\"dataframe\">\n",
       "  <thead>\n",
       "    <tr style=\"text-align: right;\">\n",
       "      <th></th>\n",
       "      <th>ID</th>\n",
       "      <th>ALIGN</th>\n",
       "      <th>EYE</th>\n",
       "      <th>HAIR</th>\n",
       "      <th>SEX</th>\n",
       "      <th>GSM</th>\n",
       "      <th>ALIVE</th>\n",
       "      <th>APPEARANCES</th>\n",
       "      <th>YEAR</th>\n",
       "    </tr>\n",
       "    <tr>\n",
       "      <th>name</th>\n",
       "      <th></th>\n",
       "      <th></th>\n",
       "      <th></th>\n",
       "      <th></th>\n",
       "      <th></th>\n",
       "      <th></th>\n",
       "      <th></th>\n",
       "      <th></th>\n",
       "      <th></th>\n",
       "    </tr>\n",
       "  </thead>\n",
       "  <tbody>\n",
       "    <tr>\n",
       "      <th>Loki Laufeyson (Earth-616)</th>\n",
       "      <td>No Dual Identity</td>\n",
       "      <td>Neutral Characters</td>\n",
       "      <td>Green Eyes</td>\n",
       "      <td>Black Hair</td>\n",
       "      <td>Genderfluid Characters</td>\n",
       "      <td>Bisexual Characters</td>\n",
       "      <td>Living Characters</td>\n",
       "      <td>532</td>\n",
       "      <td>1949</td>\n",
       "    </tr>\n",
       "    <tr>\n",
       "      <th>Venom (Symbiote) (Earth-616)</th>\n",
       "      <td>Known to Authorities Identity</td>\n",
       "      <td>Neutral Characters</td>\n",
       "      <td>Variable Eyes</td>\n",
       "      <td>No Hair</td>\n",
       "      <td>Agender Characters</td>\n",
       "      <td>Not Minority</td>\n",
       "      <td>Living Characters</td>\n",
       "      <td>348</td>\n",
       "      <td>1984</td>\n",
       "    </tr>\n",
       "    <tr>\n",
       "      <th>Carnage (Symbiote) (Earth-616)</th>\n",
       "      <td>Public Identity</td>\n",
       "      <td>Bad Characters</td>\n",
       "      <td>White Eyes</td>\n",
       "      <td>No Hair</td>\n",
       "      <td>Agender Characters</td>\n",
       "      <td>Not Minority</td>\n",
       "      <td>Living Characters</td>\n",
       "      <td>61</td>\n",
       "      <td>1992</td>\n",
       "    </tr>\n",
       "    <tr>\n",
       "      <th>Captain Universe (Earth-616)</th>\n",
       "      <td>Secret Identity</td>\n",
       "      <td>Good Characters</td>\n",
       "      <td>Variable Eyes</td>\n",
       "      <td>Variable Hair</td>\n",
       "      <td>Agender Characters</td>\n",
       "      <td>Not Minority</td>\n",
       "      <td>Living Characters</td>\n",
       "      <td>54</td>\n",
       "      <td>1979</td>\n",
       "    </tr>\n",
       "    <tr>\n",
       "      <th>Xavin (Earth-616)</th>\n",
       "      <td>Secret Identity</td>\n",
       "      <td>Good Characters</td>\n",
       "      <td>Brown Eyes</td>\n",
       "      <td>Brown Hair</td>\n",
       "      <td>Genderfluid Characters</td>\n",
       "      <td>Genderfluid Characters</td>\n",
       "      <td>Living Characters</td>\n",
       "      <td>33</td>\n",
       "      <td>2005</td>\n",
       "    </tr>\n",
       "    <tr>\n",
       "      <th>...</th>\n",
       "      <td>...</td>\n",
       "      <td>...</td>\n",
       "      <td>...</td>\n",
       "      <td>...</td>\n",
       "      <td>...</td>\n",
       "      <td>...</td>\n",
       "      <td>...</td>\n",
       "      <td>...</td>\n",
       "      <td>...</td>\n",
       "    </tr>\n",
       "    <tr>\n",
       "      <th>Sappers (Hazards) (Earth-616)</th>\n",
       "      <td>No Dual Identity</td>\n",
       "      <td>Bad Characters</td>\n",
       "      <td>White Eyes</td>\n",
       "      <td>No Hair</td>\n",
       "      <td>Agender Characters</td>\n",
       "      <td>Not Minority</td>\n",
       "      <td>Living Characters</td>\n",
       "      <td>1</td>\n",
       "      <td>0</td>\n",
       "    </tr>\n",
       "    <tr>\n",
       "      <th>Scorchers (Hazards) (Earth-616)</th>\n",
       "      <td>No Dual Identity</td>\n",
       "      <td>Bad Characters</td>\n",
       "      <td>Data Unavailable</td>\n",
       "      <td>No Hair</td>\n",
       "      <td>Agender Characters</td>\n",
       "      <td>Not Minority</td>\n",
       "      <td>Living Characters</td>\n",
       "      <td>1</td>\n",
       "      <td>0</td>\n",
       "    </tr>\n",
       "    <tr>\n",
       "      <th>Walking Stiletto (Earth-616)</th>\n",
       "      <td>Secret Identity</td>\n",
       "      <td>Bad Characters</td>\n",
       "      <td>Black Eyes</td>\n",
       "      <td>No Hair</td>\n",
       "      <td>Agender Characters</td>\n",
       "      <td>Not Minority</td>\n",
       "      <td>Living Characters</td>\n",
       "      <td>0</td>\n",
       "      <td>1969</td>\n",
       "    </tr>\n",
       "    <tr>\n",
       "      <th>Warbot (Earth-616)</th>\n",
       "      <td>Secret Identity</td>\n",
       "      <td>Bad Characters</td>\n",
       "      <td>Black Eyes</td>\n",
       "      <td>No Hair</td>\n",
       "      <td>Agender Characters</td>\n",
       "      <td>Not Minority</td>\n",
       "      <td>Living Characters</td>\n",
       "      <td>0</td>\n",
       "      <td>1978</td>\n",
       "    </tr>\n",
       "    <tr>\n",
       "      <th>Batch-13 (Earth-616)</th>\n",
       "      <td>Secret Identity</td>\n",
       "      <td>Bad Characters</td>\n",
       "      <td>Red Eyes</td>\n",
       "      <td>No Hair</td>\n",
       "      <td>Agender Characters</td>\n",
       "      <td>Not Minority</td>\n",
       "      <td>Living Characters</td>\n",
       "      <td>0</td>\n",
       "      <td>1995</td>\n",
       "    </tr>\n",
       "  </tbody>\n",
       "</table>\n",
       "<p>47 rows × 9 columns</p>\n",
       "</div>"
      ],
      "text/plain": [
       "                                                            ID  \\\n",
       "name                                                             \n",
       "Loki Laufeyson (Earth-616)                    No Dual Identity   \n",
       "Venom (Symbiote) (Earth-616)     Known to Authorities Identity   \n",
       "Carnage (Symbiote) (Earth-616)                 Public Identity   \n",
       "Captain Universe (Earth-616)                   Secret Identity   \n",
       "Xavin (Earth-616)                              Secret Identity   \n",
       "...                                                        ...   \n",
       "Sappers (Hazards) (Earth-616)                 No Dual Identity   \n",
       "Scorchers (Hazards) (Earth-616)               No Dual Identity   \n",
       "Walking Stiletto (Earth-616)                   Secret Identity   \n",
       "Warbot (Earth-616)                             Secret Identity   \n",
       "Batch-13 (Earth-616)                           Secret Identity   \n",
       "\n",
       "                                              ALIGN               EYE  \\\n",
       "name                                                                    \n",
       "Loki Laufeyson (Earth-616)       Neutral Characters        Green Eyes   \n",
       "Venom (Symbiote) (Earth-616)     Neutral Characters     Variable Eyes   \n",
       "Carnage (Symbiote) (Earth-616)       Bad Characters        White Eyes   \n",
       "Captain Universe (Earth-616)        Good Characters     Variable Eyes   \n",
       "Xavin (Earth-616)                   Good Characters        Brown Eyes   \n",
       "...                                             ...               ...   \n",
       "Sappers (Hazards) (Earth-616)        Bad Characters        White Eyes   \n",
       "Scorchers (Hazards) (Earth-616)      Bad Characters  Data Unavailable   \n",
       "Walking Stiletto (Earth-616)         Bad Characters        Black Eyes   \n",
       "Warbot (Earth-616)                   Bad Characters        Black Eyes   \n",
       "Batch-13 (Earth-616)                 Bad Characters          Red Eyes   \n",
       "\n",
       "                                          HAIR                     SEX  \\\n",
       "name                                                                     \n",
       "Loki Laufeyson (Earth-616)          Black Hair  Genderfluid Characters   \n",
       "Venom (Symbiote) (Earth-616)           No Hair      Agender Characters   \n",
       "Carnage (Symbiote) (Earth-616)         No Hair      Agender Characters   \n",
       "Captain Universe (Earth-616)     Variable Hair      Agender Characters   \n",
       "Xavin (Earth-616)                   Brown Hair  Genderfluid Characters   \n",
       "...                                        ...                     ...   \n",
       "Sappers (Hazards) (Earth-616)          No Hair      Agender Characters   \n",
       "Scorchers (Hazards) (Earth-616)        No Hair      Agender Characters   \n",
       "Walking Stiletto (Earth-616)           No Hair      Agender Characters   \n",
       "Warbot (Earth-616)                     No Hair      Agender Characters   \n",
       "Batch-13 (Earth-616)                   No Hair      Agender Characters   \n",
       "\n",
       "                                                    GSM              ALIVE  \\\n",
       "name                                                                         \n",
       "Loki Laufeyson (Earth-616)          Bisexual Characters  Living Characters   \n",
       "Venom (Symbiote) (Earth-616)               Not Minority  Living Characters   \n",
       "Carnage (Symbiote) (Earth-616)             Not Minority  Living Characters   \n",
       "Captain Universe (Earth-616)               Not Minority  Living Characters   \n",
       "Xavin (Earth-616)                Genderfluid Characters  Living Characters   \n",
       "...                                                 ...                ...   \n",
       "Sappers (Hazards) (Earth-616)              Not Minority  Living Characters   \n",
       "Scorchers (Hazards) (Earth-616)            Not Minority  Living Characters   \n",
       "Walking Stiletto (Earth-616)               Not Minority  Living Characters   \n",
       "Warbot (Earth-616)                         Not Minority  Living Characters   \n",
       "Batch-13 (Earth-616)                       Not Minority  Living Characters   \n",
       "\n",
       "                                 APPEARANCES  YEAR  \n",
       "name                                                \n",
       "Loki Laufeyson (Earth-616)               532  1949  \n",
       "Venom (Symbiote) (Earth-616)             348  1984  \n",
       "Carnage (Symbiote) (Earth-616)            61  1992  \n",
       "Captain Universe (Earth-616)              54  1979  \n",
       "Xavin (Earth-616)                         33  2005  \n",
       "...                                      ...   ...  \n",
       "Sappers (Hazards) (Earth-616)              1     0  \n",
       "Scorchers (Hazards) (Earth-616)            1     0  \n",
       "Walking Stiletto (Earth-616)               0  1969  \n",
       "Warbot (Earth-616)                         0  1978  \n",
       "Batch-13 (Earth-616)                       0  1995  \n",
       "\n",
       "[47 rows x 9 columns]"
      ]
     },
     "execution_count": 44,
     "metadata": {},
     "output_type": "execute_result"
    }
   ],
   "source": [
    "marvel[(marvel.get('SEX') != 'Male Characters') & (marvel.get('SEX') != 'Female Characters') & (marvel.get('SEX') != 'Data Unavailable')]"
   ]
  },
  {
   "cell_type": "code",
   "execution_count": 45,
   "metadata": {
    "scrolled": true
   },
   "outputs": [
    {
     "data": {
      "text/plain": [
       "0.0030279603143924753"
      ]
     },
     "execution_count": 45,
     "metadata": {},
     "output_type": "execute_result"
    }
   ],
   "source": [
    "nonbinary_prop_marvel = marvel[(marvel.get('SEX') != 'Male Characters') & (marvel.get('SEX') != 'Female Characters') & (marvel.get('SEX') != 'Data Unavailable')].shape[0]/marvel[marvel.get('SEX') != 'Data Unavailable'].shape[0]\n",
    "nonbinary_prop_marvel"
   ]
  },
  {
   "cell_type": "code",
   "execution_count": 46,
   "metadata": {
    "deletable": false,
    "editable": false
   },
   "outputs": [
    {
     "data": {
      "text/html": [
       "<p><strong><pre style='display: inline;'>q6_1</pre></strong> passed!</p>"
      ],
      "text/plain": [
       "q6_1 results: All test cases passed!"
      ]
     },
     "execution_count": 46,
     "metadata": {},
     "output_type": "execute_result"
    }
   ],
   "source": [
    "grader.check(\"q6_1\")"
   ]
  },
  {
   "cell_type": "markdown",
   "metadata": {},
   "source": [
    "It appears that in the sample of Marvel characters for which we have data, the proportion of nonbinary characters is slightly different than the proportion of nonbinary Americans, `nonbinary_prop_reality`. But is this difference present in the population of all Marvel characters, or just in our sample? Let's conduct a hypothesis test to find out.\n",
    "\n",
    "- **Null Hypothesis**: The proportion of nonbinary Marvel characters equals the proportion of nonbinary Americans. \n",
    "\n",
    "- **Alternative Hypothesis**: The proportion of nonbinary Marvel characters is not equal to the proportion of nonbinary Americans. \n",
    "\n",
    "Since we were able to set up our hypothesis test as a question of whether a certain population parameter – the proportion of nonbinary characters among all Marvel characters – is equal to a certain known value, we can **test our hypotheses by constructing a confidence interval** for the parameter. We'll test our hypotheses at a 1% p-value cutoff, meaning we'll need to construct a 99% confidence interval.\n",
    "\n",
    "To construct a 99% confidence interval for the proportion of nonbinary characters among all Marvel characters, we need to bootstrap the sample of data we have and create many estimates for that population proportion, then take the middle 99% of those estimates."
   ]
  },
  {
   "cell_type": "markdown",
   "metadata": {
    "deletable": false,
    "editable": false
   },
   "source": [
    "**Question 6.2.** Before we can conduct this hypothesis test, we need a column that tells us whether a character is nonbinary.\n",
    "\n",
    "Below, assign `nonbinary_df` to a DataFrame with the same columns as `marvel` but with an additional column, `'NONBINARY'`, that contains the value 1 for nonbinary characters and 0 for male or female characters. Only include rows where we have data on the `'SEX'` of the character.\n",
    "\n",
    "<!--\n",
    "BEGIN QUESTION\n",
    "name: q6_2\n",
    "points: 1\n",
    "-->"
   ]
  },
  {
   "cell_type": "code",
   "execution_count": 52,
   "metadata": {},
   "outputs": [
    {
     "data": {
      "text/html": [
       "<div>\n",
       "<style scoped>\n",
       "    .dataframe tbody tr th:only-of-type {\n",
       "        vertical-align: middle;\n",
       "    }\n",
       "\n",
       "    .dataframe tbody tr th {\n",
       "        vertical-align: top;\n",
       "    }\n",
       "\n",
       "    .dataframe thead th {\n",
       "        text-align: right;\n",
       "    }\n",
       "</style>\n",
       "<table border=\"1\" class=\"dataframe\">\n",
       "  <thead>\n",
       "    <tr style=\"text-align: right;\">\n",
       "      <th></th>\n",
       "      <th>ID</th>\n",
       "      <th>ALIGN</th>\n",
       "      <th>EYE</th>\n",
       "      <th>HAIR</th>\n",
       "      <th>SEX</th>\n",
       "      <th>GSM</th>\n",
       "      <th>ALIVE</th>\n",
       "      <th>APPEARANCES</th>\n",
       "      <th>YEAR</th>\n",
       "      <th>NONBINARY</th>\n",
       "    </tr>\n",
       "    <tr>\n",
       "      <th>name</th>\n",
       "      <th></th>\n",
       "      <th></th>\n",
       "      <th></th>\n",
       "      <th></th>\n",
       "      <th></th>\n",
       "      <th></th>\n",
       "      <th></th>\n",
       "      <th></th>\n",
       "      <th></th>\n",
       "      <th></th>\n",
       "    </tr>\n",
       "  </thead>\n",
       "  <tbody>\n",
       "    <tr>\n",
       "      <th>Spider-Man (Peter Parker)</th>\n",
       "      <td>Secret Identity</td>\n",
       "      <td>Good Characters</td>\n",
       "      <td>Hazel Eyes</td>\n",
       "      <td>Brown Hair</td>\n",
       "      <td>Male Characters</td>\n",
       "      <td>Not Minority</td>\n",
       "      <td>Living Characters</td>\n",
       "      <td>4043</td>\n",
       "      <td>1962</td>\n",
       "      <td>0</td>\n",
       "    </tr>\n",
       "    <tr>\n",
       "      <th>Captain America (Steven Rogers)</th>\n",
       "      <td>Public Identity</td>\n",
       "      <td>Good Characters</td>\n",
       "      <td>Blue Eyes</td>\n",
       "      <td>White Hair</td>\n",
       "      <td>Male Characters</td>\n",
       "      <td>Not Minority</td>\n",
       "      <td>Living Characters</td>\n",
       "      <td>3360</td>\n",
       "      <td>1941</td>\n",
       "      <td>0</td>\n",
       "    </tr>\n",
       "    <tr>\n",
       "      <th>Wolverine (James \\\"Logan\\\" Howlett)</th>\n",
       "      <td>Public Identity</td>\n",
       "      <td>Neutral Characters</td>\n",
       "      <td>Blue Eyes</td>\n",
       "      <td>Black Hair</td>\n",
       "      <td>Male Characters</td>\n",
       "      <td>Not Minority</td>\n",
       "      <td>Living Characters</td>\n",
       "      <td>3061</td>\n",
       "      <td>1974</td>\n",
       "      <td>0</td>\n",
       "    </tr>\n",
       "    <tr>\n",
       "      <th>Iron Man (Anthony \\\"Tony\\\" Stark)</th>\n",
       "      <td>Public Identity</td>\n",
       "      <td>Good Characters</td>\n",
       "      <td>Blue Eyes</td>\n",
       "      <td>Black Hair</td>\n",
       "      <td>Male Characters</td>\n",
       "      <td>Not Minority</td>\n",
       "      <td>Living Characters</td>\n",
       "      <td>2961</td>\n",
       "      <td>1963</td>\n",
       "      <td>0</td>\n",
       "    </tr>\n",
       "    <tr>\n",
       "      <th>Thor (Thor Odinson)</th>\n",
       "      <td>No Dual Identity</td>\n",
       "      <td>Good Characters</td>\n",
       "      <td>Blue Eyes</td>\n",
       "      <td>Blond Hair</td>\n",
       "      <td>Male Characters</td>\n",
       "      <td>Not Minority</td>\n",
       "      <td>Living Characters</td>\n",
       "      <td>2258</td>\n",
       "      <td>1950</td>\n",
       "      <td>0</td>\n",
       "    </tr>\n",
       "    <tr>\n",
       "      <th>...</th>\n",
       "      <td>...</td>\n",
       "      <td>...</td>\n",
       "      <td>...</td>\n",
       "      <td>...</td>\n",
       "      <td>...</td>\n",
       "      <td>...</td>\n",
       "      <td>...</td>\n",
       "      <td>...</td>\n",
       "      <td>...</td>\n",
       "      <td>...</td>\n",
       "    </tr>\n",
       "    <tr>\n",
       "      <th>Melanie Kapoor (Earth-616)</th>\n",
       "      <td>Public Identity</td>\n",
       "      <td>Good Characters</td>\n",
       "      <td>Blue Eyes</td>\n",
       "      <td>Black Hair</td>\n",
       "      <td>Female Characters</td>\n",
       "      <td>Not Minority</td>\n",
       "      <td>Living Characters</td>\n",
       "      <td>0</td>\n",
       "      <td>0</td>\n",
       "      <td>0</td>\n",
       "    </tr>\n",
       "    <tr>\n",
       "      <th>Ru'ach (Earth-616)</th>\n",
       "      <td>No Dual Identity</td>\n",
       "      <td>Bad Characters</td>\n",
       "      <td>Green Eyes</td>\n",
       "      <td>No Hair</td>\n",
       "      <td>Male Characters</td>\n",
       "      <td>Not Minority</td>\n",
       "      <td>Living Characters</td>\n",
       "      <td>0</td>\n",
       "      <td>0</td>\n",
       "      <td>0</td>\n",
       "    </tr>\n",
       "    <tr>\n",
       "      <th>Thane (Thanos' son) (Earth-616)</th>\n",
       "      <td>No Dual Identity</td>\n",
       "      <td>Good Characters</td>\n",
       "      <td>Blue Eyes</td>\n",
       "      <td>Bald</td>\n",
       "      <td>Male Characters</td>\n",
       "      <td>Not Minority</td>\n",
       "      <td>Living Characters</td>\n",
       "      <td>0</td>\n",
       "      <td>0</td>\n",
       "      <td>0</td>\n",
       "    </tr>\n",
       "    <tr>\n",
       "      <th>Tinkerer (Skrull) (Earth-616)</th>\n",
       "      <td>Secret Identity</td>\n",
       "      <td>Bad Characters</td>\n",
       "      <td>Black Eyes</td>\n",
       "      <td>Bald</td>\n",
       "      <td>Male Characters</td>\n",
       "      <td>Not Minority</td>\n",
       "      <td>Living Characters</td>\n",
       "      <td>0</td>\n",
       "      <td>0</td>\n",
       "      <td>0</td>\n",
       "    </tr>\n",
       "    <tr>\n",
       "      <th>TK421 (Spiderling) (Earth-616)</th>\n",
       "      <td>Secret Identity</td>\n",
       "      <td>Neutral Characters</td>\n",
       "      <td>Data Unavailable</td>\n",
       "      <td>Data Unavailable</td>\n",
       "      <td>Male Characters</td>\n",
       "      <td>Not Minority</td>\n",
       "      <td>Living Characters</td>\n",
       "      <td>0</td>\n",
       "      <td>0</td>\n",
       "      <td>0</td>\n",
       "    </tr>\n",
       "  </tbody>\n",
       "</table>\n",
       "<p>15522 rows × 10 columns</p>\n",
       "</div>"
      ],
      "text/plain": [
       "                                                   ID               ALIGN  \\\n",
       "name                                                                        \n",
       "Spider-Man (Peter Parker)             Secret Identity     Good Characters   \n",
       "Captain America (Steven Rogers)       Public Identity     Good Characters   \n",
       "Wolverine (James \\\"Logan\\\" Howlett)   Public Identity  Neutral Characters   \n",
       "Iron Man (Anthony \\\"Tony\\\" Stark)     Public Identity     Good Characters   \n",
       "Thor (Thor Odinson)                  No Dual Identity     Good Characters   \n",
       "...                                               ...                 ...   \n",
       "Melanie Kapoor (Earth-616)            Public Identity     Good Characters   \n",
       "Ru'ach (Earth-616)                   No Dual Identity      Bad Characters   \n",
       "Thane (Thanos' son) (Earth-616)      No Dual Identity     Good Characters   \n",
       "Tinkerer (Skrull) (Earth-616)         Secret Identity      Bad Characters   \n",
       "TK421 (Spiderling) (Earth-616)        Secret Identity  Neutral Characters   \n",
       "\n",
       "                                                  EYE              HAIR  \\\n",
       "name                                                                      \n",
       "Spider-Man (Peter Parker)                  Hazel Eyes        Brown Hair   \n",
       "Captain America (Steven Rogers)             Blue Eyes        White Hair   \n",
       "Wolverine (James \\\"Logan\\\" Howlett)         Blue Eyes        Black Hair   \n",
       "Iron Man (Anthony \\\"Tony\\\" Stark)           Blue Eyes        Black Hair   \n",
       "Thor (Thor Odinson)                         Blue Eyes        Blond Hair   \n",
       "...                                               ...               ...   \n",
       "Melanie Kapoor (Earth-616)                  Blue Eyes        Black Hair   \n",
       "Ru'ach (Earth-616)                         Green Eyes           No Hair   \n",
       "Thane (Thanos' son) (Earth-616)             Blue Eyes              Bald   \n",
       "Tinkerer (Skrull) (Earth-616)              Black Eyes              Bald   \n",
       "TK421 (Spiderling) (Earth-616)       Data Unavailable  Data Unavailable   \n",
       "\n",
       "                                                   SEX           GSM  \\\n",
       "name                                                                   \n",
       "Spider-Man (Peter Parker)              Male Characters  Not Minority   \n",
       "Captain America (Steven Rogers)        Male Characters  Not Minority   \n",
       "Wolverine (James \\\"Logan\\\" Howlett)    Male Characters  Not Minority   \n",
       "Iron Man (Anthony \\\"Tony\\\" Stark)      Male Characters  Not Minority   \n",
       "Thor (Thor Odinson)                    Male Characters  Not Minority   \n",
       "...                                                ...           ...   \n",
       "Melanie Kapoor (Earth-616)           Female Characters  Not Minority   \n",
       "Ru'ach (Earth-616)                     Male Characters  Not Minority   \n",
       "Thane (Thanos' son) (Earth-616)        Male Characters  Not Minority   \n",
       "Tinkerer (Skrull) (Earth-616)          Male Characters  Not Minority   \n",
       "TK421 (Spiderling) (Earth-616)         Male Characters  Not Minority   \n",
       "\n",
       "                                                 ALIVE  APPEARANCES  YEAR  \\\n",
       "name                                                                        \n",
       "Spider-Man (Peter Parker)            Living Characters         4043  1962   \n",
       "Captain America (Steven Rogers)      Living Characters         3360  1941   \n",
       "Wolverine (James \\\"Logan\\\" Howlett)  Living Characters         3061  1974   \n",
       "Iron Man (Anthony \\\"Tony\\\" Stark)    Living Characters         2961  1963   \n",
       "Thor (Thor Odinson)                  Living Characters         2258  1950   \n",
       "...                                                ...          ...   ...   \n",
       "Melanie Kapoor (Earth-616)           Living Characters            0     0   \n",
       "Ru'ach (Earth-616)                   Living Characters            0     0   \n",
       "Thane (Thanos' son) (Earth-616)      Living Characters            0     0   \n",
       "Tinkerer (Skrull) (Earth-616)        Living Characters            0     0   \n",
       "TK421 (Spiderling) (Earth-616)       Living Characters            0     0   \n",
       "\n",
       "                                     NONBINARY  \n",
       "name                                            \n",
       "Spider-Man (Peter Parker)                    0  \n",
       "Captain America (Steven Rogers)              0  \n",
       "Wolverine (James \\\"Logan\\\" Howlett)          0  \n",
       "Iron Man (Anthony \\\"Tony\\\" Stark)            0  \n",
       "Thor (Thor Odinson)                          0  \n",
       "...                                        ...  \n",
       "Melanie Kapoor (Earth-616)                   0  \n",
       "Ru'ach (Earth-616)                           0  \n",
       "Thane (Thanos' son) (Earth-616)              0  \n",
       "Tinkerer (Skrull) (Earth-616)                0  \n",
       "TK421 (Spiderling) (Earth-616)               0  \n",
       "\n",
       "[15522 rows x 10 columns]"
      ]
     },
     "execution_count": 52,
     "metadata": {},
     "output_type": "execute_result"
    }
   ],
   "source": [
    "available_sex = marvel[marvel.get('SEX') != 'Data Unavailable']\n",
    "def nonbin(sex):\n",
    "    if (sex != 'Male Characters') & (sex != 'Female Characters'):\n",
    "        return 1\n",
    "    else:\n",
    "        return 0\n",
    "nonbinary_df = available_sex.assign(NONBINARY = available_sex.get('SEX').apply(nonbin))\n",
    "nonbinary_df"
   ]
  },
  {
   "cell_type": "code",
   "execution_count": 53,
   "metadata": {
    "deletable": false,
    "editable": false
   },
   "outputs": [
    {
     "data": {
      "text/html": [
       "<p><strong><pre style='display: inline;'>q6_2</pre></strong> passed!</p>"
      ],
      "text/plain": [
       "q6_2 results: All test cases passed!"
      ]
     },
     "execution_count": 53,
     "metadata": {},
     "output_type": "execute_result"
    }
   ],
   "source": [
    "grader.check(\"q6_2\")"
   ]
  },
  {
   "cell_type": "markdown",
   "metadata": {
    "deletable": false,
    "editable": false
   },
   "source": [
    "**Question 6.3.** ⭐⭐⭐ Now, implement the bootstrap procedure to create an array called `boot_proportions` containing 10,000 estimates for the proportion of nonbinary Marvel characters.\n",
    "\n",
    "Instead of using `.sample` with `replace=True` like you'd normally do for bootstrapping, here's a clever strategy that allows you to calculate resample proportions without the `.sample` method, which can be slow.\n",
    "\n",
    "Since the `'NONBINARY'` column contains only 0s and 1s and bootstrapping requires us to sample with replacement, this means each element of our resample has a certain probability of being a 0 and some other probability of being a 1. These probabilities should add up to one. You can think of resampling from a sample of 0s and 1s as a lot like flipping a biased coin. You can find the proportion of 1s in your resample in much the same way you might find the proportion of heads in many coin flips, using `np.random.multinomial`. (It's also possible to do this with `np.random.choice`, but please use `np.random.multinomial` here.)\n",
    "\n",
    "This alternate strategy adds up to a huge time savings. With `.sample`, it takes about 1 minute to do 100 repetitions of the bootstrap on a DataFrame of this size, which means to do 10,000 repetitions, it would take about 100 minutes (over an hour 🥱). With `np.random.multinomial`, you should be able to do 10,000 repetitions of the bootstrap in only a few seconds!\n",
    "\n",
    "**Do not use `.sample` or `np.random.choice` for this question. Instead, you must use `np.random.multinomial`; think carefully about the probability distribution you will provide as its second argument.**\n",
    "\n",
    "<!--\n",
    "BEGIN QUESTION\n",
    "name: q6_3\n",
    "points: 3\n",
    "-->"
   ]
  },
  {
   "cell_type": "code",
   "execution_count": 65,
   "metadata": {},
   "outputs": [
    {
     "data": {
      "text/plain": [
       "array([0.00360778, 0.00277026, 0.00296354, 0.00335008, 0.00354336,\n",
       "       0.00341451, 0.00328566, 0.00399433, 0.00347893, 0.00296354])"
      ]
     },
     "execution_count": 65,
     "metadata": {},
     "output_type": "execute_result"
    }
   ],
   "source": [
    "np.random.seed(999) # Don't change this!\n",
    "\n",
    "boot_proportions = np.array([])\n",
    "\n",
    "for i in range(10000):\n",
    "    sample_sex = np.random.multinomial(nonbinary_df.shape[0], [nonbinary_prop_marvel, 1 - nonbinary_prop_marvel])\n",
    "    sample_nonbinary_prop = sample_sex[0]/nonbinary_df.shape[0]\n",
    "    boot_proportions = np.append(boot_proportions, sample_nonbinary_prop)\n",
    "\n",
    "# Just display the first ten proportions.\n",
    "boot_proportions[:10]"
   ]
  },
  {
   "cell_type": "code",
   "execution_count": 66,
   "metadata": {
    "deletable": false,
    "editable": false
   },
   "outputs": [
    {
     "data": {
      "text/html": [
       "<p><strong><pre style='display: inline;'>q6_3</pre></strong> passed!</p>"
      ],
      "text/plain": [
       "q6_3 results: All test cases passed!"
      ]
     },
     "execution_count": 66,
     "metadata": {},
     "output_type": "execute_result"
    }
   ],
   "source": [
    "grader.check(\"q6_3\")"
   ]
  },
  {
   "cell_type": "markdown",
   "metadata": {},
   "source": [
    "Run the cell below to visualize the distribution of your bootstrapped proportions."
   ]
  },
  {
   "cell_type": "code",
   "execution_count": 67,
   "metadata": {
    "scrolled": false
   },
   "outputs": [
    {
     "data": {
      "image/png": "[encoded data removed]",
      "text/plain": [
       "<Figure size 720x360 with 1 Axes>"
      ]
     },
     "metadata": {},
     "output_type": "display_data"
    }
   ],
   "source": [
    "bpd.DataFrame().assign(BootstrapProportions=boot_proportions).plot(kind='hist', density=True, ec='w', figsize=(10, 5));"
   ]
  },
  {
   "cell_type": "markdown",
   "metadata": {
    "deletable": false,
    "editable": false
   },
   "source": [
    "**Question 6.4.** Assign `nonbinary_left` and `nonbinary_left` to the left and right endpoints of a 99% confidence interval for the true proportion of nonbinary Marvel characters.\n",
    "\n",
    "<!--\n",
    "BEGIN QUESTION\n",
    "name: q6_4\n",
    "points: 1\n",
    "-->"
   ]
  },
  {
   "cell_type": "code",
   "execution_count": 68,
   "metadata": {},
   "outputs": [
    {
     "data": {
      "text/plain": [
       "[0.001932740626207963, 0.0041876046901172526]"
      ]
     },
     "execution_count": 68,
     "metadata": {},
     "output_type": "execute_result"
    }
   ],
   "source": [
    "nonbinary_left = np.percentile(boot_proportions, 0.5)\n",
    "nonbinary_right = np.percentile(boot_proportions, 99.5)\n",
    "\n",
    "# Your interval is\n",
    "[nonbinary_left, nonbinary_right]"
   ]
  },
  {
   "cell_type": "code",
   "execution_count": 69,
   "metadata": {
    "deletable": false,
    "editable": false
   },
   "outputs": [
    {
     "data": {
      "text/html": [
       "<p><strong><pre style='display: inline;'>q6_4</pre></strong> passed!</p>"
      ],
      "text/plain": [
       "q6_4 results: All test cases passed!"
      ]
     },
     "execution_count": 69,
     "metadata": {},
     "output_type": "execute_result"
    }
   ],
   "source": [
    "grader.check(\"q6_4\")"
   ]
  },
  {
   "cell_type": "markdown",
   "metadata": {
    "deletable": false,
    "editable": false
   },
   "source": [
    "**Question 6.5.** Use your confidence interval to decide whether to reject the null hypothesis at a 1% p-value cutoff. Set `reject_null` to `True` if we should reject the null hypothesis, and `False` if not. Then, assign `q6_interpretation` to either 1, 2, 3, or 4, depending on which of the following four statements is best supported by the data.\n",
    "\n",
    "1. The CEO was definitely wrong. \n",
    "2. The CEO was likely wrong.\n",
    "3. The CEO was likely right.\n",
    "4. The CEO was definitely right.\n",
    "\n",
    "<!--\n",
    "BEGIN QUESTION\n",
    "name: q6_5\n",
    "points: 1\n",
    "-->"
   ]
  },
  {
   "cell_type": "code",
   "execution_count": 70,
   "metadata": {},
   "outputs": [],
   "source": [
    "reject_null = True\n",
    "q6_interpretation = 2"
   ]
  },
  {
   "cell_type": "code",
   "execution_count": 71,
   "metadata": {
    "deletable": false,
    "editable": false
   },
   "outputs": [
    {
     "data": {
      "text/html": [
       "<p><strong><pre style='display: inline;'>q6_5</pre></strong> passed!</p>"
      ],
      "text/plain": [
       "q6_5 results: All test cases passed!"
      ]
     },
     "execution_count": 71,
     "metadata": {},
     "output_type": "execute_result"
    }
   ],
   "source": [
    "grader.check(\"q6_5\")"
   ]
  },
  {
   "cell_type": "markdown",
   "metadata": {},
   "source": [
    "<a name='part4'></a>\n",
    "\n",
    "## Part 4: Fun and Games 🎮\n",
    "\n",
    "<small>(<a href=\"#outline\">return to the outline</a>)</small>\n",
    "\n",
    "In the last part of the project, we will switch our focus to probability."
   ]
  },
  {
   "cell_type": "markdown",
   "metadata": {},
   "source": [
    "<a name='q7'></a>\n",
    "\n",
    "### Section 7: Guess Who? 🤔\n",
    "\n",
    "<small>(<a href=\"#outline\">return to the outline</a>)</small>\n",
    "\n",
    "You and your friend like quizzing each other on your knowledge of comic characters from both companies. Your friend chooses a single character at random from the `all_characters` DataFrame. They then tell you one piece of information about that character, and you have to guess which character they're talking about."
   ]
  },
  {
   "cell_type": "code",
   "execution_count": null,
   "metadata": {},
   "outputs": [],
   "source": [
    "all_characters"
   ]
  },
  {
   "cell_type": "markdown",
   "metadata": {
    "deletable": false,
    "editable": false
   },
   "source": [
    "*Note*: All of Section 7 relies on `all_characters` being defined correctly, so make sure you've completed Question 2.1 correctly before proceeding. For this section, **do not** filter out rows where the character’s `'SEX'` is `'Data Unavailable'`.\n",
    "\n",
    "**Question 7.1.** Your friend picks a character at random and tells you that they have blue eyes. What is the probability that the character is Superman (Clark Kent)? Assign your answer to the variable `p_superman_given_blue_eyes`.\n",
    "\n",
    "_Hint:_ Start by determining the number of characters with blue eyes.\n",
    "\n",
    "<!--\n",
    "BEGIN QUESTION\n",
    "name: q7_1\n",
    "points: 1\n",
    "-->"
   ]
  },
  {
   "cell_type": "code",
   "execution_count": null,
   "metadata": {},
   "outputs": [],
   "source": [
    "p_superman_given_blue_eyes = ...\n",
    "p_superman_given_blue_eyes"
   ]
  },
  {
   "cell_type": "code",
   "execution_count": null,
   "metadata": {
    "deletable": false,
    "editable": false
   },
   "outputs": [],
   "source": [
    "grader.check(\"q7_1\")"
   ]
  },
  {
   "cell_type": "markdown",
   "metadata": {
    "deletable": false,
    "editable": false
   },
   "source": [
    "**Question 7.2.** As you saw above, the probability of correctly guessing your friend's character given just one piece of information is extremely low. So, instead of guessing the name of the character your friend is talking about, you will try and guess some other information about them, like whether or not they are good, or what their hair color is.\n",
    "\n",
    "Your friend picks a character at random and tells you that they're a DC character. What is the probability that they are a good character (meaning that their value in the `'ALIGN'` column is `'Good Characters'`)? Assign your answer to the variable `p_good_given_dc`.\n",
    "\n",
    "<!--\n",
    "BEGIN QUESTION\n",
    "name: q7_2\n",
    "points: 1\n",
    "-->"
   ]
  },
  {
   "cell_type": "code",
   "execution_count": null,
   "metadata": {},
   "outputs": [],
   "source": [
    "p_good_given_dc = ...\n",
    "p_good_given_dc"
   ]
  },
  {
   "cell_type": "code",
   "execution_count": null,
   "metadata": {
    "deletable": false,
    "editable": false
   },
   "outputs": [],
   "source": [
    "grader.check(\"q7_2\")"
   ]
  },
  {
   "cell_type": "markdown",
   "metadata": {
    "deletable": false,
    "editable": false
   },
   "source": [
    "**Question 7.3.** Now your friend picks a character at random and tells you that they're a good character (defined the same way as in the previous question). What is the probability that they are a DC character? Assign your answer to the variable `p_dc_given_good`.\n",
    "\n",
    "<!--\n",
    "BEGIN QUESTION\n",
    "name: q7_3\n",
    "points: 1\n",
    "-->"
   ]
  },
  {
   "cell_type": "code",
   "execution_count": null,
   "metadata": {},
   "outputs": [],
   "source": [
    "p_dc_given_good = ...\n",
    "p_dc_given_good"
   ]
  },
  {
   "cell_type": "code",
   "execution_count": null,
   "metadata": {
    "deletable": false,
    "editable": false
   },
   "outputs": [],
   "source": [
    "grader.check(\"q7_3\")"
   ]
  },
  {
   "cell_type": "markdown",
   "metadata": {
    "deletable": false,
    "editable": false
   },
   "source": [
    "**Question 7.4.** ⭐⭐ In both of the previous two questions, the code you wrote likely looked similar. Let's generalize these calculations so that we can more easily compute conditional probabilities.\n",
    "\n",
    "In this question, you'll implement the function `conditional_probability`. It has two arguments, `find` and `given`, both of which are lists. Let's walk through how it works, using an example – suppose we want to use it to compute the probability that a randomly selected character from `all_characters` is from DC, given that they are good. (Note that this is the same probability that you computed in the previous question.)\n",
    "\n",
    "- `find` is a list of two elements:\n",
    "    - The first element in `find` is the column in `all_characters` that contains the event that we are trying to find the probability of. This can be any column in `all_characters`; in our example, this is `'COMPANY'`. \n",
    "    - The second element in `given` is the value in the aforementioned column that we're trying to find; in our example, this is `'DC'`.\n",
    "- `given` is a list of two elements:\n",
    "    - The first element in `given` is the column in `all_characters` that contains the event that we are given. This can also be any column in `all_characters`; in our example, this is `'ALIGN'`. \n",
    "    - The second element in `given` is the value in the aforementioned column; in our example, this is `'Good Characters'`.\n",
    "\n",
    "Putting this all together, this means that `conditional_probability(['COMPANY', 'DC'], ['ALIGN', 'Good Characters'])` should evaluate to your answer from the previous question (but `conditional_probability` should work for any example, not just this one).\n",
    "\n",
    "<!--\n",
    "BEGIN QUESTION\n",
    "name: q7_4\n",
    "points: 2\n",
    "-->"
   ]
  },
  {
   "cell_type": "code",
   "execution_count": null,
   "metadata": {},
   "outputs": [],
   "source": [
    "def conditional_probability(find, given):\n",
    "    '''Returns the conditional probability of an event given a known condition.'''\n",
    "    ...\n",
    "    \n",
    "# This should evalaute to your answer from the previous question\n",
    "conditional_probability(['COMPANY', 'DC'], ['ALIGN', 'Good Characters'])"
   ]
  },
  {
   "cell_type": "code",
   "execution_count": null,
   "metadata": {
    "deletable": false,
    "editable": false
   },
   "outputs": [],
   "source": [
    "grader.check(\"q7_4\")"
   ]
  },
  {
   "cell_type": "markdown",
   "metadata": {
    "deletable": false,
    "editable": false
   },
   "source": [
    "**Question 7.5.** Now, use the function `conditional_probability` to determine the following two probabilities:\n",
    "- `p_blue_eyes_given_black_hair`: the probability that a randomly selected character has blue eyes given that they have black hair.\n",
    "- `p_black_hair_given_blue_eyes`: the probability that a randomly selected character has black hair given that they have blue eyes.\n",
    "\n",
    "<!--\n",
    "BEGIN QUESTION\n",
    "name: q7_5\n",
    "points: 1\n",
    "-->"
   ]
  },
  {
   "cell_type": "code",
   "execution_count": null,
   "metadata": {},
   "outputs": [],
   "source": [
    "p_blue_eyes_given_black_hair = ...\n",
    "p_black_hair_given_blue_eyes = ...\n",
    "\n",
    "# Don't change the code below.\n",
    "print(f'''P(blue eyes given black hair) = {p_blue_eyes_given_black_hair}\n",
    "P(black hair given blue eyes) = {p_black_hair_given_blue_eyes}''')"
   ]
  },
  {
   "cell_type": "code",
   "execution_count": null,
   "metadata": {
    "deletable": false,
    "editable": false
   },
   "outputs": [],
   "source": [
    "grader.check(\"q7_5\")"
   ]
  },
  {
   "cell_type": "markdown",
   "metadata": {
    "deletable": false,
    "editable": false
   },
   "source": [
    "**Question 7.6.** In the previous question, you computed two probabilities. Just by looking at those two probabilities, is it possible to determine which of the numbers below is larger?\n",
    "\n",
    "- The number of characters with blue eyes in `all_characters`.\n",
    "- The number of characters with black hair in `all_characters`.\n",
    "\n",
    "Below, set `can_determine` to `True` if is possible to determine which number is larger based on these probabilities alone, and `False` if not.\n",
    "\n",
    "<!--\n",
    "BEGIN QUESTION\n",
    "name: q7_6\n",
    "points: 1\n",
    "-->"
   ]
  },
  {
   "cell_type": "code",
   "execution_count": null,
   "metadata": {},
   "outputs": [],
   "source": [
    "can_determine = ..."
   ]
  },
  {
   "cell_type": "code",
   "execution_count": null,
   "metadata": {
    "deletable": false,
    "editable": false
   },
   "outputs": [],
   "source": [
    "grader.check(\"q7_6\")"
   ]
  },
  {
   "cell_type": "markdown",
   "metadata": {
    "deletable": false,
    "editable": false
   },
   "source": [
    "**Question 7.7.** ⭐⭐⭐ Your friend realizes that you're still pretty bad at this guessing game, and instead starts to give you multiple characteristics about their randomly selected character. However, the function `conditional_probability` only allows for a single given characteristic.\n",
    "\n",
    "In this question, you'll complete the implementation of `conditional_probability_multiple`, which takes in two arguments, `find` and `given_list`.\n",
    "- The list `find` is formatted the same way as it is for `conditional_probability`.\n",
    "- The list `given_list` is a list of lists. Each of the lists inside `given_list` is formatted in the same way that the `given` list was formatted for `conditional_probability`; each list corresponds to a single condition.\n",
    "\n",
    "For instance,\n",
    "\n",
    "```py\n",
    "conditional_probability_multiple(['ALIGN', 'Good Characters'], [['COMPANY', 'DC'], ['GSM', 'Not Minority']])\n",
    "```\n",
    "\n",
    "computes the probability that a randomly selected character from `all_characters` is good, given that they are a DC character and are not a gender or sexual minority.\n",
    "\n",
    "<!--\n",
    "BEGIN QUESTION\n",
    "name: q7_7\n",
    "points: 3\n",
    "-->"
   ]
  },
  {
   "cell_type": "code",
   "execution_count": null,
   "metadata": {},
   "outputs": [],
   "source": [
    "def conditional_probability_multiple(find, given_list):\n",
    "    '''Returns the conditional probability of an event given a list of known conditions.'''\n",
    "    given_df = all_characters\n",
    "    for given in given_list:\n",
    "        ...\n",
    "    ...\n",
    "    \n",
    "# This should evaluate to your answer from 7.4 – note that the second argument is a list of lists.\n",
    "conditional_probability_multiple(['COMPANY', 'DC'], [['ALIGN', 'Good Characters']])"
   ]
  },
  {
   "cell_type": "code",
   "execution_count": null,
   "metadata": {
    "deletable": false,
    "editable": false
   },
   "outputs": [],
   "source": [
    "grader.check(\"q7_7\")"
   ]
  },
  {
   "cell_type": "markdown",
   "metadata": {
    "deletable": false,
    "editable": false
   },
   "source": [
    "**Question 7.8.** Using `conditional_probability_multiple`, determine the probability that a randomly selected character from `all_characters` is from DC given that they have red hair and blue eyes. Assign your answer to the variable `p_dc_given_red_blue`.\n",
    "\n",
    "<!--\n",
    "BEGIN QUESTION\n",
    "name: q7_8\n",
    "points: 1\n",
    "-->"
   ]
  },
  {
   "cell_type": "code",
   "execution_count": null,
   "metadata": {},
   "outputs": [],
   "source": [
    "p_dc_given_red_blue = ...\n",
    "p_dc_given_red_blue"
   ]
  },
  {
   "cell_type": "code",
   "execution_count": null,
   "metadata": {
    "deletable": false,
    "editable": false
   },
   "outputs": [],
   "source": [
    "grader.check(\"q7_8\")"
   ]
  },
  {
   "cell_type": "markdown",
   "metadata": {},
   "source": [
    "<a name='q8'></a>\n",
    "### Section 8: BuzzFeed 🐝\n",
    "\n",
    "<small>(<a href=\"#outline\">return to the outline</a>)</small>\n",
    "\n",
    "Your friend gets tired of quizzing you about comic characters. You both decide to instead take a BuzzFeed quiz titled [\"Which Marvel Character Are You Internally, And Which Are You Externally?\"](https://www.buzzfeed.com/noradominick/marvel-character-inside-outside-quiz). (If you're looking to take a break from working on the project, take the quiz!)\n",
    "\n",
    "<br>\n",
    "<center><img src='images/buzzfeed.png' width=300>\n",
    "    <i>A question from the BuzzFeed quiz.</i></center>\n",
    "\n",
    "The way the quiz works is that you answer a few questions, and it gives you back the names of two different Marvel characters, one that represents your \"internal\" personality and one that represents your \"external\" personality. You and your friend notice something weird – you both selected the same answers to all questions, yet you got different results.\n",
    "\n",
    "It turns out that the quiz actually does nothing with your answers. Instead, it randomly shows you characters for your internal and external personalities according to the following probability distributions:\n",
    "\n",
    "| Character | Probability for Internal | Probability for External |\n",
    "| --- | --- | --- |\n",
    "| Spider-Man | 0.4 | 0.25 |\n",
    "| Captain America | 0.12 | 0.15 |\n",
    "| Wolverine | 0.08 | 0.37 |\n",
    "| Iron Man | 0.11 | 0.08 |\n",
    "| Thor | 0.29 | 0.15 |\n",
    "\n",
    "Each time the quiz is completed, results are generated randomly according to the distributions listed above, separately for internal and external characters. Therefore, it is possible to get the same character for both your internal and external personality.\n",
    "\n",
    "**Note that all questions in this section are math questions, not coding questions.**"
   ]
  },
  {
   "cell_type": "markdown",
   "metadata": {
    "deletable": false,
    "editable": false
   },
   "source": [
    "**Question 8.1.** You take the quiz once. What is the probability that the quiz tells you that you're Wolverine internally and Spider-Man externally? Assign your answer to the variable `p_wolverine_spiderman`.\n",
    "\n",
    "<!--\n",
    "BEGIN QUESTION\n",
    "name: q8_1\n",
    "points: 1\n",
    "-->"
   ]
  },
  {
   "cell_type": "code",
   "execution_count": null,
   "metadata": {},
   "outputs": [],
   "source": [
    "p_wolverine_spiderman = ...\n",
    "p_wolverine_spiderman"
   ]
  },
  {
   "cell_type": "code",
   "execution_count": null,
   "metadata": {
    "deletable": false,
    "editable": false
   },
   "outputs": [],
   "source": [
    "grader.check(\"q8_1\")"
   ]
  },
  {
   "cell_type": "markdown",
   "metadata": {
    "deletable": false,
    "editable": false
   },
   "source": [
    "**Question 8.2.** You take the quiz once. What is the probability that you get Iron Man as one of your characters and Thor as the other? Assign your answer to the variable `p_iron_thor`.\n",
    "\n",
    "<!--\n",
    "BEGIN QUESTION\n",
    "name: q8_2\n",
    "points: 1\n",
    "-->"
   ]
  },
  {
   "cell_type": "code",
   "execution_count": null,
   "metadata": {},
   "outputs": [],
   "source": [
    "p_iron_thor = ...\n",
    "p_iron_thor"
   ]
  },
  {
   "cell_type": "code",
   "execution_count": null,
   "metadata": {
    "deletable": false,
    "editable": false
   },
   "outputs": [],
   "source": [
    "grader.check(\"q8_2\")"
   ]
  },
  {
   "cell_type": "markdown",
   "metadata": {},
   "source": [
    "For your convenience, we've repeated the distribution table from the start of this section below.\n",
    "\n",
    "| Character | Probability for Internal | Probability for External |\n",
    "| --- | --- | --- |\n",
    "| Spider-Man | 0.4 | 0.25 |\n",
    "| Captain America | 0.12 | 0.15 |\n",
    "| Wolverine | 0.08 | 0.37 |\n",
    "| Iron Man | 0.11 | 0.08 |\n",
    "| Thor | 0.29 | 0.15 |"
   ]
  },
  {
   "cell_type": "markdown",
   "metadata": {
    "deletable": false,
    "editable": false
   },
   "source": [
    "**Question 8.3.** You take the quiz once. What is the probability that the two characters the quiz gives you are different? Assign your answer to the variable `p_both_different`.\n",
    "\n",
    "<!--\n",
    "BEGIN QUESTION\n",
    "name: q8_3\n",
    "points: 1\n",
    "-->"
   ]
  },
  {
   "cell_type": "code",
   "execution_count": null,
   "metadata": {},
   "outputs": [],
   "source": [
    "p_both_different = ...\n",
    "p_both_different"
   ]
  },
  {
   "cell_type": "code",
   "execution_count": null,
   "metadata": {
    "deletable": false,
    "editable": false
   },
   "outputs": [],
   "source": [
    "grader.check(\"q8_3\")"
   ]
  },
  {
   "cell_type": "markdown",
   "metadata": {
    "deletable": false,
    "editable": false
   },
   "source": [
    "**Question 8.4.** You and five other friends (so 6 people total) each take the quiz once. What is the probability that the quiz tells at least one person that they are Iron Man internally? Assign your answer to the variable `p_ironman_internal`.\n",
    "\n",
    "<!--\n",
    "BEGIN QUESTION\n",
    "name: q8_4\n",
    "points: 1\n",
    "-->"
   ]
  },
  {
   "cell_type": "code",
   "execution_count": null,
   "metadata": {
    "scrolled": true
   },
   "outputs": [],
   "source": [
    "p_ironman_internal = ...\n",
    "p_ironman_internal"
   ]
  },
  {
   "cell_type": "code",
   "execution_count": null,
   "metadata": {
    "deletable": false,
    "editable": false
   },
   "outputs": [],
   "source": [
    "grader.check(\"q8_4\")"
   ]
  },
  {
   "cell_type": "markdown",
   "metadata": {
    "deletable": false,
    "editable": false
   },
   "source": [
    "**Question 8.5.** Again, suppose you and five other friends (so 6 people total) each take the quiz once. What is the probability that the quiz tells at least one person that they are Iron Man internally **or** externally? In other words, what is the probability that Iron Man appears at least once among the 12 characters that you and your friends receive? Assign your answer to the variable `p_ironman_internal_external`.\n",
    "\n",
    "<!--\n",
    "BEGIN QUESTION\n",
    "name: q8_5\n",
    "points: 1\n",
    "-->"
   ]
  },
  {
   "cell_type": "code",
   "execution_count": null,
   "metadata": {},
   "outputs": [],
   "source": [
    "p_ironman_internal_external = ...\n",
    "p_ironman_internal_external"
   ]
  },
  {
   "cell_type": "code",
   "execution_count": null,
   "metadata": {
    "deletable": false,
    "editable": false
   },
   "outputs": [],
   "source": [
    "grader.check(\"q8_5\")"
   ]
  },
  {
   "cell_type": "markdown",
   "metadata": {},
   "source": [
    "<a name='q9'></a>\n",
    "### Section 9: Action Figure Bundles 💥\n",
    "\n",
    "<small>(<a href=\"#outline\">return to the outline</a>)</small>\n",
    "\n",
    "This holiday season, Marvel and DC decide to put aside their differences and produce bundles of action figures consisting of characters from both companies.\n",
    "\n",
    "The bundles will consist of randomly selected characters from among the 40 characters with the most appearances, across both Marvel and DC. As evidenced by the code below, of the top 40 characters, 10 are from DC and 30 are from Marvel."
   ]
  },
  {
   "cell_type": "code",
   "execution_count": 95,
   "metadata": {
    "scrolled": true
   },
   "outputs": [
    {
     "data": {
      "text/html": [
       "<div>\n",
       "<style scoped>\n",
       "    .dataframe tbody tr th:only-of-type {\n",
       "        vertical-align: middle;\n",
       "    }\n",
       "\n",
       "    .dataframe tbody tr th {\n",
       "        vertical-align: top;\n",
       "    }\n",
       "\n",
       "    .dataframe thead th {\n",
       "        text-align: right;\n",
       "    }\n",
       "</style>\n",
       "<table border=\"1\" class=\"dataframe\">\n",
       "  <thead>\n",
       "    <tr style=\"text-align: right;\">\n",
       "      <th></th>\n",
       "      <th>ID</th>\n",
       "    </tr>\n",
       "    <tr>\n",
       "      <th>COMPANY</th>\n",
       "      <th></th>\n",
       "    </tr>\n",
       "  </thead>\n",
       "  <tbody>\n",
       "    <tr>\n",
       "      <th>DC</th>\n",
       "      <td>10</td>\n",
       "    </tr>\n",
       "    <tr>\n",
       "      <th>Marvel</th>\n",
       "      <td>30</td>\n",
       "    </tr>\n",
       "  </tbody>\n",
       "</table>\n",
       "</div>"
      ],
      "text/plain": [
       "         ID\n",
       "COMPANY    \n",
       "DC       10\n",
       "Marvel   30"
      ]
     },
     "execution_count": 95,
     "metadata": {},
     "output_type": "execute_result"
    }
   ],
   "source": [
    "all_characters.sort_values('APPEARANCES', ascending=False).take(np.arange(40)).groupby('COMPANY').count().get(['ID'])"
   ]
  },
  {
   "cell_type": "markdown",
   "metadata": {},
   "source": [
    "To create a bundle, we select 5 characters from this set of 40, in a way such that each of the 40 characters is equally likely to be chosen, and that characters can only be selected once."
   ]
  },
  {
   "cell_type": "markdown",
   "metadata": {
    "deletable": false,
    "editable": false
   },
   "source": [
    "**Question 9.1.** What is the probability that a bundle of 5 characters consists solely of DC characters? Assign your answer to the variable `p_bundle_dc_only`.\n",
    "\n",
    "_Note:_ This is a math question, not a coding question.\n",
    "\n",
    "<!--\n",
    "BEGIN QUESTION\n",
    "name: q9_1\n",
    "points: 1\n",
    "-->"
   ]
  },
  {
   "cell_type": "code",
   "execution_count": 96,
   "metadata": {},
   "outputs": [
    {
     "data": {
      "text/plain": [
       "0.0003829740671845935"
      ]
     },
     "execution_count": 96,
     "metadata": {},
     "output_type": "execute_result"
    }
   ],
   "source": [
    "p_bundle_dc_only = (10/40)*(9/39)*(8/38)*(7/37)*(6/36)\n",
    "p_bundle_dc_only"
   ]
  },
  {
   "cell_type": "code",
   "execution_count": 97,
   "metadata": {
    "deletable": false,
    "editable": false
   },
   "outputs": [
    {
     "data": {
      "text/html": [
       "<p><strong><pre style='display: inline;'>q9_1</pre></strong> passed!</p>"
      ],
      "text/plain": [
       "q9_1 results: All test cases passed!"
      ]
     },
     "execution_count": 97,
     "metadata": {},
     "output_type": "execute_result"
    }
   ],
   "source": [
    "grader.check(\"q9_1\")"
   ]
  },
  {
   "cell_type": "markdown",
   "metadata": {
    "deletable": false,
    "editable": false
   },
   "source": [
    "**Question 9.2.** ⭐⭐ Now we're interested in determining the probability that a bundle of 5 characters consists of 2 DC characters (and thus 3 Marvel characters). In future data science courses, you will learn to compute probabilities like these exactly, but for now we'll turn to the power of simulation to approximate this probability.\n",
    "\n",
    "Below, simulate 100,000 times the act of creating a bundle of 5 randomly selected characters. In each simulation, determine whether or not the number of DC characters was 2. Set `p_2_dc` to the approximate probability of this happening.\n",
    "\n",
    "_Hint:_ Start by defining an array, `all_40_characters`, that contains the value `'DC'` 10 times and the value `'Marvel'` 30 times. **Do not** create this array by typing 40 strings manually. Also, remember that the same character cannot appear in a bundle twice.\n",
    "\n",
    "<!--\n",
    "BEGIN QUESTION\n",
    "name: q9_2\n",
    "points: 2\n",
    "-->"
   ]
  },
  {
   "cell_type": "code",
   "execution_count": 102,
   "metadata": {},
   "outputs": [
    {
     "data": {
      "text/plain": [
       "0.27627"
      ]
     },
     "execution_count": 102,
     "metadata": {},
     "output_type": "execute_result"
    }
   ],
   "source": [
    "np.random.seed(1126) # Don't change this!\n",
    "\n",
    "all_40_characters = np.concatenate((np.repeat('DC', 10), np.repeat('Marvel', 30)), axis=None)\n",
    "successes = np.array([])\n",
    "n_reps = 100000 \n",
    "\n",
    "for i in np.arange(n_reps):\n",
    "    sim_bundle = np.random.choice(all_40_characters, size=5, replace=False)\n",
    "    if np.count_nonzero(sim_bundle == 'DC') == 2:\n",
    "        successes = np.append(successes, 1)\n",
    "    else:\n",
    "        successes = np.append(successes, 0)\n",
    "\n",
    "p_2_dc = successes.sum()/100000\n",
    "p_2_dc"
   ]
  },
  {
   "cell_type": "code",
   "execution_count": 103,
   "metadata": {
    "deletable": false,
    "editable": false
   },
   "outputs": [
    {
     "data": {
      "text/html": [
       "<p><strong><pre style='display: inline;'>q9_2</pre></strong> passed!</p>"
      ],
      "text/plain": [
       "q9_2 results: All test cases passed!"
      ]
     },
     "execution_count": 103,
     "metadata": {},
     "output_type": "execute_result"
    }
   ],
   "source": [
    "grader.check(\"q9_2\")"
   ]
  },
  {
   "cell_type": "markdown",
   "metadata": {
    "deletable": false,
    "editable": false
   },
   "source": [
    "**Question 9.3.** ⭐⭐ We're now interested in the probability that a bundle of 5 characters contains a different number of DC characters, not just 2. To do this, rather than writing many different simulations, your job is to write a single simulation that 100,000 times generates a bundle, counts the number of DC characters in that bundle, and stores the result in the array `simulated_dc_counts`. At the end, `simulated_dc_counts` will contain the number of DC characters in many simulated bundles, and you can use it to approximate the probability of a bundle containing 0, 1, 2, 3, 4, or 5 DC characters.\n",
    "\n",
    "Complete the simulation below.\n",
    "\n",
    "<!--\n",
    "BEGIN QUESTION\n",
    "name: q9_3\n",
    "points: 2\n",
    "-->"
   ]
  },
  {
   "cell_type": "code",
   "execution_count": 104,
   "metadata": {},
   "outputs": [
    {
     "data": {
      "text/plain": [
       "array([3., 2., 0., 1., 2., 2., 0., 2., 1., 2.])"
      ]
     },
     "execution_count": 104,
     "metadata": {},
     "output_type": "execute_result"
    }
   ],
   "source": [
    "np.random.seed(1126) # Don't change this!\n",
    "\n",
    "simulated_dc_counts = np.array([])\n",
    "n_reps = 100000 \n",
    "for i in np.arange(n_reps):\n",
    "    sim_bundle = np.random.choice(all_40_characters, size=5, replace=False)\n",
    "    simulated_dc_counts = np.append(simulated_dc_counts, np.count_nonzero(sim_bundle == 'DC'))\n",
    "\n",
    "# Just display the first ten counts.\n",
    "simulated_dc_counts[:10]"
   ]
  },
  {
   "cell_type": "code",
   "execution_count": 105,
   "metadata": {
    "deletable": false,
    "editable": false
   },
   "outputs": [
    {
     "data": {
      "text/html": [
       "<p><strong><pre style='display: inline;'>q9_3</pre></strong> passed!</p>"
      ],
      "text/plain": [
       "q9_3 results: All test cases passed!"
      ]
     },
     "execution_count": 105,
     "metadata": {},
     "output_type": "execute_result"
    }
   ],
   "source": [
    "grader.check(\"q9_3\")"
   ]
  },
  {
   "cell_type": "markdown",
   "metadata": {},
   "source": [
    "Now that you've completed the simulation, run the cell below to see the empirical distribution of the number of DC characters in a 5 character bundle. You should notice that the probability that all 5 characters are from DC is quite low, as you discovered in Question 9.1."
   ]
  },
  {
   "cell_type": "code",
   "execution_count": 106,
   "metadata": {},
   "outputs": [
    {
     "data": {
      "image/png": "[encoded data removed]",
      "text/plain": [
       "<Figure size 720x360 with 1 Axes>"
      ]
     },
     "metadata": {},
     "output_type": "display_data"
    }
   ],
   "source": [
    "bpd.DataFrame().assign(dc_counts=simulated_dc_counts) \\\n",
    "               .plot(kind='hist', density=True, bins=np.arange(-0.5, 6.5, 1), ec='w',figsize=(10, 5));\n",
    "plt.xlabel('Number of DC Characters in Bundle');\n",
    "plt.ylabel('Probability');"
   ]
  },
  {
   "cell_type": "markdown",
   "metadata": {
    "deletable": false,
    "editable": false
   },
   "source": [
    "**Question 9.4.** In the histogram above, the most likely number of DC characters in a bundle should be clear. Using `simulated_dc_counts`, assign `p_most_frequent` to an estimate of the probability that a bundle contains this most likely number of DC characters. (As a reminder, the probability is an estimate because we’re computing it through a simulation rather than with math.)\n",
    "\n",
    "<!--\n",
    "BEGIN QUESTION\n",
    "name: q9_4\n",
    "points: 1\n",
    "-->"
   ]
  },
  {
   "cell_type": "code",
   "execution_count": 107,
   "metadata": {},
   "outputs": [
    {
     "data": {
      "text/plain": [
       "0.41754"
      ]
     },
     "execution_count": 107,
     "metadata": {},
     "output_type": "execute_result"
    }
   ],
   "source": [
    "p_most_frequent = np.count_nonzero(simulated_dc_counts == 1)/simulated_dc_counts.shape[0]\n",
    "p_most_frequent"
   ]
  },
  {
   "cell_type": "code",
   "execution_count": 108,
   "metadata": {
    "deletable": false,
    "editable": false
   },
   "outputs": [
    {
     "data": {
      "text/html": [
       "<p><strong><pre style='display: inline;'>q9_4</pre></strong> passed!</p>"
      ],
      "text/plain": [
       "q9_4 results: All test cases passed!"
      ]
     },
     "execution_count": 108,
     "metadata": {},
     "output_type": "execute_result"
    }
   ],
   "source": [
    "grader.check(\"q9_4\")"
   ]
  },
  {
   "cell_type": "markdown",
   "metadata": {},
   "source": [
    "It doesn't seem like DC is getting a great deal out of this arrangement!"
   ]
  },
  {
   "cell_type": "markdown",
   "metadata": {},
   "source": [
    "## Congratulations! You've completed the Final Project – the last assignment of this course!\n",
    "\n",
    "If you're interested in learning more about the data and analysis that inspired this project, check out the article [Comic Books Are Still Made By Men, For Men And About Men](https://fivethirtyeight.com/features/women-in-comic-books/) from FiveThirtyEight. Here's a few visualizations from their analysis you may find interesting.\n",
    "\n",
    "<br>\n",
    "<center><img src='images/538_1.png' width=400><img src='images/538_2.png' width=400>\n",
    "    <img src='images/538_3.png' width=400>\n",
    "</center>\n",
    "\n",
    "If you're not exactly in the mood to look at more data after completing this project, we don't blame you. How about winding down with a comic book or movie? Marvel's new movie, *Black Panther: Wakanda Forever*, is in theaters now! Or take a trip to Balboa Park to visit the [Comic Con Museum](https://www.comic-con.org/museum)."
   ]
  },
  {
   "cell_type": "markdown",
   "metadata": {},
   "source": [
    "<a name='submit'></a>\n",
    "\n",
    "## Submission Instructions\n",
    "\n",
    "**Make sure that any cells you added in Question 4 are in \"Raw NBConvert\" format, and that you didn't accidentally change any provided cells to \"Raw NBConvert\".**\n",
    "\n",
    "As usual, follow these steps to submit your assignment:\n",
    "\n",
    "1. Select Kernel -> Restart & Run All to ensure that you have executed all cells, including the test cells.\n",
    "2. Read through the notebook to make sure everything is fine and all tests passed.\n",
    "3. Run the cell below to run all tests, and make sure that they all pass.\n",
    "4. Download your notebook using File -> Download as -> Notebook (.ipynb), then upload your notebook to Gradescope. Don't forget to add your partner to your group on Gradescope!\n",
    "\n",
    "If running all the tests at once causes a test to fail that didn't fail when you ran the notebook in order, check to see if you changed a variable's value later in your code. Make sure to use new variable names instead of reusing ones that are used in the tests. "
   ]
  },
  {
   "cell_type": "code",
   "execution_count": 100,
   "metadata": {},
   "outputs": [
    {
     "data": {
      "text/plain": [
       "q0_1 results: All test cases passed!\n",
       "\n",
       "q0_2 results: All test cases passed!\n",
       "\n",
       "q1_1 results: All test cases passed!\n",
       "\n",
       "q1_2 results: All test cases passed!\n",
       "\n",
       "q1_3 results: All test cases passed!\n",
       "\n",
       "q1_4 results: All test cases passed!\n",
       "\n",
       "q1_5 results: All test cases passed!\n",
       "\n",
       "q1_6 results: All test cases passed!\n",
       "\n",
       "q1_7 results: All test cases passed!\n",
       "\n",
       "q1_8 results: All test cases passed!\n",
       "\n",
       "q2_1 results:\n",
       "    q2_1 - 1 result:\n",
       "        Trying:\n",
       "            isinstance(all_characters, bpd.DataFrame) and all_characters.shape == (23272, 10)\n",
       "        Expecting:\n",
       "            True\n",
       "        **********************************************************************\n",
       "        Line 1, in q2_1 0\n",
       "        Failed example:\n",
       "            isinstance(all_characters, bpd.DataFrame) and all_characters.shape == (23272, 10)\n",
       "        Exception raised:\n",
       "            Traceback (most recent call last):\n",
       "              File \"/opt/conda/lib/python3.9/doctest.py\", line 1336, in __run\n",
       "                exec(compile(example.source, filename, \"single\",\n",
       "              File \"<doctest q2_1 0[0]>\", line 1, in <module>\n",
       "                isinstance(all_characters, bpd.DataFrame) and all_characters.shape == (23272, 10)\n",
       "            NameError: name 'all_characters' is not defined\n",
       "\n",
       "    q2_1 - 2 result:\n",
       "        Trying:\n",
       "            all_characters.get(\"COMPANY\").iloc[3] == \"DC\" # Make sure the rows for DC are before the rows for Marvel!\n",
       "        Expecting:\n",
       "            True\n",
       "        **********************************************************************\n",
       "        Line 1, in q2_1 1\n",
       "        Failed example:\n",
       "            all_characters.get(\"COMPANY\").iloc[3] == \"DC\" # Make sure the rows for DC are before the rows for Marvel!\n",
       "        Exception raised:\n",
       "            Traceback (most recent call last):\n",
       "              File \"/opt/conda/lib/python3.9/doctest.py\", line 1336, in __run\n",
       "                exec(compile(example.source, filename, \"single\",\n",
       "              File \"<doctest q2_1 1[0]>\", line 1, in <module>\n",
       "                all_characters.get(\"COMPANY\").iloc[3] == \"DC\" # Make sure the rows for DC are before the rows for Marvel!\n",
       "            NameError: name 'all_characters' is not defined\n",
       "\n",
       "    q2_1 - 3 result:\n",
       "        Trying:\n",
       "            all_characters.get(\"COMPANY\").iloc[-3] == \"Marvel\"\n",
       "        Expecting:\n",
       "            True\n",
       "        **********************************************************************\n",
       "        Line 1, in q2_1 2\n",
       "        Failed example:\n",
       "            all_characters.get(\"COMPANY\").iloc[-3] == \"Marvel\"\n",
       "        Exception raised:\n",
       "            Traceback (most recent call last):\n",
       "              File \"/opt/conda/lib/python3.9/doctest.py\", line 1336, in __run\n",
       "                exec(compile(example.source, filename, \"single\",\n",
       "              File \"<doctest q2_1 2[0]>\", line 1, in <module>\n",
       "                all_characters.get(\"COMPANY\").iloc[-3] == \"Marvel\"\n",
       "            NameError: name 'all_characters' is not defined\n",
       "\n",
       "    q2_1 - 4 result:\n",
       "        Trying:\n",
       "            all_characters.groupby('COMPANY').count().get('ID').loc['DC'] == 6896\n",
       "        Expecting:\n",
       "            True\n",
       "        **********************************************************************\n",
       "        Line 1, in q2_1 3\n",
       "        Failed example:\n",
       "            all_characters.groupby('COMPANY').count().get('ID').loc['DC'] == 6896\n",
       "        Exception raised:\n",
       "            Traceback (most recent call last):\n",
       "              File \"/opt/conda/lib/python3.9/doctest.py\", line 1336, in __run\n",
       "                exec(compile(example.source, filename, \"single\",\n",
       "              File \"<doctest q2_1 3[0]>\", line 1, in <module>\n",
       "                all_characters.groupby('COMPANY').count().get('ID').loc['DC'] == 6896\n",
       "            NameError: name 'all_characters' is not defined\n",
       "\n",
       "q2_2 results:\n",
       "    q2_2 - 1 result:\n",
       "        Trying:\n",
       "            isinstance(all_characters_goodness, bpd.DataFrame) and all_characters_goodness.shape == (19859, 11)\n",
       "        Expecting:\n",
       "            True\n",
       "        **********************************************************************\n",
       "        Line 1, in q2_2 0\n",
       "        Failed example:\n",
       "            isinstance(all_characters_goodness, bpd.DataFrame) and all_characters_goodness.shape == (19859, 11)\n",
       "        Exception raised:\n",
       "            Traceback (most recent call last):\n",
       "              File \"/opt/conda/lib/python3.9/doctest.py\", line 1336, in __run\n",
       "                exec(compile(example.source, filename, \"single\",\n",
       "              File \"<doctest q2_2 0[0]>\", line 1, in <module>\n",
       "                isinstance(all_characters_goodness, bpd.DataFrame) and all_characters_goodness.shape == (19859, 11)\n",
       "            NameError: name 'all_characters_goodness' is not defined\n",
       "\n",
       "    q2_2 - 2 result:\n",
       "        Trying:\n",
       "            all_characters_goodness.get(\"GOOD\").loc[\"Green Lantern (Hal Jordan)\"] == 1\n",
       "        Expecting:\n",
       "            True\n",
       "        **********************************************************************\n",
       "        Line 1, in q2_2 1\n",
       "        Failed example:\n",
       "            all_characters_goodness.get(\"GOOD\").loc[\"Green Lantern (Hal Jordan)\"] == 1\n",
       "        Exception raised:\n",
       "            Traceback (most recent call last):\n",
       "              File \"/opt/conda/lib/python3.9/doctest.py\", line 1336, in __run\n",
       "                exec(compile(example.source, filename, \"single\",\n",
       "              File \"<doctest q2_2 1[0]>\", line 1, in <module>\n",
       "                all_characters_goodness.get(\"GOOD\").loc[\"Green Lantern (Hal Jordan)\"] == 1\n",
       "            NameError: name 'all_characters_goodness' is not defined\n",
       "\n",
       "    q2_2 - 3 result:\n",
       "        Trying:\n",
       "            all_characters_goodness.get(\"GOOD\").loc[\"Tinkerer (Skrull) (Earth-616)\"] == -1\n",
       "        Expecting:\n",
       "            True\n",
       "        **********************************************************************\n",
       "        Line 1, in q2_2 2\n",
       "        Failed example:\n",
       "            all_characters_goodness.get(\"GOOD\").loc[\"Tinkerer (Skrull) (Earth-616)\"] == -1\n",
       "        Exception raised:\n",
       "            Traceback (most recent call last):\n",
       "              File \"/opt/conda/lib/python3.9/doctest.py\", line 1336, in __run\n",
       "                exec(compile(example.source, filename, \"single\",\n",
       "              File \"<doctest q2_2 2[0]>\", line 1, in <module>\n",
       "                all_characters_goodness.get(\"GOOD\").loc[\"Tinkerer (Skrull) (Earth-616)\"] == -1\n",
       "            NameError: name 'all_characters_goodness' is not defined\n",
       "\n",
       "    q2_2 - 4 result:\n",
       "        Trying:\n",
       "            np.isclose(all_characters_goodness.get(\"GOOD\").mean(), -0.1081121909461705)\n",
       "        Expecting:\n",
       "            True\n",
       "        **********************************************************************\n",
       "        Line 1, in q2_2 3\n",
       "        Failed example:\n",
       "            np.isclose(all_characters_goodness.get(\"GOOD\").mean(), -0.1081121909461705)\n",
       "        Exception raised:\n",
       "            Traceback (most recent call last):\n",
       "              File \"/opt/conda/lib/python3.9/doctest.py\", line 1336, in __run\n",
       "                exec(compile(example.source, filename, \"single\",\n",
       "              File \"<doctest q2_2 3[0]>\", line 1, in <module>\n",
       "                np.isclose(all_characters_goodness.get(\"GOOD\").mean(), -0.1081121909461705)\n",
       "            NameError: name 'all_characters_goodness' is not defined\n",
       "\n",
       "q2_3 results:\n",
       "    q2_3 - 1 result:\n",
       "        Trying:\n",
       "            callable(diff_of_means) and isinstance(observed_diff, float)\n",
       "        Expecting:\n",
       "            True\n",
       "        **********************************************************************\n",
       "        Line 1, in q2_3 0\n",
       "        Failed example:\n",
       "            callable(diff_of_means) and isinstance(observed_diff, float)\n",
       "        Exception raised:\n",
       "            Traceback (most recent call last):\n",
       "              File \"/opt/conda/lib/python3.9/doctest.py\", line 1336, in __run\n",
       "                exec(compile(example.source, filename, \"single\",\n",
       "              File \"<doctest q2_3 0[0]>\", line 1, in <module>\n",
       "                callable(diff_of_means) and isinstance(observed_diff, float)\n",
       "            NameError: name 'diff_of_means' is not defined\n",
       "\n",
       "    q2_3 - 2 result:\n",
       "        Trying:\n",
       "            np.isclose(diff_of_means(all_characters_goodness, 'COMPANY', 'DC', 'Marvel', 'YEAR'), 85.05327221123798)\n",
       "        Expecting:\n",
       "            True\n",
       "        **********************************************************************\n",
       "        Line 1, in q2_3 1\n",
       "        Failed example:\n",
       "            np.isclose(diff_of_means(all_characters_goodness, 'COMPANY', 'DC', 'Marvel', 'YEAR'), 85.05327221123798)\n",
       "        Exception raised:\n",
       "            Traceback (most recent call last):\n",
       "              File \"/opt/conda/lib/python3.9/doctest.py\", line 1336, in __run\n",
       "                exec(compile(example.source, filename, \"single\",\n",
       "              File \"<doctest q2_3 1[0]>\", line 1, in <module>\n",
       "                np.isclose(diff_of_means(all_characters_goodness, 'COMPANY', 'DC', 'Marvel', 'YEAR'), 85.05327221123798)\n",
       "            NameError: name 'diff_of_means' is not defined\n",
       "\n",
       "q2_4 results:\n",
       "    q2_4 - 1 result:\n",
       "        Trying:\n",
       "            len(differences) == 100\n",
       "        Expecting:\n",
       "            True\n",
       "        **********************************************************************\n",
       "        Line 1, in q2_4 0\n",
       "        Failed example:\n",
       "            len(differences) == 100\n",
       "        Exception raised:\n",
       "            Traceback (most recent call last):\n",
       "              File \"/opt/conda/lib/python3.9/doctest.py\", line 1336, in __run\n",
       "                exec(compile(example.source, filename, \"single\",\n",
       "              File \"<doctest q2_4 0[0]>\", line 1, in <module>\n",
       "                len(differences) == 100\n",
       "            NameError: name 'differences' is not defined\n",
       "\n",
       "q2_5 results:\n",
       "    q2_5 - 1 result:\n",
       "        Trying:\n",
       "            0 <= goodness_p <= 1\n",
       "        Expecting:\n",
       "            True\n",
       "        **********************************************************************\n",
       "        Line 1, in q2_5 0\n",
       "        Failed example:\n",
       "            0 <= goodness_p <= 1\n",
       "        Exception raised:\n",
       "            Traceback (most recent call last):\n",
       "              File \"/opt/conda/lib/python3.9/doctest.py\", line 1336, in __run\n",
       "                exec(compile(example.source, filename, \"single\",\n",
       "              File \"<doctest q2_5 0[0]>\", line 1, in <module>\n",
       "                0 <= goodness_p <= 1\n",
       "            NameError: name 'goodness_p' is not defined\n",
       "\n",
       "q3_1 results:\n",
       "    q3_1 - 1 result:\n",
       "        Trying:\n",
       "            callable(add_good) and isinstance(add_good(dc), bpd.DataFrame)\n",
       "        Expecting:\n",
       "            True\n",
       "        **********************************************************************\n",
       "        Line 1, in q3_1 0\n",
       "        Failed example:\n",
       "            callable(add_good) and isinstance(add_good(dc), bpd.DataFrame)\n",
       "        Exception raised:\n",
       "            Traceback (most recent call last):\n",
       "              File \"/opt/conda/lib/python3.9/doctest.py\", line 1336, in __run\n",
       "                exec(compile(example.source, filename, \"single\",\n",
       "              File \"<doctest q3_1 0[0]>\", line 1, in <module>\n",
       "                callable(add_good) and isinstance(add_good(dc), bpd.DataFrame)\n",
       "            NameError: name 'add_good' is not defined\n",
       "\n",
       "q3_2 results:\n",
       "    q3_2 - 1 result:\n",
       "        Trying:\n",
       "            isinstance(male_female, bpd.DataFrame) and male_female.shape == (12897, 2)\n",
       "        Expecting:\n",
       "            True\n",
       "        **********************************************************************\n",
       "        Line 1, in q3_2 0\n",
       "        Failed example:\n",
       "            isinstance(male_female, bpd.DataFrame) and male_female.shape == (12897, 2)\n",
       "        Exception raised:\n",
       "            Traceback (most recent call last):\n",
       "              File \"/opt/conda/lib/python3.9/doctest.py\", line 1336, in __run\n",
       "                exec(compile(example.source, filename, \"single\",\n",
       "              File \"<doctest q3_2 0[0]>\", line 1, in <module>\n",
       "                isinstance(male_female, bpd.DataFrame) and male_female.shape == (12897, 2)\n",
       "            NameError: name 'male_female' is not defined\n",
       "\n",
       "    q3_2 - 2 result:\n",
       "        Trying:\n",
       "            male_female.get('GOOD').loc['Spider-Man (Peter Parker)'] == 1\n",
       "        Expecting:\n",
       "            True\n",
       "        **********************************************************************\n",
       "        Line 1, in q3_2 1\n",
       "        Failed example:\n",
       "            male_female.get('GOOD').loc['Spider-Man (Peter Parker)'] == 1\n",
       "        Exception raised:\n",
       "            Traceback (most recent call last):\n",
       "              File \"/opt/conda/lib/python3.9/doctest.py\", line 1336, in __run\n",
       "                exec(compile(example.source, filename, \"single\",\n",
       "              File \"<doctest q3_2 1[0]>\", line 1, in <module>\n",
       "                male_female.get('GOOD').loc['Spider-Man (Peter Parker)'] == 1\n",
       "            NameError: name 'male_female' is not defined\n",
       "\n",
       "q3_3 results:\n",
       "    q3_3 - 1 result:\n",
       "        Trying:\n",
       "            callable(permutation_test)\n",
       "        Expecting:\n",
       "            True\n",
       "        **********************************************************************\n",
       "        Line 1, in q3_3 0\n",
       "        Failed example:\n",
       "            callable(permutation_test)\n",
       "        Exception raised:\n",
       "            Traceback (most recent call last):\n",
       "              File \"/opt/conda/lib/python3.9/doctest.py\", line 1336, in __run\n",
       "                exec(compile(example.source, filename, \"single\",\n",
       "              File \"<doctest q3_3 0[0]>\", line 1, in <module>\n",
       "                callable(permutation_test)\n",
       "            NameError: name 'permutation_test' is not defined\n",
       "\n",
       "    q3_3 - 2 result:\n",
       "        Trying:\n",
       "            0.15 <= permutation_test(all_characters_goodness[all_characters_goodness.get('YEAR') == 1962], 'COMPANY', 'DC', 'Marvel', 'GOOD', for_autograder=True) <= 0.45\n",
       "        Expecting:\n",
       "            True\n",
       "        **********************************************************************\n",
       "        Line 1, in q3_3 1\n",
       "        Failed example:\n",
       "            0.15 <= permutation_test(all_characters_goodness[all_characters_goodness.get('YEAR') == 1962], 'COMPANY', 'DC', 'Marvel', 'GOOD', for_autograder=True) <= 0.45\n",
       "        Exception raised:\n",
       "            Traceback (most recent call last):\n",
       "              File \"/opt/conda/lib/python3.9/doctest.py\", line 1336, in __run\n",
       "                exec(compile(example.source, filename, \"single\",\n",
       "              File \"<doctest q3_3 1[0]>\", line 1, in <module>\n",
       "                0.15 <= permutation_test(all_characters_goodness[all_characters_goodness.get('YEAR') == 1962], 'COMPANY', 'DC', 'Marvel', 'GOOD', for_autograder=True) <= 0.45\n",
       "            NameError: name 'permutation_test' is not defined\n",
       "\n",
       "q3_4 results:\n",
       "    q3_4 - 1 result:\n",
       "        Trying:\n",
       "            0 <= male_female_p < 1\n",
       "        Expecting:\n",
       "            True\n",
       "        **********************************************************************\n",
       "        Line 1, in q3_4 0\n",
       "        Failed example:\n",
       "            0 <= male_female_p < 1\n",
       "        Exception raised:\n",
       "            Traceback (most recent call last):\n",
       "              File \"/opt/conda/lib/python3.9/doctest.py\", line 1336, in __run\n",
       "                exec(compile(example.source, filename, \"single\",\n",
       "              File \"<doctest q3_4 0[0]>\", line 1, in <module>\n",
       "                0 <= male_female_p < 1\n",
       "            NameError: name 'male_female_p' is not defined\n",
       "\n",
       "q3_5 results:\n",
       "    q3_5 - 1 result:\n",
       "        Trying:\n",
       "            male_female_conclusion in [1, 2, 3]\n",
       "        Expecting:\n",
       "            True\n",
       "        **********************************************************************\n",
       "        Line 1, in q3_5 0\n",
       "        Failed example:\n",
       "            male_female_conclusion in [1, 2, 3]\n",
       "        Exception raised:\n",
       "            Traceback (most recent call last):\n",
       "              File \"/opt/conda/lib/python3.9/doctest.py\", line 1336, in __run\n",
       "                exec(compile(example.source, filename, \"single\",\n",
       "              File \"<doctest q3_5 0[0]>\", line 1, in <module>\n",
       "                male_female_conclusion in [1, 2, 3]\n",
       "            NameError: name 'male_female_conclusion' is not defined\n",
       "\n",
       "q4_1 results:\n",
       "    q4_1 - 1 result:\n",
       "        Trying:\n",
       "            living_test in [1, 2, 3]\n",
       "        Expecting:\n",
       "            True\n",
       "        **********************************************************************\n",
       "        Line 1, in q4_1 0\n",
       "        Failed example:\n",
       "            living_test in [1, 2, 3]\n",
       "        Exception raised:\n",
       "            Traceback (most recent call last):\n",
       "              File \"/opt/conda/lib/python3.9/doctest.py\", line 1336, in __run\n",
       "                exec(compile(example.source, filename, \"single\",\n",
       "              File \"<doctest q4_1 0[0]>\", line 1, in <module>\n",
       "                living_test in [1, 2, 3]\n",
       "            NameError: name 'living_test' is not defined\n",
       "\n",
       "q4_2 results:\n",
       "    q4_2 - 1 result:\n",
       "        Trying:\n",
       "            hair_test in [1, 2, 3]\n",
       "        Expecting:\n",
       "            True\n",
       "        **********************************************************************\n",
       "        Line 1, in q4_2 0\n",
       "        Failed example:\n",
       "            hair_test in [1, 2, 3]\n",
       "        Exception raised:\n",
       "            Traceback (most recent call last):\n",
       "              File \"/opt/conda/lib/python3.9/doctest.py\", line 1336, in __run\n",
       "                exec(compile(example.source, filename, \"single\",\n",
       "              File \"<doctest q4_2 0[0]>\", line 1, in <module>\n",
       "                hair_test in [1, 2, 3]\n",
       "            NameError: name 'hair_test' is not defined\n",
       "\n",
       "q4_3 results:\n",
       "    q4_3 - 1 result:\n",
       "        Trying:\n",
       "            isinstance(identity_test, int)\n",
       "        Expecting:\n",
       "            True\n",
       "        **********************************************************************\n",
       "        Line 1, in q4_3 0\n",
       "        Failed example:\n",
       "            isinstance(identity_test, int)\n",
       "        Exception raised:\n",
       "            Traceback (most recent call last):\n",
       "              File \"/opt/conda/lib/python3.9/doctest.py\", line 1336, in __run\n",
       "                exec(compile(example.source, filename, \"single\",\n",
       "              File \"<doctest q4_3 0[0]>\", line 1, in <module>\n",
       "                isinstance(identity_test, int)\n",
       "            NameError: name 'identity_test' is not defined\n",
       "\n",
       "q4_4 results:\n",
       "    q4_4 - 1 result:\n",
       "        Trying:\n",
       "            isinstance(minority_test, int)\n",
       "        Expecting:\n",
       "            True\n",
       "        **********************************************************************\n",
       "        Line 1, in q4_4 0\n",
       "        Failed example:\n",
       "            isinstance(minority_test, int)\n",
       "        Exception raised:\n",
       "            Traceback (most recent call last):\n",
       "              File \"/opt/conda/lib/python3.9/doctest.py\", line 1336, in __run\n",
       "                exec(compile(example.source, filename, \"single\",\n",
       "              File \"<doctest q4_4 0[0]>\", line 1, in <module>\n",
       "                isinstance(minority_test, int)\n",
       "            NameError: name 'minority_test' is not defined\n",
       "\n",
       "q5_1 results:\n",
       "    q5_1 - 1 result:\n",
       "        Trying:\n",
       "            isinstance(with_decade, bpd.DataFrame) and 'DECADE' in with_decade.columns\n",
       "        Expecting:\n",
       "            True\n",
       "        **********************************************************************\n",
       "        Line 1, in q5_1 0\n",
       "        Failed example:\n",
       "            isinstance(with_decade, bpd.DataFrame) and 'DECADE' in with_decade.columns\n",
       "        Exception raised:\n",
       "            Traceback (most recent call last):\n",
       "              File \"/opt/conda/lib/python3.9/doctest.py\", line 1336, in __run\n",
       "                exec(compile(example.source, filename, \"single\",\n",
       "              File \"<doctest q5_1 0[0]>\", line 1, in <module>\n",
       "                isinstance(with_decade, bpd.DataFrame) and 'DECADE' in with_decade.columns\n",
       "            NameError: name 'with_decade' is not defined\n",
       "\n",
       "q5_2 results:\n",
       "    q5_2 - 1 result:\n",
       "        Trying:\n",
       "            isinstance(dc_red_blue_80s, bpd.DataFrame) and dc_red_blue_80s.shape == (34, 10)\n",
       "        Expecting:\n",
       "            True\n",
       "        **********************************************************************\n",
       "        Line 1, in q5_2 0\n",
       "        Failed example:\n",
       "            isinstance(dc_red_blue_80s, bpd.DataFrame) and dc_red_blue_80s.shape == (34, 10)\n",
       "        Exception raised:\n",
       "            Traceback (most recent call last):\n",
       "              File \"/opt/conda/lib/python3.9/doctest.py\", line 1336, in __run\n",
       "                exec(compile(example.source, filename, \"single\",\n",
       "              File \"<doctest q5_2 0[0]>\", line 1, in <module>\n",
       "                isinstance(dc_red_blue_80s, bpd.DataFrame) and dc_red_blue_80s.shape == (34, 10)\n",
       "            NameError: name 'dc_red_blue_80s' is not defined\n",
       "\n",
       "q5_3 results:\n",
       "    q5_3 - 1 result:\n",
       "        Trying:\n",
       "            isinstance(boot_medians, np.ndarray) and len(boot_medians) == 5000\n",
       "        Expecting:\n",
       "            True\n",
       "        **********************************************************************\n",
       "        Line 1, in q5_3 0\n",
       "        Failed example:\n",
       "            isinstance(boot_medians, np.ndarray) and len(boot_medians) == 5000\n",
       "        Exception raised:\n",
       "            Traceback (most recent call last):\n",
       "              File \"/opt/conda/lib/python3.9/doctest.py\", line 1336, in __run\n",
       "                exec(compile(example.source, filename, \"single\",\n",
       "              File \"<doctest q5_3 0[0]>\", line 1, in <module>\n",
       "                isinstance(boot_medians, np.ndarray) and len(boot_medians) == 5000\n",
       "            NameError: name 'boot_medians' is not defined\n",
       "\n",
       "q5_4 results:\n",
       "    q5_4 - 1 result:\n",
       "        Trying:\n",
       "            q5_hist in [1, 2, 3]\n",
       "        Expecting:\n",
       "            True\n",
       "        **********************************************************************\n",
       "        Line 1, in q5_4 0\n",
       "        Failed example:\n",
       "            q5_hist in [1, 2, 3]\n",
       "        Exception raised:\n",
       "            Traceback (most recent call last):\n",
       "              File \"/opt/conda/lib/python3.9/doctest.py\", line 1336, in __run\n",
       "                exec(compile(example.source, filename, \"single\",\n",
       "              File \"<doctest q5_4 0[0]>\", line 1, in <module>\n",
       "                q5_hist in [1, 2, 3]\n",
       "            NameError: name 'q5_hist' is not defined\n",
       "\n",
       "q5_5 results:\n",
       "    q5_5 - 1 result:\n",
       "        Trying:\n",
       "            isinstance(left_endpoint, float) and isinstance(right_endpoint, float)\n",
       "        Expecting:\n",
       "            True\n",
       "        **********************************************************************\n",
       "        Line 1, in q5_5 0\n",
       "        Failed example:\n",
       "            isinstance(left_endpoint, float) and isinstance(right_endpoint, float)\n",
       "        Exception raised:\n",
       "            Traceback (most recent call last):\n",
       "              File \"/opt/conda/lib/python3.9/doctest.py\", line 1336, in __run\n",
       "                exec(compile(example.source, filename, \"single\",\n",
       "              File \"<doctest q5_5 0[0]>\", line 1, in <module>\n",
       "                isinstance(left_endpoint, float) and isinstance(right_endpoint, float)\n",
       "            NameError: name 'left_endpoint' is not defined\n",
       "\n",
       "q5_6 results:\n",
       "    q5_6 - 1 result:\n",
       "        Trying:\n",
       "            q5_interpretation in [1, 2, 3, 4]\n",
       "        Expecting:\n",
       "            True\n",
       "        **********************************************************************\n",
       "        Line 1, in q5_6 0\n",
       "        Failed example:\n",
       "            q5_interpretation in [1, 2, 3, 4]\n",
       "        Exception raised:\n",
       "            Traceback (most recent call last):\n",
       "              File \"/opt/conda/lib/python3.9/doctest.py\", line 1336, in __run\n",
       "                exec(compile(example.source, filename, \"single\",\n",
       "              File \"<doctest q5_6 0[0]>\", line 1, in <module>\n",
       "                q5_interpretation in [1, 2, 3, 4]\n",
       "            NameError: name 'q5_interpretation' is not defined\n",
       "\n",
       "q6_1 results:\n",
       "    q6_1 - 1 result:\n",
       "        Trying:\n",
       "            isinstance(nonbinary_prop_marvel, float)\n",
       "        Expecting:\n",
       "            True\n",
       "        **********************************************************************\n",
       "        Line 1, in q6_1 0\n",
       "        Failed example:\n",
       "            isinstance(nonbinary_prop_marvel, float)\n",
       "        Exception raised:\n",
       "            Traceback (most recent call last):\n",
       "              File \"/opt/conda/lib/python3.9/doctest.py\", line 1336, in __run\n",
       "                exec(compile(example.source, filename, \"single\",\n",
       "              File \"<doctest q6_1 0[0]>\", line 1, in <module>\n",
       "                isinstance(nonbinary_prop_marvel, float)\n",
       "            NameError: name 'nonbinary_prop_marvel' is not defined\n",
       "\n",
       "    q6_1 - 2 result:\n",
       "        Trying:\n",
       "            not np.isclose(nonbinary_prop_marvel, 0.0028700537371763556) # If you see this, your answer is wrong – only look at characters where data is available.\n",
       "        Expecting:\n",
       "            True\n",
       "        **********************************************************************\n",
       "        Line 1, in q6_1 1\n",
       "        Failed example:\n",
       "            not np.isclose(nonbinary_prop_marvel, 0.0028700537371763556) # If you see this, your answer is wrong – only look at characters where data is available.\n",
       "        Exception raised:\n",
       "            Traceback (most recent call last):\n",
       "              File \"/opt/conda/lib/python3.9/doctest.py\", line 1336, in __run\n",
       "                exec(compile(example.source, filename, \"single\",\n",
       "              File \"<doctest q6_1 1[0]>\", line 1, in <module>\n",
       "                not np.isclose(nonbinary_prop_marvel, 0.0028700537371763556) # If you see this, your answer is wrong – only look at characters where data is available.\n",
       "            NameError: name 'nonbinary_prop_marvel' is not defined\n",
       "\n",
       "q6_2 results:\n",
       "    q6_2 - 1 result:\n",
       "        Trying:\n",
       "            isinstance(nonbinary_df, bpd.DataFrame) and nonbinary_df.shape == (15522, 10) # If you're failing this test and are certain your code is correct, make sure you haven't modified the marvel DataFrame since Section 0.\n",
       "        Expecting:\n",
       "            True\n",
       "        **********************************************************************\n",
       "        Line 1, in q6_2 0\n",
       "        Failed example:\n",
       "            isinstance(nonbinary_df, bpd.DataFrame) and nonbinary_df.shape == (15522, 10) # If you're failing this test and are certain your code is correct, make sure you haven't modified the marvel DataFrame since Section 0.\n",
       "        Exception raised:\n",
       "            Traceback (most recent call last):\n",
       "              File \"/opt/conda/lib/python3.9/doctest.py\", line 1336, in __run\n",
       "                exec(compile(example.source, filename, \"single\",\n",
       "              File \"<doctest q6_2 0[0]>\", line 1, in <module>\n",
       "                isinstance(nonbinary_df, bpd.DataFrame) and nonbinary_df.shape == (15522, 10) # If you're failing this test and are certain your code is correct, make sure you haven't modified the marvel DataFrame since Section 0.\n",
       "            NameError: name 'nonbinary_df' is not defined\n",
       "\n",
       "q6_3 results:\n",
       "    q6_3 - 1 result:\n",
       "        Trying:\n",
       "            isinstance(boot_proportions, np.ndarray) and len(boot_proportions) == 10000\n",
       "        Expecting:\n",
       "            True\n",
       "        **********************************************************************\n",
       "        Line 1, in q6_3 0\n",
       "        Failed example:\n",
       "            isinstance(boot_proportions, np.ndarray) and len(boot_proportions) == 10000\n",
       "        Exception raised:\n",
       "            Traceback (most recent call last):\n",
       "              File \"/opt/conda/lib/python3.9/doctest.py\", line 1336, in __run\n",
       "                exec(compile(example.source, filename, \"single\",\n",
       "              File \"<doctest q6_3 0[0]>\", line 1, in <module>\n",
       "                isinstance(boot_proportions, np.ndarray) and len(boot_proportions) == 10000\n",
       "            NameError: name 'boot_proportions' is not defined\n",
       "\n",
       "q6_4 results:\n",
       "    q6_4 - 1 result:\n",
       "        Trying:\n",
       "            isinstance(nonbinary_left, float) and isinstance(nonbinary_right, float)\n",
       "        Expecting:\n",
       "            True\n",
       "        **********************************************************************\n",
       "        Line 1, in q6_4 0\n",
       "        Failed example:\n",
       "            isinstance(nonbinary_left, float) and isinstance(nonbinary_right, float)\n",
       "        Exception raised:\n",
       "            Traceback (most recent call last):\n",
       "              File \"/opt/conda/lib/python3.9/doctest.py\", line 1336, in __run\n",
       "                exec(compile(example.source, filename, \"single\",\n",
       "              File \"<doctest q6_4 0[0]>\", line 1, in <module>\n",
       "                isinstance(nonbinary_left, float) and isinstance(nonbinary_right, float)\n",
       "            NameError: name 'nonbinary_left' is not defined\n",
       "\n",
       "q6_5 results:\n",
       "    q6_5 - 1 result:\n",
       "        Trying:\n",
       "            reject_null in [True, False] and q6_interpretation in [1, 2, 3, 4]\n",
       "        Expecting:\n",
       "            True\n",
       "        **********************************************************************\n",
       "        Line 1, in q6_5 0\n",
       "        Failed example:\n",
       "            reject_null in [True, False] and q6_interpretation in [1, 2, 3, 4]\n",
       "        Exception raised:\n",
       "            Traceback (most recent call last):\n",
       "              File \"/opt/conda/lib/python3.9/doctest.py\", line 1336, in __run\n",
       "                exec(compile(example.source, filename, \"single\",\n",
       "              File \"<doctest q6_5 0[0]>\", line 1, in <module>\n",
       "                reject_null in [True, False] and q6_interpretation in [1, 2, 3, 4]\n",
       "            NameError: name 'reject_null' is not defined\n",
       "\n",
       "q7_1 results:\n",
       "    q7_1 - 1 result:\n",
       "        Trying:\n",
       "            0 < p_superman_given_blue_eyes < 1\n",
       "        Expecting:\n",
       "            True\n",
       "        **********************************************************************\n",
       "        Line 1, in q7_1 0\n",
       "        Failed example:\n",
       "            0 < p_superman_given_blue_eyes < 1\n",
       "        Exception raised:\n",
       "            Traceback (most recent call last):\n",
       "              File \"/opt/conda/lib/python3.9/doctest.py\", line 1336, in __run\n",
       "                exec(compile(example.source, filename, \"single\",\n",
       "              File \"<doctest q7_1 0[0]>\", line 1, in <module>\n",
       "                0 < p_superman_given_blue_eyes < 1\n",
       "            NameError: name 'p_superman_given_blue_eyes' is not defined\n",
       "\n",
       "q7_2 results:\n",
       "    q7_2 - 1 result:\n",
       "        Trying:\n",
       "            0 < p_good_given_dc < 1\n",
       "        Expecting:\n",
       "            True\n",
       "        **********************************************************************\n",
       "        Line 1, in q7_2 0\n",
       "        Failed example:\n",
       "            0 < p_good_given_dc < 1\n",
       "        Exception raised:\n",
       "            Traceback (most recent call last):\n",
       "              File \"/opt/conda/lib/python3.9/doctest.py\", line 1336, in __run\n",
       "                exec(compile(example.source, filename, \"single\",\n",
       "              File \"<doctest q7_2 0[0]>\", line 1, in <module>\n",
       "                0 < p_good_given_dc < 1\n",
       "            NameError: name 'p_good_given_dc' is not defined\n",
       "\n",
       "q7_3 results:\n",
       "    q7_3 - 1 result:\n",
       "        Trying:\n",
       "            0 < p_dc_given_good < 1\n",
       "        Expecting:\n",
       "            True\n",
       "        **********************************************************************\n",
       "        Line 1, in q7_3 0\n",
       "        Failed example:\n",
       "            0 < p_dc_given_good < 1\n",
       "        Exception raised:\n",
       "            Traceback (most recent call last):\n",
       "              File \"/opt/conda/lib/python3.9/doctest.py\", line 1336, in __run\n",
       "                exec(compile(example.source, filename, \"single\",\n",
       "              File \"<doctest q7_3 0[0]>\", line 1, in <module>\n",
       "                0 < p_dc_given_good < 1\n",
       "            NameError: name 'p_dc_given_good' is not defined\n",
       "\n",
       "q7_4 results:\n",
       "    q7_4 - 1 result:\n",
       "        Trying:\n",
       "            callable(conditional_probability) and 0 < conditional_probability(['COMPANY', 'DC'], ['ALIGN', 'Good Characters']) < 1\n",
       "        Expecting:\n",
       "            True\n",
       "        **********************************************************************\n",
       "        Line 1, in q7_4 0\n",
       "        Failed example:\n",
       "            callable(conditional_probability) and 0 < conditional_probability(['COMPANY', 'DC'], ['ALIGN', 'Good Characters']) < 1\n",
       "        Exception raised:\n",
       "            Traceback (most recent call last):\n",
       "              File \"/opt/conda/lib/python3.9/doctest.py\", line 1336, in __run\n",
       "                exec(compile(example.source, filename, \"single\",\n",
       "              File \"<doctest q7_4 0[0]>\", line 1, in <module>\n",
       "                callable(conditional_probability) and 0 < conditional_probability(['COMPANY', 'DC'], ['ALIGN', 'Good Characters']) < 1\n",
       "            NameError: name 'conditional_probability' is not defined\n",
       "\n",
       "    q7_4 - 2 result:\n",
       "        Trying:\n",
       "            np.isclose(conditional_probability(['COMPANY', 'DC'], ['ALIGN', 'Good Characters']), p_dc_given_good)\n",
       "        Expecting:\n",
       "            True\n",
       "        **********************************************************************\n",
       "        Line 1, in q7_4 1\n",
       "        Failed example:\n",
       "            np.isclose(conditional_probability(['COMPANY', 'DC'], ['ALIGN', 'Good Characters']), p_dc_given_good)\n",
       "        Exception raised:\n",
       "            Traceback (most recent call last):\n",
       "              File \"/opt/conda/lib/python3.9/doctest.py\", line 1336, in __run\n",
       "                exec(compile(example.source, filename, \"single\",\n",
       "              File \"<doctest q7_4 1[0]>\", line 1, in <module>\n",
       "                np.isclose(conditional_probability(['COMPANY', 'DC'], ['ALIGN', 'Good Characters']), p_dc_given_good)\n",
       "            NameError: name 'conditional_probability' is not defined\n",
       "\n",
       "q7_5 results:\n",
       "    q7_5 - 1 result:\n",
       "        Trying:\n",
       "            0 < p_blue_eyes_given_black_hair < 1 and 0 < p_black_hair_given_blue_eyes < 1\n",
       "        Expecting:\n",
       "            True\n",
       "        **********************************************************************\n",
       "        Line 1, in q7_5 0\n",
       "        Failed example:\n",
       "            0 < p_blue_eyes_given_black_hair < 1 and 0 < p_black_hair_given_blue_eyes < 1\n",
       "        Exception raised:\n",
       "            Traceback (most recent call last):\n",
       "              File \"/opt/conda/lib/python3.9/doctest.py\", line 1336, in __run\n",
       "                exec(compile(example.source, filename, \"single\",\n",
       "              File \"<doctest q7_5 0[0]>\", line 1, in <module>\n",
       "                0 < p_blue_eyes_given_black_hair < 1 and 0 < p_black_hair_given_blue_eyes < 1\n",
       "            NameError: name 'p_blue_eyes_given_black_hair' is not defined\n",
       "\n",
       "q7_6 results:\n",
       "    q7_6 - 1 result:\n",
       "        Trying:\n",
       "            can_determine in [True, False]\n",
       "        Expecting:\n",
       "            True\n",
       "        **********************************************************************\n",
       "        Line 1, in q7_6 0\n",
       "        Failed example:\n",
       "            can_determine in [True, False]\n",
       "        Exception raised:\n",
       "            Traceback (most recent call last):\n",
       "              File \"/opt/conda/lib/python3.9/doctest.py\", line 1336, in __run\n",
       "                exec(compile(example.source, filename, \"single\",\n",
       "              File \"<doctest q7_6 0[0]>\", line 1, in <module>\n",
       "                can_determine in [True, False]\n",
       "            NameError: name 'can_determine' is not defined\n",
       "\n",
       "q7_7 results:\n",
       "    q7_7 - 1 result:\n",
       "        Trying:\n",
       "            callable(conditional_probability_multiple) and 0 < conditional_probability_multiple(['COMPANY', 'DC'], [['ALIGN', 'Good Characters']]) < 1\n",
       "        Expecting:\n",
       "            True\n",
       "        **********************************************************************\n",
       "        Line 1, in q7_7 0\n",
       "        Failed example:\n",
       "            callable(conditional_probability_multiple) and 0 < conditional_probability_multiple(['COMPANY', 'DC'], [['ALIGN', 'Good Characters']]) < 1\n",
       "        Exception raised:\n",
       "            Traceback (most recent call last):\n",
       "              File \"/opt/conda/lib/python3.9/doctest.py\", line 1336, in __run\n",
       "                exec(compile(example.source, filename, \"single\",\n",
       "              File \"<doctest q7_7 0[0]>\", line 1, in <module>\n",
       "                callable(conditional_probability_multiple) and 0 < conditional_probability_multiple(['COMPANY', 'DC'], [['ALIGN', 'Good Characters']]) < 1\n",
       "            NameError: name 'conditional_probability_multiple' is not defined\n",
       "\n",
       "q7_8 results:\n",
       "    q7_8 - 1 result:\n",
       "        Trying:\n",
       "            0 < p_dc_given_red_blue < 1\n",
       "        Expecting:\n",
       "            True\n",
       "        **********************************************************************\n",
       "        Line 1, in q7_8 0\n",
       "        Failed example:\n",
       "            0 < p_dc_given_red_blue < 1\n",
       "        Exception raised:\n",
       "            Traceback (most recent call last):\n",
       "              File \"/opt/conda/lib/python3.9/doctest.py\", line 1336, in __run\n",
       "                exec(compile(example.source, filename, \"single\",\n",
       "              File \"<doctest q7_8 0[0]>\", line 1, in <module>\n",
       "                0 < p_dc_given_red_blue < 1\n",
       "            NameError: name 'p_dc_given_red_blue' is not defined\n",
       "\n",
       "q8_1 results:\n",
       "    q8_1 - 1 result:\n",
       "        Trying:\n",
       "            0 < p_wolverine_spiderman < 1\n",
       "        Expecting:\n",
       "            True\n",
       "        **********************************************************************\n",
       "        Line 1, in q8_1 0\n",
       "        Failed example:\n",
       "            0 < p_wolverine_spiderman < 1\n",
       "        Exception raised:\n",
       "            Traceback (most recent call last):\n",
       "              File \"/opt/conda/lib/python3.9/doctest.py\", line 1336, in __run\n",
       "                exec(compile(example.source, filename, \"single\",\n",
       "              File \"<doctest q8_1 0[0]>\", line 1, in <module>\n",
       "                0 < p_wolverine_spiderman < 1\n",
       "            NameError: name 'p_wolverine_spiderman' is not defined\n",
       "\n",
       "q8_2 results:\n",
       "    q8_2 - 1 result:\n",
       "        Trying:\n",
       "            0 < p_iron_thor < 1\n",
       "        Expecting:\n",
       "            True\n",
       "        **********************************************************************\n",
       "        Line 1, in q8_2 0\n",
       "        Failed example:\n",
       "            0 < p_iron_thor < 1\n",
       "        Exception raised:\n",
       "            Traceback (most recent call last):\n",
       "              File \"/opt/conda/lib/python3.9/doctest.py\", line 1336, in __run\n",
       "                exec(compile(example.source, filename, \"single\",\n",
       "              File \"<doctest q8_2 0[0]>\", line 1, in <module>\n",
       "                0 < p_iron_thor < 1\n",
       "            NameError: name 'p_iron_thor' is not defined\n",
       "\n",
       "q8_3 results:\n",
       "    q8_3 - 1 result:\n",
       "        Trying:\n",
       "            0 < p_both_different < 1\n",
       "        Expecting:\n",
       "            True\n",
       "        **********************************************************************\n",
       "        Line 1, in q8_3 0\n",
       "        Failed example:\n",
       "            0 < p_both_different < 1\n",
       "        Exception raised:\n",
       "            Traceback (most recent call last):\n",
       "              File \"/opt/conda/lib/python3.9/doctest.py\", line 1336, in __run\n",
       "                exec(compile(example.source, filename, \"single\",\n",
       "              File \"<doctest q8_3 0[0]>\", line 1, in <module>\n",
       "                0 < p_both_different < 1\n",
       "            NameError: name 'p_both_different' is not defined\n",
       "\n",
       "q8_4 results:\n",
       "    q8_4 - 1 result:\n",
       "        Trying:\n",
       "            0 < p_ironman_internal < 1\n",
       "        Expecting:\n",
       "            True\n",
       "        **********************************************************************\n",
       "        Line 1, in q8_4 0\n",
       "        Failed example:\n",
       "            0 < p_ironman_internal < 1\n",
       "        Exception raised:\n",
       "            Traceback (most recent call last):\n",
       "              File \"/opt/conda/lib/python3.9/doctest.py\", line 1336, in __run\n",
       "                exec(compile(example.source, filename, \"single\",\n",
       "              File \"<doctest q8_4 0[0]>\", line 1, in <module>\n",
       "                0 < p_ironman_internal < 1\n",
       "            NameError: name 'p_ironman_internal' is not defined\n",
       "\n",
       "q8_5 results:\n",
       "    q8_5 - 1 result:\n",
       "        Trying:\n",
       "            0 < p_ironman_internal_external < 1\n",
       "        Expecting:\n",
       "            True\n",
       "        **********************************************************************\n",
       "        Line 1, in q8_5 0\n",
       "        Failed example:\n",
       "            0 < p_ironman_internal_external < 1\n",
       "        Exception raised:\n",
       "            Traceback (most recent call last):\n",
       "              File \"/opt/conda/lib/python3.9/doctest.py\", line 1336, in __run\n",
       "                exec(compile(example.source, filename, \"single\",\n",
       "              File \"<doctest q8_5 0[0]>\", line 1, in <module>\n",
       "                0 < p_ironman_internal_external < 1\n",
       "            NameError: name 'p_ironman_internal_external' is not defined\n",
       "\n",
       "q9_1 results:\n",
       "    q9_1 - 1 result:\n",
       "        Trying:\n",
       "            0 < p_bundle_dc_only < 1\n",
       "        Expecting:\n",
       "            True\n",
       "        **********************************************************************\n",
       "        Line 1, in q9_1 0\n",
       "        Failed example:\n",
       "            0 < p_bundle_dc_only < 1\n",
       "        Exception raised:\n",
       "            Traceback (most recent call last):\n",
       "              File \"/opt/conda/lib/python3.9/doctest.py\", line 1336, in __run\n",
       "                exec(compile(example.source, filename, \"single\",\n",
       "              File \"<doctest q9_1 0[0]>\", line 1, in <module>\n",
       "                0 < p_bundle_dc_only < 1\n",
       "            NameError: name 'p_bundle_dc_only' is not defined\n",
       "\n",
       "q9_2 results:\n",
       "    q9_2 - 1 result:\n",
       "        Trying:\n",
       "            0 < p_2_dc < 1\n",
       "        Expecting:\n",
       "            True\n",
       "        **********************************************************************\n",
       "        Line 1, in q9_2 0\n",
       "        Failed example:\n",
       "            0 < p_2_dc < 1\n",
       "        Exception raised:\n",
       "            Traceback (most recent call last):\n",
       "              File \"/opt/conda/lib/python3.9/doctest.py\", line 1336, in __run\n",
       "                exec(compile(example.source, filename, \"single\",\n",
       "              File \"<doctest q9_2 0[0]>\", line 1, in <module>\n",
       "                0 < p_2_dc < 1\n",
       "            NameError: name 'p_2_dc' is not defined\n",
       "\n",
       "q9_3 results:\n",
       "    q9_3 - 1 result:\n",
       "        Trying:\n",
       "            len(simulated_dc_counts) == n_reps\n",
       "        Expecting:\n",
       "            True\n",
       "        **********************************************************************\n",
       "        Line 1, in q9_3 0\n",
       "        Failed example:\n",
       "            len(simulated_dc_counts) == n_reps\n",
       "        Exception raised:\n",
       "            Traceback (most recent call last):\n",
       "              File \"/opt/conda/lib/python3.9/doctest.py\", line 1336, in __run\n",
       "                exec(compile(example.source, filename, \"single\",\n",
       "              File \"<doctest q9_3 0[0]>\", line 1, in <module>\n",
       "                len(simulated_dc_counts) == n_reps\n",
       "            NameError: name 'simulated_dc_counts' is not defined\n",
       "\n",
       "    q9_3 - 2 result:\n",
       "        Trying:\n",
       "            np.all((simulated_dc_counts >= 0) & (simulated_dc_counts <= 5))\n",
       "        Expecting:\n",
       "            True\n",
       "        **********************************************************************\n",
       "        Line 1, in q9_3 1\n",
       "        Failed example:\n",
       "            np.all((simulated_dc_counts >= 0) & (simulated_dc_counts <= 5))\n",
       "        Exception raised:\n",
       "            Traceback (most recent call last):\n",
       "              File \"/opt/conda/lib/python3.9/doctest.py\", line 1336, in __run\n",
       "                exec(compile(example.source, filename, \"single\",\n",
       "              File \"<doctest q9_3 1[0]>\", line 1, in <module>\n",
       "                np.all((simulated_dc_counts >= 0) & (simulated_dc_counts <= 5))\n",
       "            NameError: name 'simulated_dc_counts' is not defined\n",
       "\n",
       "q9_4 results:\n",
       "    q9_4 - 1 result:\n",
       "        Trying:\n",
       "            0 < p_most_frequent < 1\n",
       "        Expecting:\n",
       "            True\n",
       "        **********************************************************************\n",
       "        Line 1, in q9_4 0\n",
       "        Failed example:\n",
       "            0 < p_most_frequent < 1\n",
       "        Exception raised:\n",
       "            Traceback (most recent call last):\n",
       "              File \"/opt/conda/lib/python3.9/doctest.py\", line 1336, in __run\n",
       "                exec(compile(example.source, filename, \"single\",\n",
       "              File \"<doctest q9_4 0[0]>\", line 1, in <module>\n",
       "                0 < p_most_frequent < 1\n",
       "            NameError: name 'p_most_frequent' is not defined"
      ]
     },
     "execution_count": 100,
     "metadata": {},
     "output_type": "execute_result"
    }
   ],
   "source": [
    "grader.check_all()"
   ]
  },
  {
   "cell_type": "code",
   "execution_count": null,
   "metadata": {},
   "outputs": [],
   "source": []
  }
 ],
 "metadata": {
  "interpreter": {
   "hash": "aee8b7b246df8f9039afb4144a1f6fd8d2ca17a180786b69acc140d282b71a49"
  },
  "kernelspec": {
   "display_name": "Python 3 (ipykernel)",
   "language": "python",
   "name": "python3"
  },
  "language_info": {
   "codemirror_mode": {
    "name": "ipython",
    "version": 3
   },
   "file_extension": ".py",
   "mimetype": "text/x-python",
   "name": "python",
   "nbconvert_exporter": "python",
   "pygments_lexer": "ipython3",
   "version": "3.9.5"
  },
  "toc": {
   "base_numbering": 1,
   "nav_menu": {},
   "number_sections": true,
   "sideBar": true,
   "skip_h1_title": false,
   "title_cell": "Table of Contents",
   "title_sidebar": "Contents",
   "toc_cell": false,
   "toc_position": {},
   "toc_section_display": true,
   "toc_window_display": false
  }
 },
 "nbformat": 4,
 "nbformat_minor": 4
}
